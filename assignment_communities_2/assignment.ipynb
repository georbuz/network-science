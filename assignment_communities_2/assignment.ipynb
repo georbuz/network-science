{
 "cells": [
  {
   "cell_type": "markdown",
   "metadata": {},
   "source": [
    "# Assignment — Community Detection part 2"
   ]
  },
  {
   "cell_type": "code",
   "execution_count": null,
   "metadata": {},
   "outputs": [],
   "source": [
    "import networkx as nx\n",
    "import numpy as np\n",
    "import matplotlib.pyplot as plt\n",
    "from IPython.display import clear_output\n",
    "from zlib import adler32"
   ]
  },
  {
   "cell_type": "markdown",
   "metadata": {},
   "source": [
    "### Task 1. Louvain method (1.5 points)"
   ]
  },
  {
   "cell_type": "markdown",
   "metadata": {},
   "source": [
    "Louvain method is one of the mostcited works in the community detection literature. It is a simple method to extract the community structure of large networks. This method is a heuristic method that is based on modularity optimization. Let us consider this method on a fractal graph that can represent some biological structure."
   ]
  },
  {
   "cell_type": "code",
   "execution_count": null,
   "metadata": {
    "deletable": false,
    "editable": false,
    "nbgrader": {
     "cell_type": "code",
     "checksum": "2931d7fb43bd324275afe5442a09626d",
     "grade": false,
     "grade_id": "cell-3e5a44deaa166ba6",
     "locked": true,
     "schema_version": 3,
     "solution": false,
     "task": false
    }
   },
   "outputs": [],
   "source": [
    "def fractal_graph(n, k, G):\n",
    "    if k == 0:\n",
    "        return G\n",
    "    for node in list(G.nodes):\n",
    "        newG = nx.complete_graph(n)\n",
    "        newG = nx.relabel_nodes(newG, {node:max(G.nodes)+node+1 for node in newG.nodes})\n",
    "        G = nx.union(G, newG)\n",
    "        for edge in G.edges(node):\n",
    "            G.add_edge(list(G.nodes)[-1], edge[1])\n",
    "        G.remove_node(node)\n",
    "    return fractal_graph(n, k-1, G)"
   ]
  },
  {
   "cell_type": "code",
   "execution_count": null,
   "metadata": {},
   "outputs": [],
   "source": [
    "n = 4\n",
    "fractalG = fractal_graph(n, 3, nx.complete_graph(n))\n",
    "\n",
    "plt.figure(figsize=(8, 8))\n",
    "frac_pos = nx.kamada_kawai_layout(fractalG)\n",
    "nx.draw_networkx_nodes(fractalG, frac_pos, node_color='white', \n",
    "                       edgecolors='black', node_size=100)\n",
    "nx.draw_networkx_edges(fractalG, frac_pos, alpha=0.3)\n",
    "plt.axis('off')\n",
    "plt.show()"
   ]
  },
  {
   "cell_type": "markdown",
   "metadata": {},
   "source": [
    "Louvain method is a greedy algorithm of modularity gain that is described as: \n",
    "\n",
    "Phase 1\n",
    "1. Put each node in its own community\n",
    "2. For every node, calculate modularity gain by removing it from its community and placing it in neighbor's community\n",
    "3. Put a node in the community with maximal modularity gain\n",
    "4. Repeat 2, 3 until modularity stops increasing\n",
    "\n",
    "Phase 2\n",
    "1. Merge communities into ”super nodes”\n",
    "2. Convert edges inside community into self loop, edges between communities into parallel edges\n",
    "\n",
    "Repeat phases 1, 2 until modularity stops increasing."
   ]
  },
  {
   "cell_type": "code",
   "execution_count": null,
   "metadata": {
    "deletable": false,
    "editable": false,
    "nbgrader": {
     "cell_type": "code",
     "checksum": "dd35e38367e1dd12940ebfb925ad9fec",
     "grade": false,
     "grade_id": "cell-21599c44baefbf81",
     "locked": true,
     "schema_version": 3,
     "solution": false,
     "task": false
    }
   },
   "outputs": [],
   "source": [
    "def louvain_method(G):\n",
    "    \n",
    "    # Phase 1\n",
    "    communities = unfolded_communities(G)\n",
    "    labels = []\n",
    "    for node in G.nodes:\n",
    "        for i, c in enumerate(communities):\n",
    "            if node in c:\n",
    "                labels.append(i)\n",
    "    \n",
    "    # Phase 2\n",
    "    nextG = nx.empty_graph(len(communities), nx.MultiGraph)\n",
    "    for e in G.edges:\n",
    "        for i in range(len(communities)):\n",
    "            for j in range(len(communities)):\n",
    "                if e[0] in communities[i] and e[1] in communities[j]:\n",
    "                    nextG.add_edge(i, j)\n",
    "                    \n",
    "    # Shuffle colors for better visualization\n",
    "    palette = np.unique(labels)\n",
    "    key = np.random.permutation(palette)\n",
    "    labels = key[np.digitize(labels, palette, right=True)]\n",
    "    \n",
    "    return communities, labels, nextG"
   ]
  },
  {
   "cell_type": "markdown",
   "metadata": {},
   "source": [
    "Write a function `unfolded_communities` that takes a graph, performs Phase 1 and returns np.array of communities with nodes. For example, if there are two communitites: the first is [1,2] and the second is [3,4,5] then the output will be [[1,2],[3,4,5]]."
   ]
  },
  {
   "cell_type": "code",
   "execution_count": null,
   "metadata": {
    "deletable": false,
    "nbgrader": {
     "cell_type": "code",
     "checksum": "4808b9f4a081116719c3e05a4bdc4ea6",
     "grade": false,
     "grade_id": "cell-fa81e37b363ca9d3",
     "locked": false,
     "schema_version": 3,
     "solution": true,
     "task": false
    }
   },
   "outputs": [],
   "source": [
    "def unfolded_communities(G):\n",
    "    # Proposed template:\n",
    "    communities = [[n] for n in G.nodes] # initial partition\n",
    "    prev_max_modularity = -np.inf\n",
    "    max_modularity = nx.algorithms.community.modularity(G, communities)\n",
    "    while max_modularity > prev_max_modularity:\n",
    "        prev_max_modularity = max_modularity\n",
    "        for node in np.random.permutation(G.nodes):\n",
    "            '''\n",
    "            1) Remove the node from the initial community.\n",
    "            2) Iterate all neighboring communities and move the node\n",
    "               into a community with the maximum modularity gain. If \n",
    "               there is no modularity gain, return the node into the \n",
    "               initial community.\n",
    "            '''\n",
    "            # YOUR CODE HERE\n",
    "            raise NotImplementedError()\n",
    "    return [c for c in communities if len(c)]"
   ]
  },
  {
   "cell_type": "code",
   "execution_count": null,
   "metadata": {
    "deletable": false,
    "editable": false,
    "nbgrader": {
     "cell_type": "code",
     "checksum": "63d77603048497fed71242578084173f",
     "grade": true,
     "grade_id": "cell-fb6cb3a4447ea08c",
     "locked": true,
     "points": 1.5,
     "schema_version": 3,
     "solution": false,
     "task": false
    }
   },
   "outputs": [],
   "source": [
    "n = 4\n",
    "fractalG = fractal_graph(n, 2, nx.complete_graph(n))\n",
    "iterG = fractalG.copy()\n",
    "communities, labels, nextG = louvain_method(iterG)\n",
    "\n",
    "assert len(set(labels)) == 16\n",
    "assert len(set(labels[52:56])) == 1\n",
    "assert len(set(labels[52:57])) == 2\n",
    "assert nextG.number_of_nodes() == 16\n",
    "assert round(np.linalg.det(nx.to_numpy_array(nextG)) * 1e-10, 4) == 136.5257"
   ]
  },
  {
   "cell_type": "markdown",
   "metadata": {},
   "source": [
    "Let us see unfolding iterations. For every iteration we draw a graph where node color corresponds to the unfolded community."
   ]
  },
  {
   "cell_type": "code",
   "execution_count": null,
   "metadata": {},
   "outputs": [],
   "source": [
    "n = 4\n",
    "fractalG = fractal_graph(n, 3, nx.complete_graph(n))\n",
    "iterG = fractalG\n",
    "\n",
    "plt.figure(figsize=(7, 7*3))\n",
    "for i in range(3):\n",
    "    plt.subplot(3, 1, i+1)\n",
    "    communities, labels, nextG = louvain_method(iterG)\n",
    "    iter_pos = nx.kamada_kawai_layout(iterG)\n",
    "    nodes = nx.draw_networkx_nodes(\n",
    "        iterG,\n",
    "        iter_pos,\n",
    "        cmap=plt.cm.rainbow,\n",
    "        node_color=labels,\n",
    "        edgecolors='black',\n",
    "        node_size=100)\n",
    "    nx.draw_networkx_edges(\n",
    "        iterG,\n",
    "        iter_pos,\n",
    "        node_size=100)\n",
    "    plt.axis('off')\n",
    "    plt.title(\n",
    "        '{} nodes, {} communities \\nModularity {:.2f}'.format(\n",
    "            len(iterG), len(communities), nx.community.modularity(iterG, communities)))\n",
    "    iterG = nextG"
   ]
  },
  {
   "cell_type": "markdown",
   "metadata": {},
   "source": [
    "### Task 2. Ego-Splitting (1.5 points)"
   ]
  },
  {
   "cell_type": "markdown",
   "metadata": {},
   "source": [
    "Ego-Splitting is a framework for detecting clusters in complex networks which leverage the local structures known as ego-nets (i.e. the subgraph induced by the neighborhood of each node) to detect overlapping clusters. Ego-splittng is a highly scalable and flexible framework, with provable theoretical guarantees, that reduces the complex overlapping clustering problem to a simpler and more amenable non-overlapping (partitioning) problem."
   ]
  },
  {
   "cell_type": "markdown",
   "metadata": {},
   "source": [
    "Let us consider the algorithm on this small graph."
   ]
  },
  {
   "cell_type": "code",
   "execution_count": null,
   "metadata": {},
   "outputs": [],
   "source": [
    "adjlist = [\n",
    "    'a b c e h g i',\n",
    "    'f b c e h g i',\n",
    "    'b e c',\n",
    "    'g i h',\n",
    "    'e c d',\n",
    "    'c d',\n",
    "    'i h j',\n",
    "    'h j',\n",
    "    'j d k',\n",
    "    'd k'\n",
    "]\n",
    "G = nx.parse_adjlist(adjlist)\n",
    "plt.figure(figsize=(5, 5))\n",
    "nx.draw_networkx(G, pos=nx.kamada_kawai_layout(G), \n",
    "                 node_size=400, node_color='lightgray')\n",
    "plt.axis('off');"
   ]
  },
  {
   "cell_type": "markdown",
   "metadata": {},
   "source": [
    "The ego-splitting algorithm processes a graph $G = (V, E)$ and outputs a set of clusters $S$ as follows:\n",
    "1. For each node $u$ we use the local clustering algorithm to partition the ego-net of $u$.\n",
    "2. Create a set $V'$ of personas. Each node $u$ in $V$ will correspond to $t_u$ personas in $V'$.\n",
    "3. Add edges between personas.\n",
    "4. Apply the global clustering algorithm."
   ]
  },
  {
   "cell_type": "markdown",
   "metadata": {},
   "source": [
    "![](https://raw.githubusercontent.com/netspractice/network-science/main/assignment_communities_2/ego_splitting.png)"
   ]
  },
  {
   "cell_type": "code",
   "execution_count": null,
   "metadata": {
    "deletable": false,
    "editable": false,
    "nbgrader": {
     "cell_type": "code",
     "checksum": "257c2920d75e96b8040650012f7138ae",
     "grade": false,
     "grade_id": "cell-c6992274eca070b4",
     "locked": true,
     "schema_version": 3,
     "solution": false,
     "task": false
    }
   },
   "outputs": [],
   "source": [
    "def ego_splitting(graph):\n",
    "    ego_nets = generate_ego_nets(graph)\n",
    "    persona_graph = generate_persona_graph(ego_nets)\n",
    "    return persona_clustering(personaG)"
   ]
  },
  {
   "cell_type": "markdown",
   "metadata": {},
   "source": [
    "Write a function `generate_ego_nets` that takes a graph and returns a dictionary where keys are nodes and values are their ego-nets:\n",
    "\n",
    "`{'a': ego-net of the node a, 'b': ego-net of the node b, ...}`\n",
    "\n",
    "Ego-net *does not* include the ego-node.\n",
    "\n",
    "*Hint: use `nx.ego_graph`*"
   ]
  },
  {
   "cell_type": "code",
   "execution_count": null,
   "metadata": {
    "deletable": false,
    "nbgrader": {
     "cell_type": "code",
     "checksum": "39a8e88dfed4b923ddb5f9e0b40173f9",
     "grade": false,
     "grade_id": "cell-179c8ceed0004966",
     "locked": false,
     "schema_version": 3,
     "solution": true,
     "task": false
    }
   },
   "outputs": [],
   "source": [
    "def generate_ego_nets(graph):\n",
    "    # YOUR CODE HERE\n",
    "    raise NotImplementedError()"
   ]
  },
  {
   "cell_type": "code",
   "execution_count": null,
   "metadata": {
    "deletable": false,
    "editable": false,
    "nbgrader": {
     "cell_type": "code",
     "checksum": "957977561de6aff76eb8f297b93077f0",
     "grade": true,
     "grade_id": "cell-e9a468663cd92c49",
     "locked": true,
     "points": 0.7,
     "schema_version": 3,
     "solution": false,
     "task": false
    }
   },
   "outputs": [],
   "source": [
    "ego_nets = generate_ego_nets(G)\n",
    "assert set(ego_nets.keys()) == {'a', 'b', 'c', 'd', 'e', 'f', 'g', 'h', 'i', 'j', 'k'}\n",
    "assert set(ego_nets['d'].nodes) == {'c', 'e', 'j', 'k'}\n",
    "assert set(ego_nets['f'].nodes) == {'b', 'c', 'e', 'g', 'h', 'i'}"
   ]
  },
  {
   "cell_type": "code",
   "execution_count": null,
   "metadata": {},
   "outputs": [],
   "source": [
    "nx.draw_networkx(ego_nets['f'], pos=nx.kamada_kawai_layout(G), \n",
    "        node_color='lightgray', node_size=400)\n",
    "plt.title('Ego-net of the node f')\n",
    "plt.axis('off')\n",
    "plt.show()"
   ]
  },
  {
   "cell_type": "markdown",
   "metadata": {},
   "source": [
    "Next, we need to split each ego-net using any clustering method. Let it be the simple connected component detection method. "
   ]
  },
  {
   "cell_type": "code",
   "execution_count": null,
   "metadata": {
    "deletable": false,
    "editable": false,
    "nbgrader": {
     "cell_type": "code",
     "checksum": "62cafb7a10d2aa3b7c6c8c8992b05d98",
     "grade": false,
     "grade_id": "cell-95005b99ee9acd1b",
     "locked": true,
     "schema_version": 3,
     "solution": false,
     "task": false
    }
   },
   "outputs": [],
   "source": [
    "def ego_clustering(graph):\n",
    "    return [cc for cc in nx.connected_components(graph)]"
   ]
  },
  {
   "cell_type": "markdown",
   "metadata": {},
   "source": [
    "Write a function `generate_persona_graph` that takes an ego-net dictionary and returns a persona graph:\n",
    "1. Apply ego clustering for each ego-net.\n",
    "2. Add a replica of the ego-node into each cluster and link it to each member. If there is more than one cluster then the replica name is the node name + cluster index. For example, if the ego-net `a` has clusters `[b, c]` and `[d]` then we add edges `[a0, b]`, `[a0, c]` and `[a1, d]`. Otherwise, the replica name is the node name.\n",
    "3. Union all ego-nets into persona graph. Remove all nodes that has replicas. For example, if the graph has nodes `a`, `a0`, `a1`, then remove the node `a`."
   ]
  },
  {
   "cell_type": "code",
   "execution_count": null,
   "metadata": {
    "deletable": false,
    "nbgrader": {
     "cell_type": "code",
     "checksum": "f3d4d56a1f2f3b4173789e1810601c3c",
     "grade": false,
     "grade_id": "cell-91ff677c8729f5bf",
     "locked": false,
     "schema_version": 3,
     "solution": true,
     "task": false
    }
   },
   "outputs": [],
   "source": [
    "def generate_persona_graph(ego_nets):\n",
    "    # YOUR CODE HERE\n",
    "    raise NotImplementedError()"
   ]
  },
  {
   "cell_type": "code",
   "execution_count": null,
   "metadata": {
    "deletable": false,
    "editable": false,
    "nbgrader": {
     "cell_type": "code",
     "checksum": "721173060c4fb4ba9584e47e79025472",
     "grade": true,
     "grade_id": "cell-964d19c73fa2da58",
     "locked": true,
     "points": 0.8,
     "schema_version": 3,
     "solution": false,
     "task": false
    }
   },
   "outputs": [],
   "source": [
    "ego_nets = generate_ego_nets(G)\n",
    "personaG = generate_persona_graph(ego_nets)\n",
    "assert set(personaG.nodes) == {'i', 'f0', 'k', 'c', 'd0', 'a0', 'g', 'j0', 'e', 'h', 'd1', 'a1', 'j1', 'f1', 'b'}\n",
    "assert {i[0] for i in personaG.neighbors('k')} == {'d', 'j'}\n",
    "assert {i[0] for i in personaG.neighbors('g')} == {'a', 'f', 'h', 'i'}"
   ]
  },
  {
   "cell_type": "markdown",
   "metadata": {},
   "source": [
    "Finally, we need to apply any clustering algorithm for the persona graph. Let it again be the simple connected component detection algorithm. Also, here we remove the cluster indexes from node names."
   ]
  },
  {
   "cell_type": "code",
   "execution_count": null,
   "metadata": {
    "deletable": false,
    "editable": false,
    "nbgrader": {
     "cell_type": "code",
     "checksum": "d0f196d1ffe8b8a78d9993eaca0f75b6",
     "grade": false,
     "grade_id": "cell-e1224bd9ceeb3e42",
     "locked": true,
     "schema_version": 3,
     "solution": false,
     "task": false
    }
   },
   "outputs": [],
   "source": [
    "def persona_clustering(graph):\n",
    "    communities = [cc for cc in nx.connected_components(graph)]\n",
    "    for c in communities:\n",
    "        for node in c:\n",
    "            c.remove(node)\n",
    "            c.add(node[0])\n",
    "    return communities"
   ]
  },
  {
   "cell_type": "code",
   "execution_count": null,
   "metadata": {},
   "outputs": [],
   "source": [
    "plt.figure(figsize=(15, 5))\n",
    "pos = nx.kamada_kawai_layout(G)\n",
    "c_colors = ['tab:orange', 'tab:blue', 'tab:green']\n",
    "for i, c in enumerate(ego_splitting(G)):\n",
    "    plt.subplot(1, 3, i+1)\n",
    "    color = []\n",
    "    for node in G.nodes:\n",
    "        color.append(c_colors[i] if node in c else 'white')\n",
    "    nx.draw_networkx(G, pos=pos, node_color=color, \n",
    "                     edgecolors='black', node_size=400)\n",
    "    plt.axis('off')\n",
    "    plt.title('Colored nodes are in the community {}'.format(i+1))"
   ]
  },
  {
   "cell_type": "markdown",
   "metadata": {},
   "source": [
    "### Task 3. Label propogation (7 points)"
   ]
  },
  {
   "cell_type": "markdown",
   "metadata": {},
   "source": [
    "The label propogation method is based on the simple idea: every node is initialized with a unique label and at every step each node adopts the label that most of its neighbors currently have.\n",
    "\n",
    "Write a function `update_labels` that takes a graph, np.array with labels in order `graph.nodes` and returns new labels. Label of the node is the random label occurring with the highest frequency among neighbors at the previous step. The order in which all the n nodes in the network are updated at each iteration is chosen randomly."
   ]
  },
  {
   "cell_type": "code",
   "execution_count": null,
   "metadata": {
    "deletable": false,
    "nbgrader": {
     "cell_type": "code",
     "checksum": "92d291709bc3f25a4d3f5cbbad7952c6",
     "grade": false,
     "grade_id": "cell-c5b24d3f2a43f307",
     "locked": false,
     "schema_version": 3,
     "solution": true,
     "task": false
    }
   },
   "outputs": [],
   "source": [
    "def update_labels(graph, labels):\n",
    "    # YOUR CODE HERE\n",
    "    raise NotImplementedError()"
   ]
  },
  {
   "cell_type": "code",
   "execution_count": null,
   "metadata": {
    "deletable": false,
    "editable": false,
    "nbgrader": {
     "cell_type": "code",
     "checksum": "daff405c85296803a36cb41ca10c2736",
     "grade": true,
     "grade_id": "cell-5ffe01098dbcbfbd",
     "locked": true,
     "points": 3,
     "schema_version": 3,
     "solution": false,
     "task": false
    }
   },
   "outputs": [],
   "source": [
    "G = nx.karate_club_graph()\n",
    "labels = np.array(list(G.nodes)) # initial partition\n",
    "new_labels = update_labels(G, labels)\n",
    "assert new_labels.shape == (34, )\n",
    "assert len(set(new_labels)) < len(set(labels))\n",
    "G = nx.star_graph(4)\n",
    "labels = np.array(list(G.nodes)) # initial partition\n",
    "for _ in range(5):\n",
    "    labels = update_labels(G, labels)\n",
    "new_labels = update_labels(G, labels)\n",
    "assert len(set(new_labels - labels)) == 2\n",
    "assert np.sum(list(set(new_labels - labels))) == 0"
   ]
  },
  {
   "cell_type": "code",
   "execution_count": null,
   "metadata": {},
   "outputs": [],
   "source": [
    "def plot_propogation(G, update_method, n=50):\n",
    "    pos=nx.kamada_kawai_layout(G)\n",
    "    labels = np.array(list(G.nodes))\n",
    "    for i in range(n):\n",
    "        clear_output(wait=True)\n",
    "        labels = update_method(G, labels)\n",
    "        plt.figure(figsize=(6, 6))\n",
    "        nx.draw_networkx_nodes(G, pos=pos, node_color=labels, cmap=plt.cm.tab10_r)\n",
    "        nx.draw_networkx_edges(G, pos=pos, alpha=0.2)\n",
    "        nx.draw_networkx_labels(G, pos=pos)\n",
    "        plt.axis('off')\n",
    "        plt.title('Iteration {}/{}'.format(i+1, n))\n",
    "        plt.show()"
   ]
  },
  {
   "cell_type": "code",
   "execution_count": null,
   "metadata": {},
   "outputs": [],
   "source": [
    "plot_propogation(nx.karate_club_graph(), update_labels)"
   ]
  },
  {
   "cell_type": "markdown",
   "metadata": {},
   "source": [
    "The problem however is that subgraphs in the network that are bi-partite or nearly bi-partite in structure lead to oscillations of labels.  This is especially true in cases where communities take the form of a star graph."
   ]
  },
  {
   "cell_type": "code",
   "execution_count": null,
   "metadata": {},
   "outputs": [],
   "source": [
    "plot_propogation(nx.star_graph(30), update_labels, 10)"
   ]
  },
  {
   "cell_type": "markdown",
   "metadata": {},
   "source": [
    "Hence we need to use asynchronous updating where some neighbors have already been updated in the current iteration while some neighbors are not yet updated in the current iteration.\n",
    "\n",
    "Write a function `async_update_labels` that make asynchronous label updating. The order in which all the n nodes in the network are updated at each iteration is chosen randomly."
   ]
  },
  {
   "cell_type": "code",
   "execution_count": null,
   "metadata": {
    "deletable": false,
    "nbgrader": {
     "cell_type": "code",
     "checksum": "593d69d04a8d304277fdef1df4bba21d",
     "grade": false,
     "grade_id": "cell-416353e8934258da",
     "locked": false,
     "schema_version": 3,
     "solution": true,
     "task": false
    }
   },
   "outputs": [],
   "source": [
    "def async_update_labels(graph, labels):\n",
    "    # YOUR CODE HERE\n",
    "    raise NotImplementedError()"
   ]
  },
  {
   "cell_type": "code",
   "execution_count": null,
   "metadata": {
    "deletable": false,
    "editable": false,
    "nbgrader": {
     "cell_type": "code",
     "checksum": "bf45e00a4451f35888c2a0b35603d637",
     "grade": true,
     "grade_id": "cell-c0271cbd0e8116aa",
     "locked": true,
     "points": 4,
     "schema_version": 3,
     "solution": false,
     "task": false
    }
   },
   "outputs": [],
   "source": [
    "G = nx.karate_club_graph()\n",
    "labels = np.array(list(G.nodes)) # initial partition\n",
    "new_labels = async_update_labels(G, labels)\n",
    "assert new_labels.shape == (34, )\n",
    "assert len(set(new_labels)) < len(set(labels))\n",
    "G = nx.star_graph(4)\n",
    "labels = np.array(list(G.nodes)) # initial partition\n",
    "for _ in range(5):\n",
    "    labels = async_update_labels(G, labels)\n",
    "new_labels = async_update_labels(G, labels)\n",
    "assert np.all(new_labels - labels == 0)"
   ]
  },
  {
   "cell_type": "code",
   "execution_count": null,
   "metadata": {},
   "outputs": [],
   "source": [
    "plot_propogation(nx.star_graph(30), async_update_labels, 10)"
   ]
  },
  {
   "cell_type": "code",
   "execution_count": null,
   "metadata": {},
   "outputs": [],
   "source": [
    "plot_propogation(nx.karate_club_graph(), async_update_labels, 30)"
   ]
  },
  {
   "cell_type": "code",
   "execution_count": null,
   "metadata": {},
   "outputs": [],
   "source": []
  }
 ],
 "metadata": {
  "kernelspec": {
   "display_name": "Python 3",
   "language": "python",
   "name": "python3"
  },
  "language_info": {
   "codemirror_mode": {
    "name": "ipython",
    "version": 3
   },
   "file_extension": ".py",
   "mimetype": "text/x-python",
   "name": "python",
   "nbconvert_exporter": "python",
   "pygments_lexer": "ipython3",
   "version": "3.7.4"
  }
 },
 "nbformat": 4,
 "nbformat_minor": 4
}
