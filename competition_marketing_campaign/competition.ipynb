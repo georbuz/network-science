{
 "cells": [
  {
   "cell_type": "markdown",
   "metadata": {},
   "source": [
    "# Competition — Marketing Campaign"
   ]
  },
  {
   "cell_type": "markdown",
   "metadata": {},
   "source": [
    "### Challenge Overview"
   ]
  },
  {
   "cell_type": "markdown",
   "metadata": {},
   "source": [
    "You are running the marketing campaign for a brand new pocket device. Initially you can sign contracts with a few people to advertize your gadget among their neigbours. The more \"famous\" person you are picking the greater price appears in the contract. Contract cost can be calculated as 300\\\\$ * NN(i), where NN(i) is the number of neigbours of the person i. If at least 18\\% a person's neighbors have already been affected, then he/she will also be affected tomorrow. You earn 50\\\\$ per each affected person. Every day you have to choose whether to sign new contracts or wait. You need time to discuss terms of a contract, so you cannot sign more than 10 contracts on the same day. Your task is to maximize profit of your campaign with an initial budget of 10,000\\\\$. Your campaign is considered completed after 60 days.\n",
    "\n",
    "Again, all parameters of the task:\n",
    "* Budget: 10,000\\\\$\n",
    "* Contract cost: 300$ * NN(i)\n",
    "* Income per person: 50\\\\$\n",
    "* Exposure threshold: 18%\n",
    "* Contracts limit: 10 per day\n",
    "* Time limit: 60 days\n",
    "\n",
    "A model of society is based on undirected SNAP Facebook network `edge_list.txt`"
   ]
  },
  {
   "cell_type": "markdown",
   "metadata": {},
   "source": [
    "### Evaluation Criteria"
   ]
  },
  {
   "cell_type": "markdown",
   "metadata": {},
   "source": [
    "On the leaderboard you will see three scores:\n",
    "* Profit — calculated as \"total amount of money at the end - initial budget\". This is the main score.\n",
    "* Accepted — the total number of accepted people at the end.\n",
    "* Days — the total duration of your campaign.\n",
    "\n",
    "**Baselines**\n",
    "\n",
    "Baselines are calculated as follows:\n",
    "1. Simultaneously sign 10 random contracts on the first day. Decrease the number of contracts if you do not have enough money\n",
    "1. Wait the end of the campaign and calculate your profit.\n",
    "1. Repeat 10000 times\n",
    "\n",
    "Baseline for grade 4: beat an average positive profit\n",
    "\n",
    "Baseline for grade 6: beat an average + standard deviation positive profit\n",
    "\n",
    "Baseline for grade 8: beat a maximum positive profit"
   ]
  },
  {
   "cell_type": "markdown",
   "metadata": {},
   "source": [
    "### Submission Guidelines"
   ]
  },
  {
   "cell_type": "markdown",
   "metadata": {},
   "source": [
    "Submit a txt with days and contracts which will be signed. That looks like a python dict object, the key is a day, the value is a list of counterparties. Numbering of days from 0. \n",
    "\n",
    "**Example 1**\n",
    "```\n",
    "{\n",
    "    # On the first day, I will sign contracts with 47 and 138\n",
    "    0: [47, 138],\n",
    "    # On the third day, I will sign 2 more contracts\n",
    "    2: [3789, 262]\n",
    "}\n",
    "```\n",
    "\n",
    "Result of this campaign: \n",
    "\n",
    "* Profit: -2350\n",
    "* Days: 10\n",
    "* Affected: 29\n",
    "\n",
    "**Example 2**\n",
    "```\n",
    "{\n",
    "    # I do not want to do anything\n",
    "}\n",
    "```\n",
    "\n",
    "Result of this campaign: \n",
    "* Profit: 0\n",
    "* Days: 1\n",
    "* Affected: 0\n",
    "\n",
    "**Exceptions**\n",
    "\n",
    "You may encounter two types of exceptions after submission:\n",
    "1. You cannot sign more than 10 contracts at the same day.\n",
    "1. Not enough money for the contract with 2919. The contract cost is 300\\\\$, you have only 100\\\\$.\n",
    "\n",
    "In this case, the evaluation will be interrupted and your scores will not be calculated. You can find log files with detailed information on the My Submissions page, stdout file. To sign a contract with an already affected person is not a problem, you will just waste your money."
   ]
  },
  {
   "cell_type": "code",
   "execution_count": 1,
   "metadata": {},
   "outputs": [],
   "source": [
    "import numpy as np\n",
    "import networkx as nx\n",
    "from tqdm.notebook import tqdm"
   ]
  },
  {
   "cell_type": "code",
   "execution_count": 2,
   "metadata": {},
   "outputs": [],
   "source": [
    "def contract_cost(G, node):\n",
    "    num_neighbours = len(list(G.neighbors(node)))\n",
    "    return 300 * num_neighbours\n",
    "\n",
    "\n",
    "def make_affected(G, node):\n",
    "    # True if we should make node affected\n",
    "    neighbours = list(G.neighbors(node))\n",
    "    num_neighbours = len(neighbours)\n",
    "    num_affected = len([n for n in neighbours if G.nodes[n][\"affected\"] == 1])\n",
    "    return num_affected / num_neighbours >= 0.18\n",
    "\n",
    "\n",
    "def get_num_affected(G):\n",
    "    affected = [n for n in G.nodes if G.nodes[n][\"affected\"] == 1]\n",
    "    num_affected = len(affected)\n",
    "    return num_affected\n",
    "\n",
    "\n",
    "def sign_contracts(G, available_budget, affected_nodes=None):\n",
    "    nodes = list(G.nodes)\n",
    "    \n",
    "    asd = {node: len(list(G.neighbors(node))) for node in G.nodes}\n",
    "    nodes = list(dict(sorted(asd.items(), key=lambda item: item[1], reverse=True)).keys())\n",
    "    \n",
    "    chosen_nodes = []\n",
    "    cost_of_contracts = 0\n",
    "    \n",
    "    while available_budget >= cost_of_contracts and len(chosen_nodes) <= 10 and nodes:\n",
    "        node = np.random.choice(nodes)\n",
    "        cost = contract_cost(G, node)\n",
    "        if available_budget >= (cost_of_contracts + cost) and node not in affected_nodes:\n",
    "            chosen_nodes.append(node)\n",
    "            cost_of_contracts += cost\n",
    "        nodes.remove(node)\n",
    "    return chosen_nodes, cost_of_contracts"
   ]
  },
  {
   "cell_type": "code",
   "execution_count": null,
   "metadata": {
    "scrolled": true
   },
   "outputs": [
    {
     "data": {
      "application/vnd.jupyter.widget-view+json": {
       "model_id": "98d3cf7b4fef47398eb7be368b0d9e45",
       "version_major": 2,
       "version_minor": 0
      },
      "text/plain": [
       "HBox(children=(FloatProgress(value=0.0, max=60.0), HTML(value='')))"
      ]
     },
     "metadata": {},
     "output_type": "display_data"
    },
    {
     "name": "stdout",
     "output_type": "stream",
     "text": [
      "250\n",
      "300\n",
      "100\n",
      "150\n",
      "350\n",
      "200\n",
      "200\n",
      "200\n",
      "200\n",
      "200\n",
      "200\n",
      "200\n",
      "200\n",
      "200\n",
      "200\n",
      "200\n",
      "200\n",
      "200\n",
      "200\n",
      "200\n",
      "200\n",
      "200\n"
     ]
    }
   ],
   "source": [
    "np.random.seed(120)\n",
    "\n",
    "G = nx.read_edgelist(\"edge_list.txt\")\n",
    "nx.set_node_attributes(G, 0, name=\"affected\")\n",
    "\n",
    "G = G.subgraph(sorted(nx.connected_components(G), key=len, reverse=True)[0])\n",
    "\n",
    "budget = 10000\n",
    "contract_limit = 10\n",
    "time_limit = 60\n",
    "customer_income = 50\n",
    "\n",
    "nodes = list(G.nodes)\n",
    "affected_nodes = []\n",
    "\n",
    "trace = dict()\n",
    "\n",
    "for t in tqdm(range(time_limit)):\n",
    "    cost_of_contracts = 0\n",
    "    for node in nodes:\n",
    "        if make_affected(G, node):\n",
    "            G.nodes[node][\"affected\"] = 1\n",
    "    if t < 50:\n",
    "        signed_contracts, cost_of_contracts = sign_contracts(G, budget, affected_nodes)\n",
    "\n",
    "        for node in signed_contracts:\n",
    "            G.nodes[node][\"affected\"] = 1\n",
    "\n",
    "        trace[t] = signed_contracts\n",
    "    \n",
    "    num_new_affected = len([node for node in G.nodes if G.nodes[node][\"affected\"] == 1]) - len(affected_nodes)\n",
    "    affected_nodes = [node for node in G.nodes if G.nodes[node][\"affected\"] == 1]\n",
    "    \n",
    "    \n",
    "    budget = budget + num_new_affected * customer_income - cost_of_contracts\n",
    "    print(budget)"
   ]
  },
  {
   "cell_type": "code",
   "execution_count": null,
   "metadata": {},
   "outputs": [],
   "source": [
    "trace"
   ]
  },
  {
   "cell_type": "code",
   "execution_count": 184,
   "metadata": {},
   "outputs": [
    {
     "data": {
      "text/plain": [
       "{0: [3870, 1797, 164, 228],\n",
       " 2: [1233],\n",
       " 4: [3125],\n",
       " 6: [316],\n",
       " 8: [377],\n",
       " 9: [35],\n",
       " 10: [2382],\n",
       " 11: [1394],\n",
       " 12: [279],\n",
       " 13: [52],\n",
       " 14: [2798],\n",
       " 15: [443],\n",
       " 16: [71, 154],\n",
       " 17: [47],\n",
       " 18: [1693, 3801, 1546],\n",
       " 19: [182, 160],\n",
       " 20: [3688, 3626],\n",
       " 21: [81, 1065],\n",
       " 22: [3805, 3807, 1022, 468],\n",
       " 23: [4036, 3375, 255],\n",
       " 24: [448, 1326, 3844, 2168],\n",
       " 25: [234, 124, 3928],\n",
       " 26: [4013, 1264, 2595, 3959],\n",
       " 27: [3781, 371, 240],\n",
       " 28: [3661, 121],\n",
       " 29: [3504, 4011, 1586, 3457],\n",
       " 30: [131, 3770, 3977, 3875, 216],\n",
       " 31: [937, 1838, 3091, 307],\n",
       " 32: [3519, 3133, 3922],\n",
       " 33: [1430, 2831, 70, 2975, 2740],\n",
       " 34: [132, 1353, 4032, 2963, 32, 2178, 411],\n",
       " 35: [598, 293, 1276, 189, 379],\n",
       " 36: [3014, 3952, 3942],\n",
       " 37: [536, 2568, 2885, 2736],\n",
       " 38: [2610, 3572],\n",
       " 39: [2385, 4017, 76],\n",
       " 40: [592, 3806, 866, 153, 3444, 27, 3589],\n",
       " 41: [2502, 3653, 1239, 1892, 2380, 253],\n",
       " 42: [62, 3960, 593, 89, 533, 1713, 267],\n",
       " 43: [2733, 3767, 2523, 100, 3445, 3936, 671],\n",
       " 44: [194, 3668, 2923, 2599, 485, 247, 3808],\n",
       " 45: [2465, 3744, 384, 3003, 3006, 1362, 4034, 1627],\n",
       " 46: [4027, 3478, 1042, 589, 4028, 3447, 34],\n",
       " 47: [3484, 196, 1384, 1500, 3408, 1061],\n",
       " 48: [3794, 3614, 3882, 3294, 2857],\n",
       " 49: [3415, 3401, 1425, 2824, 2562, 6, 1967]}"
      ]
     },
     "execution_count": 184,
     "metadata": {},
     "output_type": "execute_result"
    }
   ],
   "source": [
    "trace = {k: [int(x) for x in v] for k, v in trace.items() if v}\n",
    "trace"
   ]
  },
  {
   "cell_type": "code",
   "execution_count": 185,
   "metadata": {},
   "outputs": [],
   "source": [
    "with open(\"sub.txt\", \"w\") as f:\n",
    "    f.write(str(trace))"
   ]
  },
  {
   "cell_type": "code",
   "execution_count": 173,
   "metadata": {},
   "outputs": [
    {
     "data": {
      "text/plain": [
       "816"
      ]
     },
     "execution_count": 173,
     "metadata": {},
     "output_type": "execute_result"
    }
   ],
   "source": [
    "get_num_affected(G)"
   ]
  },
  {
   "cell_type": "code",
   "execution_count": 100,
   "metadata": {},
   "outputs": [
    {
     "data": {
      "text/plain": [
       "24600"
      ]
     },
     "execution_count": 100,
     "metadata": {},
     "output_type": "execute_result"
    }
   ],
   "source": [
    "len(list(G.neighbors('497'))) * 300"
   ]
  },
  {
   "cell_type": "code",
   "execution_count": 92,
   "metadata": {},
   "outputs": [
    {
     "data": {
      "text/plain": [
       "['237', '497']"
      ]
     },
     "execution_count": 92,
     "metadata": {},
     "output_type": "execute_result"
    }
   ],
   "source": [
    "signed_contracts"
   ]
  },
  {
   "cell_type": "code",
   "execution_count": 90,
   "metadata": {},
   "outputs": [
    {
     "data": {
      "text/plain": [
       "26400"
      ]
     },
     "execution_count": 90,
     "metadata": {},
     "output_type": "execute_result"
    }
   ],
   "source": [
    "cost_of_contracts"
   ]
  },
  {
   "cell_type": "code",
   "execution_count": 34,
   "metadata": {},
   "outputs": [],
   "source": [
    "nx.set_node_attributes(G, 0, name=\"affected\")"
   ]
  },
  {
   "cell_type": "code",
   "execution_count": 47,
   "metadata": {},
   "outputs": [
    {
     "data": {
      "text/plain": [
       "0"
      ]
     },
     "execution_count": 47,
     "metadata": {},
     "output_type": "execute_result"
    }
   ],
   "source": [
    "G.nodes[\"1\"][\"affected\"]"
   ]
  },
  {
   "cell_type": "code",
   "execution_count": 53,
   "metadata": {},
   "outputs": [
    {
     "data": {
      "text/plain": [
       "True"
      ]
     },
     "execution_count": 53,
     "metadata": {},
     "output_type": "execute_result"
    }
   ],
   "source": [
    "make_affected(G, \"1\")"
   ]
  }
 ],
 "metadata": {
  "kernelspec": {
   "display_name": "Python 3",
   "language": "python",
   "name": "python3"
  },
  "language_info": {
   "codemirror_mode": {
    "name": "ipython",
    "version": 3
   },
   "file_extension": ".py",
   "mimetype": "text/x-python",
   "name": "python",
   "nbconvert_exporter": "python",
   "pygments_lexer": "ipython3",
   "version": "3.8.3"
  }
 },
 "nbformat": 4,
 "nbformat_minor": 4
}
