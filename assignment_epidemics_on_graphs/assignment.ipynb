{
 "cells": [
  {
   "cell_type": "markdown",
   "metadata": {},
   "source": [
    "# Assignment — Epidemics on graphs"
   ]
  },
  {
   "cell_type": "code",
   "execution_count": null,
   "metadata": {},
   "outputs": [],
   "source": [
    "import numpy as np\n",
    "import matplotlib.pyplot as plt\n",
    "import networkx as nx\n",
    "from tqdm.notebook import trange"
   ]
  },
  {
   "cell_type": "markdown",
   "metadata": {},
   "source": [
    "### Task 1. Probabilistic node-level models. SIS (1 point)\n",
    "\n",
    "Let us consider epidemic models on networks. SIS model is described by a dynamic form\n",
    "\n",
    "$$S \\to_{\\beta SI} I \\to_{\\gamma I} S$$\n",
    "\n",
    "To model epidemics on networks, we need to use probabilistic approach. First, let us define a function that gives us a random sample of available nodes by given probability.\n",
    "\n",
    "Here is a function `select_nodes` that takes a np.array `vec`, where an i-th element is a number of neighbors that can affect to i-th node with probability `proba`. For example, `vec` can represent the number of infected neighbors, say [0, 2, 1] and then the probability is an infected rate $\\beta$. That means the first node has no infected neighbors, the second has two infected neighbors, the third has one infected neighbor. Thereby, the second node has a $(1 - (1-\\beta)^2)$ probability of getting infected."
   ]
  },
  {
   "cell_type": "code",
   "execution_count": null,
   "metadata": {},
   "outputs": [],
   "source": [
    "def select_nodes(vec, proba):\n",
    "    sample = np.random.rand(len(vec))\n",
    "    res = sample < (1 - (1 - proba)**vec)\n",
    "    return res.astype('int')"
   ]
  },
  {
   "cell_type": "markdown",
   "metadata": {},
   "source": [
    "Let us infect a few random nodes and simulate a propogation of an epidemic.\n",
    "\n",
    "Write a function `sis_networks` that takes a graph `G`, np.array with an initial indicator vector `S` where `S[i]` is 1 if i-th node is susceptible and 0 otherwise (the same for `I`). Any node must be susceptible or infected at any step. Also the function takes rates `beta`, `gamma`, number of steps `k`. The function returns a np.array of shape `(k+1, 2, n)` where `n` is a number of nodes. At i-th step, the matrix `result[i, :, :]` contains indicator `S` in the first column and `I` in the second.\n",
    "\n",
    "_Hint: to calculate the number of infected neighbors, use `I @ A * S`_"
   ]
  },
  {
   "cell_type": "code",
   "execution_count": null,
   "metadata": {
    "deletable": false,
    "nbgrader": {
     "cell_type": "code",
     "checksum": "e2ba308354e47b60dfab4f0157cd6086",
     "grade": false,
     "grade_id": "cell-ef6a0916349c86dd",
     "locked": false,
     "schema_version": 3,
     "solution": true,
     "task": false
    }
   },
   "outputs": [],
   "source": [
    "def sis_networks(G, S, I, beta, gamma, k):\n",
    "    # YOUR CODE HERE\n",
    "    raise NotImplementedError()"
   ]
  },
  {
   "cell_type": "code",
   "execution_count": null,
   "metadata": {
    "deletable": false,
    "editable": false,
    "nbgrader": {
     "cell_type": "code",
     "checksum": "73d613ca7af2147dcf0163e1a1d3e029",
     "grade": true,
     "grade_id": "cell-5cf71c10ff7077f8",
     "locked": true,
     "points": 1,
     "schema_version": 3,
     "solution": false,
     "task": false
    }
   },
   "outputs": [],
   "source": [
    "G = nx.barabasi_albert_graph(50, 3, seed=0)\n",
    "\n",
    "I = np.zeros(len(G))\n",
    "I[:3] = 1\n",
    "S = 1 - I\n",
    "beta = 0.2\n",
    "gamma = 0.2\n",
    "\n",
    "epidemic = sis_networks(G, S, I, beta, gamma, 100)\n",
    "assert epidemic.sum() == 5050\n",
    "assert epidemic.shape == (101, 2, 50)\n",
    "assert (epidemic.sum(axis=1) == 1).sum() == 5050\n",
    "sigma = 6.3853\n",
    "mean = 16.0198\n",
    "assert mean - 2*sigma < round(epidemic.sum(axis=2)[:, 0].mean(), 4) < mean + 2*sigma\n",
    "sigma = 5.953\n",
    "mean = 34.2178\n",
    "assert mean - 2*sigma < round(epidemic.sum(axis=2)[:, 1].mean(), 4) < mean + 2*sigma"
   ]
  },
  {
   "cell_type": "code",
   "execution_count": null,
   "metadata": {},
   "outputs": [],
   "source": [
    "plt.plot(epidemic.sum(axis=2))\n",
    "plt.legend(['S', 'I']);"
   ]
  },
  {
   "cell_type": "code",
   "execution_count": null,
   "metadata": {},
   "outputs": [],
   "source": [
    "plt.figure(figsize=(7*2, 5*3))\n",
    "pos = nx.kamada_kawai_layout(G)\n",
    "i = 1\n",
    "for S, I in epidemic[:6]:\n",
    "    plt.subplot(3, 2, i)\n",
    "    nodes = nx.draw_networkx_nodes(G, pos, \n",
    "            node_size=400,\n",
    "            node_color=I+1, \n",
    "            vmin=0, vmax=2, \n",
    "            cmap=plt.cm.rainbow,\n",
    "            edgecolors='black')\n",
    "    nx.draw_networkx_edges(G, pos,\n",
    "            width=0.5,\n",
    "            node_size=400)\n",
    "    nx.draw_networkx_labels(G, pos)\n",
    "    plt.title('Step {}'.format(i))\n",
    "    plt.legend(nodes.legend_elements()[0], ['Susceptible', 'Infected'])\n",
    "    plt.axis('off')\n",
    "    i += 1"
   ]
  },
  {
   "cell_type": "markdown",
   "metadata": {},
   "source": [
    "### Task 2. Probabilistic node-level models. SIRS (3 points)\n",
    "\n",
    "Let us implement SIRS node-level model\n",
    "$$S \\to_{\\beta SI} I \\to_{\\gamma I} R \\to_{\\delta R} S$$\n",
    "\n",
    "Write a function `sirs_networks` that takes a graph `G`, np.array with initial indicator `S` where `S[i]` is 1 if i-th node is susceptible and 0 otherwise (the same for `I` and `R`). Also the function takes rates `beta`, `gamma`, `delta`, number of steps `k`. The function returns a np.array of shape `(k+1, 3, n)` where `n` is a number of nodes. At i-th step, the matrix `result[i, :, :]` contains indicator `S` in the first column, `I` in the second, `R` in the third."
   ]
  },
  {
   "cell_type": "code",
   "execution_count": null,
   "metadata": {
    "deletable": false,
    "nbgrader": {
     "cell_type": "code",
     "checksum": "b6363c1341ac751bb4b138825869590a",
     "grade": false,
     "grade_id": "cell-019204d21b0147e4",
     "locked": false,
     "schema_version": 3,
     "solution": true,
     "task": false
    }
   },
   "outputs": [],
   "source": [
    "def sirs_networks(G, S, I, R, beta, gamma, delta, k):\n",
    "    # YOUR CODE HERE\n",
    "    raise NotImplementedError()"
   ]
  },
  {
   "cell_type": "code",
   "execution_count": null,
   "metadata": {
    "deletable": false,
    "editable": false,
    "nbgrader": {
     "cell_type": "code",
     "checksum": "3dac44ff286f87f9d4def18223ea8cc2",
     "grade": true,
     "grade_id": "cell-09257c476b1763a0",
     "locked": true,
     "points": 3,
     "schema_version": 3,
     "solution": false,
     "task": false
    }
   },
   "outputs": [],
   "source": [
    "G = nx.barabasi_albert_graph(40, 3, seed=0)\n",
    "I = np.zeros(len(G))\n",
    "I[:3] = 1\n",
    "S = 1 - I\n",
    "R = np.zeros(len(G))\n",
    "\n",
    "beta = 0.1\n",
    "gamma = 0.3\n",
    "delta = 0.1\n",
    "\n",
    "epidemic = sirs_networks(G, S, I, R, beta, gamma, delta, 200)\n",
    "assert epidemic.shape == (201, 3, 40)\n",
    "assert (epidemic.sum(axis=1) == 1).sum() == 8040\n",
    "assert (epidemic[200].sum(axis=1) == [40, 0, 0]).sum() == 3\n",
    "\n",
    "for k in range(6):\n",
    "    for node in G.nodes:\n",
    "        if epidemic[k, 0, node] > epidemic[k+1, 0, node]:\n",
    "            assert epidemic[k+1, 1, node] == 1\n",
    "            neighbors = np.array([n for n in G.neighbors(node)])\n",
    "            assert epidemic[k, 1][neighbors].sum()\n",
    "        elif epidemic[k, 1, node] > epidemic[k+1, 1, node]:\n",
    "            assert epidemic[k+1, 2, node] == 1\n",
    "        elif epidemic[k, 2, node] > epidemic[k+1, 2, node]:\n",
    "            assert epidemic[k+1, 0, node] == 1"
   ]
  },
  {
   "cell_type": "code",
   "execution_count": null,
   "metadata": {},
   "outputs": [],
   "source": [
    "plt.plot(epidemic.sum(axis=2))\n",
    "plt.legend(['S', 'I', 'R']);"
   ]
  },
  {
   "cell_type": "code",
   "execution_count": null,
   "metadata": {},
   "outputs": [],
   "source": [
    "plt.figure(figsize=(7*2, 5*3))\n",
    "pos = nx.kamada_kawai_layout(G)\n",
    "i = 1\n",
    "for S, I, R in epidemic[:6]:\n",
    "    plt.subplot(3, 2, i)\n",
    "    nodes = nx.draw_networkx_nodes(G, pos, \n",
    "            node_size=400,\n",
    "            node_color=(S + I*2), \n",
    "            vmin=0, vmax=2, \n",
    "            cmap=plt.cm.rainbow,\n",
    "            edgecolors='black')\n",
    "    nx.draw_networkx_edges(G, pos,\n",
    "            width=0.5,\n",
    "            node_size=400)\n",
    "    nx.draw_networkx_labels(G, pos)\n",
    "    plt.title('Step {}'.format(i))\n",
    "    if len(nodes.legend_elements()[0]) == 2:\n",
    "        plt.legend(\n",
    "            nodes.legend_elements()[0], \n",
    "            ['Susceptible', 'Infected'])\n",
    "    else:\n",
    "        plt.legend(\n",
    "            nodes.legend_elements()[0], \n",
    "            ['Recovered', 'Susceptible', 'Infected'])\n",
    "    plt.axis('off')\n",
    "    i += 1"
   ]
  },
  {
   "cell_type": "markdown",
   "metadata": {},
   "source": [
    "This model also can model \"the second wave\""
   ]
  },
  {
   "cell_type": "code",
   "execution_count": null,
   "metadata": {},
   "outputs": [],
   "source": [
    "G = nx.barabasi_albert_graph(40, 3, seed=0)\n",
    "I = np.zeros(len(G))\n",
    "I[:3] = 1\n",
    "S = 1 - I\n",
    "\n",
    "R = np.zeros(len(G))\n",
    "epidemic = sirs_networks(G, S, I, R, 0.2, 0.4, 0.05, 100)\n",
    "plt.plot(epidemic.sum(axis=2)[:, 1])\n",
    "plt.legend(['I']);"
   ]
  },
  {
   "cell_type": "markdown",
   "metadata": {},
   "source": [
    "### Task 3. Random Immunization for SIS model  (1 point)\n",
    "\n",
    "Immunization strategies specify how vaccines, treatments or drugs are distributed in the population. Ideally, should a treatment or vaccine exist, it should be given to every infected individual or those at risk of contracting the pathogen.\n",
    "However, it is costly to vaccinate all risky people. Given these constraints, immunization strategies aim to minimize the threat of a pandemic by most effectively distributing the available vaccines or treatments.\n",
    "\n",
    "The general idea of immunization is to reduce infected rate $\\beta$ to critical point. So the virus naturally dies out.\n",
    "\n",
    "The immune nodes are invisible for the virus. So `randomly_immunized_sis_model` should work in following pipeline:\n",
    "\n",
    "1. Select share `g` of nodes randomly (round number of selected nodes with int function)\n",
    "2. Remove all edges adjacent to selected nodes\n",
    "3. Run `sis_networks` model\n",
    "4. Add removed edges\n",
    "\n",
    "The `randomly_immunized_sis_model` method should return tuple with np.array of immunized nodes and output of `sis_networks` model for immunized graph.\n",
    "\n",
    "_Hint: use `np.random.choice` to select random subsample_"
   ]
  },
  {
   "cell_type": "code",
   "execution_count": null,
   "metadata": {
    "deletable": false,
    "nbgrader": {
     "cell_type": "code",
     "checksum": "a2b400a0612bb395a329a317ab27f32a",
     "grade": false,
     "grade_id": "cell-bc1bec0a8c4d951e",
     "locked": false,
     "schema_version": 3,
     "solution": true,
     "task": false
    }
   },
   "outputs": [],
   "source": [
    "def randomly_immunized_sis_model(g, G, S, I, beta, gamma, k):\n",
    "    # YOUR CODE HERE\n",
    "    raise NotImplementedError()"
   ]
  },
  {
   "cell_type": "code",
   "execution_count": null,
   "metadata": {
    "deletable": false,
    "editable": false,
    "nbgrader": {
     "cell_type": "code",
     "checksum": "1d451bfdc917d99aa2afd422e0f5270d",
     "grade": true,
     "grade_id": "cell-9f4b83c197371ffc",
     "locked": true,
     "points": 1,
     "schema_version": 3,
     "solution": false,
     "task": false
    }
   },
   "outputs": [],
   "source": [
    "G = nx.barabasi_albert_graph(50, 3, seed=0)\n",
    "\n",
    "I = np.zeros(len(G))\n",
    "I[:3] = 1\n",
    "S = 1 - I\n",
    "beta = 0.2\n",
    "gamma = 0.1\n",
    "g = 0.5\n",
    "\n",
    "immune, epidemic = randomly_immunized_sis_model(g, G, S, I, beta, gamma, 100)\n",
    "assert epidemic.sum() == 5050\n",
    "assert epidemic.shape == (101, 2, 50)\n",
    "assert (epidemic.sum(axis=1) == 1).sum() == 5050"
   ]
  },
  {
   "cell_type": "code",
   "execution_count": null,
   "metadata": {},
   "outputs": [],
   "source": [
    "plt.figure(figsize=(7*2, 5*3))\n",
    "pos = nx.kamada_kawai_layout(G)\n",
    "i = 1\n",
    "for S, I in epidemic[:6]:\n",
    "    colors = I + 1\n",
    "    colors[immune] = -1\n",
    "    plt.subplot(3, 2, i)\n",
    "    nodes = nx.draw_networkx_nodes(G, pos, \n",
    "            node_size=400,\n",
    "            node_color=colors, \n",
    "            vmin=0, vmax=2, \n",
    "            cmap=plt.cm.rainbow,\n",
    "            edgecolors='black')\n",
    "    nx.draw_networkx_edges(G, pos,\n",
    "            width=0.5,\n",
    "            node_size=400)\n",
    "    nx.draw_networkx_labels(G, pos)\n",
    "    plt.title('Step {}'.format(i))\n",
    "    plt.legend(nodes.legend_elements()[0], ['Immune', 'Susceptible', 'Infected'])\n",
    "    plt.axis('off')\n",
    "    i += 1"
   ]
  },
  {
   "cell_type": "code",
   "execution_count": null,
   "metadata": {},
   "outputs": [],
   "source": [
    "for i in range(1, 20, 5):\n",
    "    immune, epidemic = randomly_immunized_sis_model(i / 20, G, S, I, beta, gamma, 200)\n",
    "    plt.plot(epidemic.mean(axis=2))\n",
    "    plt.title(f\"SIS random immunization with rate {i / 20}\")\n",
    "    plt.legend(['S', 'I']);\n",
    "    plt.show()"
   ]
  },
  {
   "cell_type": "markdown",
   "metadata": {},
   "source": [
    "### Task 4. Selective Immunization for SIS (2 points)\n",
    "\n",
    "The random immunization can help, but requires a large part of population to be vaccinized.\n",
    "So we can propose the better immunization strategy named `Selective Immunization`.\n",
    "\n",
    "The general idea of Selective Immuzation is to immunize hubs (nodes with the largest degree).\n",
    "\n",
    "Here you need to define function `selectively_immunized_sis_model`. It works similar to the `randomly_immunized_sis_model`:\n",
    "\n",
    "1. Select a part `g` of nodes with highest degree\n",
    "2. Remove all edges adjacent to selected nodes\n",
    "3. Run `sis_networks` model\n",
    "4. Add removed edges"
   ]
  },
  {
   "cell_type": "code",
   "execution_count": null,
   "metadata": {
    "deletable": false,
    "nbgrader": {
     "cell_type": "code",
     "checksum": "74ab68ffe70d3899b58250630fbe65b1",
     "grade": false,
     "grade_id": "cell-d820db5de6d03db3",
     "locked": false,
     "schema_version": 3,
     "solution": true,
     "task": false
    }
   },
   "outputs": [],
   "source": [
    "def selectively_immunized_sis_model(g, G, S, I, beta, gamma, k):\n",
    "    # YOUR CODE HERE\n",
    "    raise NotImplementedError()"
   ]
  },
  {
   "cell_type": "code",
   "execution_count": null,
   "metadata": {
    "deletable": false,
    "editable": false,
    "nbgrader": {
     "cell_type": "code",
     "checksum": "b2890e2e61427bca3594e48fbfa04e22",
     "grade": true,
     "grade_id": "cell-de06ac7069acd130",
     "locked": true,
     "points": 2,
     "schema_version": 3,
     "solution": false,
     "task": false
    }
   },
   "outputs": [],
   "source": [
    "G = nx.barabasi_albert_graph(50, 3, seed=0)\n",
    "\n",
    "I = np.zeros(len(G))\n",
    "I[:3] = 1\n",
    "S = 1 - I\n",
    "beta = 0.2\n",
    "gamma = 0.1\n",
    "g = 0.3\n",
    "\n",
    "immune, epidemic = selectively_immunized_sis_model(g, G, S, I, beta, gamma, 100)\n",
    "assert epidemic.sum() == 5050\n",
    "assert epidemic.shape == (101, 2, 50)\n",
    "assert (epidemic.sum(axis=1) == 1).sum() == 5050"
   ]
  },
  {
   "cell_type": "code",
   "execution_count": null,
   "metadata": {},
   "outputs": [],
   "source": [
    "plt.figure(figsize=(7*2, 5*3))\n",
    "pos = nx.kamada_kawai_layout(G)\n",
    "i = 1\n",
    "for S, I in epidemic[:6]:\n",
    "    colors = I + 1\n",
    "    colors[immune] = -1\n",
    "    plt.subplot(3, 2, i)\n",
    "    nodes = nx.draw_networkx_nodes(G, pos, \n",
    "            node_size=400,\n",
    "            node_color=colors, \n",
    "            vmin=0, vmax=2, \n",
    "            cmap=plt.cm.rainbow,\n",
    "            edgecolors='black')\n",
    "    nx.draw_networkx_edges(G, pos,\n",
    "            width=0.5,\n",
    "            node_size=400)\n",
    "    nx.draw_networkx_labels(G, pos)\n",
    "    plt.title('Step {}'.format(i))\n",
    "    plt.legend(nodes.legend_elements()[0], ['Immune', 'Susceptible', 'Infected'])\n",
    "    plt.axis('off')\n",
    "    i += 1"
   ]
  },
  {
   "cell_type": "code",
   "execution_count": null,
   "metadata": {},
   "outputs": [],
   "source": [
    "for i in range(1, 20, 5):\n",
    "    immune, epidemic = selectively_immunized_sis_model(i / 20, G, S, I, beta, gamma, 200)\n",
    "    plt.plot(epidemic.mean(axis=2))\n",
    "    plt.title(f\"SIS selective immunization with rate {i / 20}\")\n",
    "    plt.legend(['S', 'I']);\n",
    "    plt.show()"
   ]
  },
  {
   "cell_type": "markdown",
   "metadata": {},
   "source": [
    "We can see that Selective Immunization requires less rate of population to be vaccinized"
   ]
  },
  {
   "cell_type": "markdown",
   "metadata": {},
   "source": [
    "### Task 5. Degree assortativity and epidemics  (1 point)\n",
    "\n",
    "Most real-world networks are assortative. So high degree nodes tend to connect to other high degree nodes.\n",
    "Such nodes have a more significant probability of being infected because of the larger number of neighbours. So, when hubs are connected, the virus will spread faster.\n",
    "\n",
    "Let us see that effect.\n",
    "\n",
    "In the current task you need to realize `sir_network` that simulates node-level SIR model. Function takes similar input as SIRS except of `delta` probability."
   ]
  },
  {
   "cell_type": "code",
   "execution_count": null,
   "metadata": {
    "deletable": false,
    "nbgrader": {
     "cell_type": "code",
     "checksum": "adf14b78830dc17fed1a058a62d2f844",
     "grade": false,
     "grade_id": "cell-a370b871647b3523",
     "locked": false,
     "schema_version": 3,
     "solution": true,
     "task": false
    }
   },
   "outputs": [],
   "source": [
    "def sir_networks(G, S, I, R, beta, gamma, k):\n",
    "    # YOUR CODE HERE\n",
    "    raise NotImplementedError()"
   ]
  },
  {
   "cell_type": "code",
   "execution_count": null,
   "metadata": {
    "deletable": false,
    "editable": false,
    "nbgrader": {
     "cell_type": "code",
     "checksum": "b08a1cdd03b8a2bb8cc3543ff5b53f8a",
     "grade": true,
     "grade_id": "cell-7216e8ded2759adc",
     "locked": true,
     "points": 0.5,
     "schema_version": 3,
     "solution": false,
     "task": false
    }
   },
   "outputs": [],
   "source": [
    "G = nx.barabasi_albert_graph(50, 3, seed=0)\n",
    "\n",
    "beta = 0.1\n",
    "gamma = 0.1\n",
    "delta = 0.1\n",
    "\n",
    "I = np.zeros(len(G))\n",
    "I[:3] = 1\n",
    "S = 1 - I\n",
    "R = np.zeros(len(G))\n",
    "epidemic = sir_networks(G, S, I, R, beta, gamma, 100)\n",
    "\n",
    "assert epidemic.sum() == 5050\n",
    "assert epidemic.shape == (101, 3, 50)\n",
    "assert (epidemic.sum(axis=1) == 1).sum() == 5050"
   ]
  },
  {
   "cell_type": "markdown",
   "metadata": {},
   "source": [
    "Also, we need to define generator for networks with different levels of degree assortativities.\n",
    "The `generate_network` function takes number of nodes (`n`), number of edges (`m`) and number of rewired edges (`k`), and type of assortativity as boolean.\n",
    "\n",
    "The function should work as follows:\n",
    "\n",
    "1. Generate random graph (using `nx.gnm_random_graph` with number of nodes equal to `n` and number of edges equal to `n-k`)\n",
    "2. Sort nodes by the descending degree\n",
    "3. Add k edges to the graph:\n",
    "    1. If graph is assortative, then connect some first nodes from the sorted list. For instance, connect top(1)-top(2), top(2)-top(3) and etc.\n",
    "    2. If graph is disassortative, then connect first nodes with the last nodes in the sorted list. For instance, connect top(1)-top(N), top(2)-top(N-1) and etc."
   ]
  },
  {
   "cell_type": "code",
   "execution_count": null,
   "metadata": {
    "deletable": false,
    "nbgrader": {
     "cell_type": "code",
     "checksum": "02ab58ed4aaa07190fa6c04a7ba5afa0",
     "grade": false,
     "grade_id": "cell-c47e47e779979bb5",
     "locked": false,
     "schema_version": 3,
     "solution": true,
     "task": false
    }
   },
   "outputs": [],
   "source": [
    "def generate_network(n, m, k, assortative=True):\n",
    "    # YOUR CODE HERE\n",
    "    raise NotImplementedError()"
   ]
  },
  {
   "cell_type": "code",
   "execution_count": null,
   "metadata": {
    "deletable": false,
    "editable": false,
    "nbgrader": {
     "cell_type": "code",
     "checksum": "5b2d6569b36a002a5250901c16a5372e",
     "grade": true,
     "grade_id": "cell-25803814cac5cc5b",
     "locked": true,
     "points": 0.5,
     "schema_version": 3,
     "solution": false,
     "task": false
    }
   },
   "outputs": [],
   "source": [
    "G = generate_network(1000, 2000, 50, assortative=True)\n",
    "assert G.number_of_nodes() == 1000\n",
    "assert G.number_of_edges() == 2000\n",
    "assert round(nx.degree_assortativity_coefficient(G), 4) > 0.08\n",
    "\n",
    "G = generate_network(1000, 2000, 50, assortative=False)\n",
    "assert round(nx.degree_assortativity_coefficient(G), 4) < -0.08"
   ]
  },
  {
   "cell_type": "markdown",
   "metadata": {},
   "source": [
    "Let us generate some epidemic trajectories for graphs with different degree assortativity"
   ]
  },
  {
   "cell_type": "code",
   "execution_count": null,
   "metadata": {},
   "outputs": [],
   "source": [
    "beta = 0.1\n",
    "gamma = 0.1\n",
    "delta = 0.1"
   ]
  },
  {
   "cell_type": "code",
   "execution_count": null,
   "metadata": {},
   "outputs": [],
   "source": [
    "disassortative = np.zeros(51)\n",
    "for i in trange(50):\n",
    "    G = generate_network(1000, 2000, 50, assortative=False)\n",
    "    I = np.zeros(len(G))\n",
    "    I[:3] = 1\n",
    "    S = 1 - I\n",
    "    R = np.zeros(len(G))\n",
    "    epidemic = sir_networks(G, S, I, R, beta, gamma, 50)\n",
    "    disassortative += epidemic.sum(axis=2)[:, 1] / 50"
   ]
  },
  {
   "cell_type": "code",
   "execution_count": null,
   "metadata": {},
   "outputs": [],
   "source": [
    "neutral = np.zeros(51)\n",
    "for i in trange(50):\n",
    "    G = nx.gnm_random_graph(1000, 2000, seed=i)\n",
    "    I = np.zeros(len(G))\n",
    "    I[:3] = 1\n",
    "    S = 1 - I\n",
    "    R = np.zeros(len(G))\n",
    "    epidemic = sir_networks(G, S, I, R, beta, gamma, 50)\n",
    "    neutral += epidemic.sum(axis=2)[:, 1] / 50"
   ]
  },
  {
   "cell_type": "code",
   "execution_count": null,
   "metadata": {},
   "outputs": [],
   "source": [
    "assortative = np.zeros(51)\n",
    "for i in trange(50):\n",
    "    G = generate_network(1000, 2000, 50, assortative=True)\n",
    "    I = np.zeros(len(G))\n",
    "    I[:3] = 1\n",
    "    S = 1 - I\n",
    "    R = np.zeros(len(G))\n",
    "    epidemic = sir_networks(G, S, I, R, beta, gamma, 50)\n",
    "    assortative += epidemic.sum(axis=2)[:, 1] / 50"
   ]
  },
  {
   "cell_type": "code",
   "execution_count": null,
   "metadata": {},
   "outputs": [],
   "source": [
    "plt.plot(disassortative, label='disassortative')\n",
    "plt.plot(neutral, label='neutral')\n",
    "plt.plot(assortative, label='assortative')\n",
    "plt.legend();"
   ]
  },
  {
   "cell_type": "markdown",
   "metadata": {},
   "source": [
    "Given that hubs are the first to be infected in a network, assortativity accelerates the spread of a pathogen. In contrast disassortativity slows the spreading process."
   ]
  },
  {
   "cell_type": "markdown",
   "metadata": {},
   "source": [
    "### Task 6. Self-isolation  (2 points)\n",
    "\n",
    "In this task we will see how self-isolation helps to beat epidemics.\n",
    "\n",
    "The general idea is similar to the immunization: we make some nodes invisible for the virus.\n",
    "\n",
    "Here you need to define the `random_self_isolation` function, that works similarly to the `randomly_immunized_sis_model`, but after some steps all isolated nodes become visible for the virus.\n",
    "\n",
    "1. Select part (with rate `g`) of nodes randomly\n",
    "2. Remove all edges adjacent to selected nodes\n",
    "3. Run `sis_networks` model for number of steps `t` (self-isolation period)\n",
    "4. Add all removed edges\n",
    "5. Run `sis_networks` model for number of steps `k - t` keeping previous state\n",
    "\n",
    "_Hint: use `np.random.choice` to select random subsample_"
   ]
  },
  {
   "cell_type": "code",
   "execution_count": null,
   "metadata": {
    "deletable": false,
    "nbgrader": {
     "cell_type": "code",
     "checksum": "2598fd1d9baf9a4b46c8718af15c332b",
     "grade": false,
     "grade_id": "cell-6a99af1318fc0cd5",
     "locked": false,
     "schema_version": 3,
     "solution": true,
     "task": false
    }
   },
   "outputs": [],
   "source": [
    "def self_isolation_sis_model(g, t, G, S, I, beta, gamma, k):\n",
    "    # YOUR CODE HERE\n",
    "    raise NotImplementedError()"
   ]
  },
  {
   "cell_type": "code",
   "execution_count": null,
   "metadata": {
    "deletable": false,
    "editable": false,
    "nbgrader": {
     "cell_type": "code",
     "checksum": "2b73c9a9a945dbc6c27e6e412cbab933",
     "grade": true,
     "grade_id": "cell-a88e64365d7f1c0c",
     "locked": true,
     "points": 2,
     "schema_version": 3,
     "solution": false,
     "task": false
    }
   },
   "outputs": [],
   "source": [
    "G = nx.barabasi_albert_graph(50, 3, seed=0)\n",
    "\n",
    "I = np.zeros(len(G))\n",
    "I[:3] = 1\n",
    "S = 1 - I\n",
    "beta = 0.2\n",
    "gamma = 0.1\n",
    "g = 0.3\n",
    "t = 3\n",
    "\n",
    "immune, epidemic = self_isolation_sis_model(g, t, G, S, I, beta, gamma, 100)\n",
    "assert epidemic.sum() == 5100\n",
    "assert epidemic.shape == (102, 2, 50)\n",
    "assert (epidemic.sum(axis=1) == 1).sum() == 5100"
   ]
  },
  {
   "cell_type": "code",
   "execution_count": null,
   "metadata": {},
   "outputs": [],
   "source": [
    "plt.figure(figsize=(7*2, 5*3))\n",
    "pos = nx.kamada_kawai_layout(G)\n",
    "i = 1\n",
    "for step, (S, I) in enumerate(epidemic[:6]):\n",
    "    colors = I + 1\n",
    "    if step < 3:\n",
    "        colors[immune] = -1\n",
    "    plt.subplot(3, 2, i)\n",
    "    nodes = nx.draw_networkx_nodes(G, pos, \n",
    "            node_size=400,\n",
    "            node_color=colors, \n",
    "            vmin=0, vmax=2, \n",
    "            cmap=plt.cm.rainbow,\n",
    "            edgecolors='black')\n",
    "    nx.draw_networkx_edges(G, pos,\n",
    "            width=0.5,\n",
    "            node_size=400)\n",
    "    nx.draw_networkx_labels(G, pos)\n",
    "    plt.title('Step {}'.format(i))\n",
    "    plt.legend(nodes.legend_elements()[0], ['Isolated', 'Susceptible', 'Infected'])\n",
    "    plt.axis('off')\n",
    "    i += 1"
   ]
  },
  {
   "cell_type": "code",
   "execution_count": null,
   "metadata": {},
   "outputs": [],
   "source": [
    "for i in range(1, 20, 5):\n",
    "    immune, epidemic = self_isolation_sis_model(i / 20, 10, G, S, I, beta, gamma, 50)\n",
    "    plt.plot(epidemic.mean(axis=2))\n",
    "    plt.title(f\"SIS random self-isolation with rate {i / 20}\")\n",
    "    plt.legend(['S', 'I']);\n",
    "    plt.show()"
   ]
  },
  {
   "cell_type": "markdown",
   "metadata": {},
   "source": [
    "Here we can see that high self-isolated rate of population just delays a case when all people to be infected"
   ]
  },
  {
   "cell_type": "code",
   "execution_count": null,
   "metadata": {},
   "outputs": [],
   "source": [
    "for i in range(1, 50, 5):\n",
    "    immune, epidemic = self_isolation_sis_model(0.3, i, G, S, I, beta, gamma, 50)\n",
    "    plt.plot(epidemic.mean(axis=2))\n",
    "    plt.title(f\"SIS random self-isolation with self-isolation period {i}\")\n",
    "    plt.legend(['S', 'I']);\n",
    "    plt.show()"
   ]
  },
  {
   "cell_type": "markdown",
   "metadata": {},
   "source": [
    "So, this model shows that the only efficient way to beat the pandemic is vaccination."
   ]
  },
  {
   "cell_type": "code",
   "execution_count": null,
   "metadata": {},
   "outputs": [],
   "source": []
  }
 ],
 "metadata": {
  "kernelspec": {
   "display_name": "Python 3",
   "language": "python",
   "name": "python3"
  },
  "language_info": {
   "codemirror_mode": {
    "name": "ipython",
    "version": 3
   },
   "file_extension": ".py",
   "mimetype": "text/x-python",
   "name": "python",
   "nbconvert_exporter": "python",
   "pygments_lexer": "ipython3",
   "version": "3.7.4"
  }
 },
 "nbformat": 4,
 "nbformat_minor": 4
}
