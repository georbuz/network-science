{
 "cells": [
  {
   "cell_type": "markdown",
   "metadata": {},
   "source": [
    "# Competition — Link Prediction"
   ]
  },
  {
   "cell_type": "markdown",
   "metadata": {},
   "source": [
    "### Challenge Overview"
   ]
  },
  {
   "cell_type": "markdown",
   "metadata": {},
   "source": [
    "The dataset contains publications that is described by a binary vector indicating the presence of the corresponding word. The dateset can be represented as a graph where nodes are publications and edges are citations. For simplicity, let us say that this graph is undirected. The most similar pairs of nodes which are not connected was selected in the same amount as existent edges. The used proximity metric is cosine similarity, which is a normalized dot product of adjacency matrix. Let us denote existent edges by label 1 and additionally selected pairs by label 0.\n",
    "\n",
    "The dataset is represented by 3 files:\n",
    "* features.txt contains description of the papers in the format:\n",
    "    * `<node id> <3703 unique one-hot encoded words>`\n",
    "* labeled_edges.txt contains labeled pairs of nodes in the format:\n",
    "    * `<node id> <node id> <label>`\n",
    "* unlabeled_edges.txt contains unlabeled pairs of nodes in the format:\n",
    "    * `<node id> <node id>`\n",
    "\n",
    "Your task is to predict labels for unlabeled pairs of nodes: 0 — disconnected, 1 — connected.\n",
    "\n",
    "Hints:\n",
    "* Consider the features only. Transform the sparse feature matrix into low-dimensional dense embeddings. Fit a classificator to predict links.\n",
    "* Consider the structure only. Create a graph that consists of edges with labels 1. Train any structural embedding model to obtain node embeddings. Fit a classificator to predict links.\n",
    "* Consider the both structure and features. Create a graph that consists of edges with labels 0, labels 1 and no labels. Train any GNN model to obtain node embeddings. Minimize the link prediction error by gradient descent.\n",
    "* Concatenate (multiply, sum up, average) pairs of node embeddings to obtain edge embeddings.\n",
    "* You can combine embeddings from heterogeneous models."
   ]
  },
  {
   "cell_type": "markdown",
   "metadata": {},
   "source": [
    "### Evaluation Criteria"
   ]
  },
  {
   "cell_type": "markdown",
   "metadata": {},
   "source": [
    "Here are balanced classes, so the usual accuracy metric is used:\n",
    "\n",
    "* Accuracy = True predictions / All predictions\n",
    "\n",
    "You can find baselines for grade 4, 6, 8 in the leaderboard."
   ]
  },
  {
   "cell_type": "markdown",
   "metadata": {},
   "source": [
    "### Submission Guidelines"
   ]
  },
  {
   "cell_type": "markdown",
   "metadata": {},
   "source": [
    "Upload the txt file with your predictions sepateted by line break. For example:\n",
    "```\n",
    "1\n",
    "1\n",
    "0\n",
    "1\n",
    "0\n",
    "```\n",
    "... and so on."
   ]
  },
  {
   "cell_type": "code",
   "execution_count": 251,
   "metadata": {},
   "outputs": [],
   "source": [
    "from sklearn.linear_model import LogisticRegression\n",
    "from sklearn.ensemble import RandomForestClassifier\n",
    "from sklearn.decomposition import TruncatedSVD\n",
    "from sklearn.metrics import balanced_accuracy_score, accuracy_score\n",
    "from sklearn.model_selection import train_test_split\n",
    "from sklearn.preprocessing import minmax_scale\n",
    "\n",
    "import torch\n",
    "import torch.nn as nn\n",
    "import torch.nn.functional as F\n",
    "\n",
    "import networkx as nx\n",
    "import numpy as np\n",
    "import matplotlib.pyplot as plt\n",
    "from zlib import adler32\n",
    "from IPython.display import clear_output"
   ]
  },
  {
   "cell_type": "code",
   "execution_count": 6,
   "metadata": {},
   "outputs": [],
   "source": [
    "features = np.fromfile(\"features.txt\", sep=\"\\n\", dtype=int)"
   ]
  },
  {
   "cell_type": "code",
   "execution_count": 20,
   "metadata": {},
   "outputs": [
    {
     "data": {
      "text/plain": [
       "(3312, 3704)"
      ]
     },
     "execution_count": 20,
     "metadata": {},
     "output_type": "execute_result"
    }
   ],
   "source": [
    "features = features.reshape(-1, 3704)\n",
    "features.shape"
   ]
  },
  {
   "cell_type": "code",
   "execution_count": 39,
   "metadata": {},
   "outputs": [
    {
     "data": {
      "text/plain": [
       "array([[1429, 2808],\n",
       "       [1125, 1250],\n",
       "       [2277, 2810],\n",
       "       ...,\n",
       "       [ 202,  387],\n",
       "       [1284, 1017],\n",
       "       [1958, 2407]])"
      ]
     },
     "execution_count": 39,
     "metadata": {},
     "output_type": "execute_result"
    }
   ],
   "source": [
    "np.fromfile(\"unlabeled_edges.txt\", sep=\"\\n\", dtype=int).reshape(-1, 2)"
   ]
  },
  {
   "cell_type": "code",
   "execution_count": 22,
   "metadata": {},
   "outputs": [
    {
     "data": {
      "text/plain": [
       "array([[2495,  598,    0],\n",
       "       [1473, 1570,    1],\n",
       "       [1000,  748,    1],\n",
       "       ...,\n",
       "       [1816, 2097,    0],\n",
       "       [ 218,  876,    0],\n",
       "       [1985, 1657,    0]])"
      ]
     },
     "execution_count": 22,
     "metadata": {},
     "output_type": "execute_result"
    }
   ],
   "source": [
    "labels = np.fromfile(\"labeled_edges.txt\", sep=\"\\n\", dtype=int).reshape(-1, 3)\n",
    "labels"
   ]
  },
  {
   "cell_type": "code",
   "execution_count": 42,
   "metadata": {},
   "outputs": [],
   "source": [
    "G = nx.Graph()"
   ]
  },
  {
   "cell_type": "code",
   "execution_count": 43,
   "metadata": {},
   "outputs": [],
   "source": [
    "G.add_edges_from(labels[labels[:, 2] == 1, :2])"
   ]
  },
  {
   "cell_type": "code",
   "execution_count": 71,
   "metadata": {},
   "outputs": [],
   "source": [
    "X = labels[labels[:, 2] == 1, :2]\n",
    "train_edges, test_edges = train_test_split(X, random_state=7)\n",
    "\n",
    "train_edges = list(map(tuple, train_edges))\n",
    "test_edges = list(map(tuple, test_edges))"
   ]
  },
  {
   "cell_type": "code",
   "execution_count": 88,
   "metadata": {},
   "outputs": [],
   "source": [
    "def sim_link_prediction(train_edges, test_edges):\n",
    "    \n",
    "    nodes = sorted(set(np.array(train_edges + test_edges).flatten()))\n",
    "    train_edges = set(train_edges)\n",
    "    test_edges = set(test_edges)\n",
    "    \n",
    "    G = nx.Graph()\n",
    "    G.add_nodes_from(nodes)\n",
    "    G.add_edges_from(train_edges)\n",
    "    \n",
    "    y_true = []\n",
    "    edges_to_rate = []\n",
    "    \n",
    "    for node_i in nodes:\n",
    "        for node_j in nodes:\n",
    "            if node_i >= node_j: continue\n",
    "            if (node_i, node_j) in train_edges: continue\n",
    "            y_true.append((node_i, node_j) in test_edges)\n",
    "            edges_to_rate.append((node_i, node_j))\n",
    "    \n",
    "    res = []\n",
    "    for index in tqdm([nx.jaccard_coefficient, \n",
    "                       nx.adamic_adar_index, \n",
    "                       nx.resource_allocation_index]):\n",
    "        y_score = [p for u, v, p in tqdm(index(G, edges_to_rate), \n",
    "                                         total=len(edges_to_rate), \n",
    "                                         leave=False)]\n",
    "        fpr, tpr, _ = roc_curve(y_true, y_score)\n",
    "        res.append((fpr, tpr))\n",
    "    \n",
    "    return res"
   ]
  },
  {
   "cell_type": "code",
   "execution_count": 89,
   "metadata": {},
   "outputs": [
    {
     "data": {
      "application/vnd.jupyter.widget-view+json": {
       "model_id": "5d4847970284467a9d336ff3cc27b856",
       "version_major": 2,
       "version_minor": 0
      },
      "text/plain": [
       "HBox(children=(FloatProgress(value=0.0, max=3.0), HTML(value='')))"
      ]
     },
     "metadata": {},
     "output_type": "display_data"
    },
    {
     "data": {
      "application/vnd.jupyter.widget-view+json": {
       "model_id": "",
       "version_major": 2,
       "version_minor": 0
      },
      "text/plain": [
       "HBox(children=(FloatProgress(value=0.0, max=3682784.0), HTML(value='')))"
      ]
     },
     "metadata": {},
     "output_type": "display_data"
    },
    {
     "data": {
      "application/vnd.jupyter.widget-view+json": {
       "model_id": "",
       "version_major": 2,
       "version_minor": 0
      },
      "text/plain": [
       "HBox(children=(FloatProgress(value=0.0, max=3682784.0), HTML(value='')))"
      ]
     },
     "metadata": {},
     "output_type": "display_data"
    },
    {
     "data": {
      "application/vnd.jupyter.widget-view+json": {
       "model_id": "",
       "version_major": 2,
       "version_minor": 0
      },
      "text/plain": [
       "HBox(children=(FloatProgress(value=0.0, max=3682784.0), HTML(value='')))"
      ]
     },
     "metadata": {},
     "output_type": "display_data"
    },
    {
     "name": "stdout",
     "output_type": "stream",
     "text": [
      "\n"
     ]
    }
   ],
   "source": [
    "jac, adam, res = sim_link_prediction(train_edges, test_edges)"
   ]
  },
  {
   "cell_type": "code",
   "execution_count": 90,
   "metadata": {},
   "outputs": [
    {
     "data": {
      "image/png": "[encoded data removed]",
      "text/plain": [
       "<Figure size 432x288 with 1 Axes>"
      ]
     },
     "metadata": {
      "needs_background": "light"
     },
     "output_type": "display_data"
    }
   ],
   "source": [
    "cases = [[jac[0], jac[1], 'Jaccard'], \n",
    "         [adam[0], adam[1], 'Adamic/Adar'], \n",
    "         [res[0], res[1], 'Resource alloc.']]\n",
    "for fpr, tpr, label in cases:\n",
    "    plt.plot(fpr, tpr, lw=2, \n",
    "             label='{}, AUC={:.4f}'.format(label, auc(fpr, tpr)))\n",
    "plt.plot([0, 1], [0, 1], lw=2, linestyle='--', label='Random, AUC=0.5')\n",
    "plt.xlabel('FPR')\n",
    "plt.ylabel('TPR')\n",
    "plt.title('ROC AUC')\n",
    "plt.legend()\n",
    "plt.show()"
   ]
  },
  {
   "cell_type": "code",
   "execution_count": 113,
   "metadata": {},
   "outputs": [],
   "source": [
    "def adamic_adar_similarity_matrix(train_edges):\n",
    "    edges = np.array(train_edges)\n",
    "    G_train = nx.Graph(train_edges)\n",
    "    sim_matrix = np.zeros((edges.max() + 1, edges.max() + 1))\n",
    "    for i, j, v in nx.adamic_adar_index(G_train):\n",
    "        sim_matrix[i, j] = v\n",
    "    return sim_matrix"
   ]
  },
  {
   "cell_type": "code",
   "execution_count": 167,
   "metadata": {},
   "outputs": [],
   "source": [
    "adar_sim_matrix = adamic_adar_similarity_matrix(list(map(tuple, X)))"
   ]
  },
  {
   "cell_type": "code",
   "execution_count": 115,
   "metadata": {},
   "outputs": [],
   "source": [
    "def inner_product_decoder(embeddings, test_edges):\n",
    "    edges = np.array(test_edges)\n",
    "    return (embeddings[edges[:, 0]] * embeddings[edges[:, 1]]).sum(axis=1)"
   ]
  },
  {
   "cell_type": "code",
   "execution_count": 168,
   "metadata": {},
   "outputs": [],
   "source": [
    "# negatives = negative_sampling(train_edges, test_edges)\n",
    "\n",
    "# np.random.seed(0)\n",
    "# validation = np.array(negatives + test_edges)[np.random.permutation(len(negatives) + len(test_edges))]\n",
    "# y_true = [int(tuple(i) in test_edges) for i in validation]\n",
    "\n",
    "# negatives = negative_sampling(train_edges, test_edges)\n",
    "\n",
    "negatives = list(map(tuple, labels[labels[:, 2] == 1, :2]))\n",
    "\n",
    "np.random.seed(0)\n",
    "validation = np.array(negatives + test_edges)[np.random.permutation(len(negatives) + len(test_edges))]\n",
    "y_true = [int(tuple(i) in test_edges) for i in validation]"
   ]
  },
  {
   "cell_type": "code",
   "execution_count": 169,
   "metadata": {},
   "outputs": [
    {
     "data": {
      "text/plain": [
       "0.49459200562982164"
      ]
     },
     "execution_count": 169,
     "metadata": {},
     "output_type": "execute_result"
    }
   ],
   "source": [
    "embeddings = TruncatedSVD(n_components=8).fit_transform(adar_sim_matrix)\n",
    "\n",
    "scores = inner_product_decoder(embeddings, validation - 2)\n",
    "tpr, fpr, _ = roc_curve(y_true, scores)\n",
    "auc(fpr, tpr)"
   ]
  },
  {
   "cell_type": "code",
   "execution_count": 170,
   "metadata": {},
   "outputs": [],
   "source": [
    "def average_operator(G, embeddings, edges):\n",
    "    E = []\n",
    "    for edge in edges:\n",
    "        E.append((embeddings[edge[0]] + embeddings[edge[1]]) / 2)\n",
    "    return np.array(E)\n",
    "\n",
    "def hadamard_operator(G, embeddings, edges):\n",
    "    E = []\n",
    "    for edge in edges:\n",
    "        E.append(embeddings[edge[0]] * embeddings[edge[1]])\n",
    "    return np.array(E)\n",
    "\n",
    "def weighted_l1_operator(G, embeddings, edges):\n",
    "    E = []\n",
    "    for edge in edges:\n",
    "        E.append(np.abs(embeddings[edge[0]] - embeddings[edge[1]]))\n",
    "    return np.array(E)\n",
    "\n",
    "def weighted_l2_operator(G, embeddings, edges):\n",
    "    E = []\n",
    "    for edge in edges:\n",
    "        E.append((embeddings[edge[0]] - embeddings[edge[1]])**2)\n",
    "    return np.array(E)\n",
    "\n",
    "def neighbor_weighted_l1_operator(G, embeddings, edges):\n",
    "    \n",
    "    E = []\n",
    "    for a, b in edges:\n",
    "        \n",
    "        neighbors_a = list(G.neighbors(a)) + [a]\n",
    "        neighbors_b = list(G.neighbors(b)) + [b]\n",
    "        \n",
    "        E.append(\n",
    "            np.abs(\n",
    "                np.sum(embeddings[neighbors_a], axis=0) / len(neighbors_a) \n",
    "                - np.sum(embeddings[neighbors_b], axis=0) / len(neighbors_b)\n",
    "            )\n",
    "        )\n",
    "        \n",
    "    return np.array(E)\n",
    "\n",
    "def neighbor_weighted_l2_operator(G, embeddings, edges):\n",
    "\n",
    "    E = []\n",
    "    for a, b in edges:\n",
    "        \n",
    "        neighbors_a = list(G.neighbors(a)) + [a]\n",
    "        neighbors_b = list(G.neighbors(b)) + [b]\n",
    "        \n",
    "        E.append(\n",
    "            np.power(\n",
    "                np.sum(embeddings[neighbors_a], axis=0) / len(neighbors_a) \n",
    "                - np.sum(embeddings[neighbors_b], axis=0) / len(neighbors_b), 2\n",
    "            )\n",
    "        )\n",
    "        \n",
    "    return np.array(E)"
   ]
  },
  {
   "cell_type": "code",
   "execution_count": 171,
   "metadata": {},
   "outputs": [
    {
     "data": {
      "text/plain": [
       "array([   0,    1,    2, ..., 3309, 3310, 3311])"
      ]
     },
     "execution_count": 171,
     "metadata": {},
     "output_type": "execute_result"
    }
   ],
   "source": [
    "np.unique(validation)"
   ]
  },
  {
   "cell_type": "code",
   "execution_count": 174,
   "metadata": {},
   "outputs": [],
   "source": [
    "G_train = nx.Graph()\n",
    "G_train.add_nodes_from(np.arange(max(set(sum(train_edges, ())) | set(sum(test_edges, ())))))\n",
    "G_train.add_edges_from(train_edges)\n",
    "G_train.add_edges_from(test_edges)\n",
    "\n",
    "operators = {\n",
    "    \"average_operator\": average_operator,\n",
    "    \"hadamard_operator\": hadamard_operator,\n",
    "    \"weighted_l1_operator\": weighted_l1_operator,\n",
    "    \"weighted_l2_operator\": weighted_l2_operator,\n",
    "    \"neighbor_weighted_l1_operator\": neighbor_weighted_l1_operator,\n",
    "    \"neighbor_weighted_l2_operator\": neighbor_weighted_l2_operator\n",
    "}\n",
    "\n",
    "train_split = int(len(validation) * 0.8)\n",
    "res = {}\n",
    "for nm, f in operators.items():\n",
    "    lr = LogisticRegression()\n",
    "    e = f(G_train, embeddings, validation)\n",
    "    lr.fit(e[:train_split], y_true[:train_split])\n",
    "    preds = lr.predict_proba(e[train_split:])[:, 1]\n",
    "    fpr, tpr, _ = roc_curve(y_true[train_split:], preds)\n",
    "    res[nm] = {\n",
    "        'fpr': fpr,\n",
    "        'tpr': tpr\n",
    "    }"
   ]
  },
  {
   "cell_type": "code",
   "execution_count": 176,
   "metadata": {},
   "outputs": [
    {
     "data": {
      "text/plain": [
       "{'average_operator': {'fpr': array([0.        , 0.        , 0.00438596, 0.00438596, 0.00657895,\n",
       "         0.00657895, 0.01315789, 0.01315789, 0.01315789, 0.01535088,\n",
       "         0.01535088, 0.01754386, 0.01754386, 0.02850877, 0.02850877,\n",
       "         0.02850877, 0.02850877, 0.03070175, 0.03070175, 0.03947368,\n",
       "         0.03947368, 0.03947368, 0.05482456, 0.05482456, 0.06140351,\n",
       "         0.06140351, 0.06359649, 0.06359649, 0.06578947, 0.06578947,\n",
       "         0.08552632, 0.08552632, 0.09429825, 0.09429825, 0.09429825,\n",
       "         0.10307018, 0.10307018, 0.10526316, 0.10526316, 0.10526316,\n",
       "         0.10745614, 0.10745614, 0.11842105, 0.11842105, 0.12061404,\n",
       "         0.12061404, 0.12280702, 0.12280702, 0.12938596, 0.12938596,\n",
       "         0.13815789, 0.13815789, 0.14692982, 0.14692982, 0.14912281,\n",
       "         0.14912281, 0.15131579, 0.15131579, 0.15350877, 0.15350877,\n",
       "         0.15350877, 0.1622807 , 0.1622807 , 0.1754386 , 0.1754386 ,\n",
       "         0.17763158, 0.17763158, 0.17982456, 0.17982456, 0.18640351,\n",
       "         0.18640351, 0.18859649, 0.18859649, 0.18859649, 0.19517544,\n",
       "         0.19517544, 0.1995614 , 0.1995614 , 0.20614035, 0.20614035,\n",
       "         0.20833333, 0.20833333, 0.21491228, 0.21491228, 0.21929825,\n",
       "         0.21929825, 0.22149123, 0.22149123, 0.22149123, 0.22149123,\n",
       "         0.22807018, 0.22807018, 0.23026316, 0.23026316, 0.23684211,\n",
       "         0.23684211, 0.24122807, 0.24122807, 0.24342105, 0.24342105,\n",
       "         0.24780702, 0.24780702, 0.25438596, 0.25438596, 0.26315789,\n",
       "         0.26315789, 0.26754386, 0.44736842, 0.44736842, 0.45614035,\n",
       "         0.45614035, 0.45614035, 0.46710526, 0.46710526, 0.47149123,\n",
       "         0.47149123, 0.47587719, 0.47587719, 0.48245614, 0.48245614,\n",
       "         0.48903509, 0.48903509, 0.49342105, 0.49342105, 0.49561404,\n",
       "         0.49561404, 0.49780702, 0.5       , 0.5       , 0.50657895,\n",
       "         0.50657895, 0.51096491, 0.51096491, 0.51315789, 0.51315789,\n",
       "         0.51754386, 0.51754386, 0.52412281, 0.52412281, 0.54166667,\n",
       "         0.54166667, 0.54824561, 0.54824561, 0.5504386 , 0.5504386 ,\n",
       "         0.56140351, 0.56140351, 0.56359649, 0.56359649, 0.56578947,\n",
       "         0.56578947, 0.5745614 , 0.5745614 , 0.57894737, 0.57894737,\n",
       "         0.59210526, 0.59210526, 0.59210526, 0.59210526, 0.59868421,\n",
       "         0.59868421, 0.59868421, 0.60307018, 0.60307018, 0.60526316,\n",
       "         0.60526316, 0.60964912, 0.60964912, 0.61622807, 0.61622807,\n",
       "         0.62719298, 0.62719298, 0.63596491, 0.63596491, 0.64035088,\n",
       "         0.64035088, 0.65131579, 0.65131579, 0.66008772, 0.66008772,\n",
       "         0.6622807 , 0.6622807 , 0.67105263, 0.67105263, 0.67105263,\n",
       "         0.6754386 , 0.6754386 , 0.68421053, 0.68421053, 0.68421053,\n",
       "         0.68421053, 0.68640351, 0.68640351, 0.6995614 , 0.6995614 ,\n",
       "         0.70833333, 0.70833333, 0.71929825, 0.71929825, 0.72149123,\n",
       "         0.72149123, 0.73245614, 0.73245614, 0.73245614, 0.73464912,\n",
       "         0.73464912, 0.73684211, 0.73684211, 0.75219298, 0.75219298,\n",
       "         0.75219298, 0.75438596, 0.75438596, 0.75877193, 0.75877193,\n",
       "         0.76535088, 0.76535088, 0.76754386, 0.76754386, 0.77850877,\n",
       "         0.77850877, 0.78070175, 0.78070175, 0.79166667, 0.79166667,\n",
       "         0.81798246, 0.81798246, 0.82017544, 0.82017544, 0.8245614 ,\n",
       "         0.8245614 , 0.82675439, 0.82675439, 0.83114035, 0.83114035,\n",
       "         0.83333333, 0.83333333, 0.83991228, 0.83991228, 0.84429825,\n",
       "         0.84429825, 0.84649123, 0.84649123, 0.85526316, 0.85526316,\n",
       "         0.85745614, 0.85745614, 0.85964912, 0.85964912, 0.86403509,\n",
       "         0.86403509, 0.86622807, 0.86622807, 0.87061404, 0.87061404,\n",
       "         0.87061404, 0.875     , 0.875     , 0.87719298, 0.87719298,\n",
       "         0.89035088, 0.89035088, 0.90350877, 0.90350877, 0.90570175,\n",
       "         0.90570175, 0.91008772, 0.91008772, 0.91666667, 0.91666667,\n",
       "         0.92324561, 0.92324561, 0.9254386 , 0.9254386 , 0.92982456,\n",
       "         0.92982456, 0.93201754, 0.93201754, 0.93859649, 0.93859649,\n",
       "         0.94078947, 0.94078947, 0.94298246, 0.94298246, 0.9495614 ,\n",
       "         0.9495614 , 0.96491228, 0.96491228, 0.96710526, 0.96710526,\n",
       "         0.96710526, 0.97149123, 0.97149123, 0.98903509, 0.98903509,\n",
       "         1.        ]),\n",
       "  'tpr': array([0.        , 0.003367  , 0.003367  , 0.01346801, 0.01346801,\n",
       "         0.02020202, 0.02020202, 0.02693603, 0.03367003, 0.03367003,\n",
       "         0.04040404, 0.04040404, 0.04713805, 0.04713805, 0.05050505,\n",
       "         0.05723906, 0.06397306, 0.06397306, 0.07070707, 0.07070707,\n",
       "         0.07407407, 0.08080808, 0.08080808, 0.08417508, 0.08417508,\n",
       "         0.08754209, 0.08754209, 0.09090909, 0.09090909, 0.1043771 ,\n",
       "         0.1043771 , 0.10774411, 0.10774411, 0.11111111, 0.11784512,\n",
       "         0.11784512, 0.13131313, 0.13131313, 0.13804714, 0.14814815,\n",
       "         0.14814815, 0.15488215, 0.15488215, 0.15824916, 0.15824916,\n",
       "         0.16161616, 0.16161616, 0.16498316, 0.16498316, 0.16835017,\n",
       "         0.16835017, 0.17508418, 0.17508418, 0.17845118, 0.17845118,\n",
       "         0.18181818, 0.18181818, 0.1986532 , 0.1986532 , 0.20538721,\n",
       "         0.21212121, 0.21212121, 0.22222222, 0.22222222, 0.22558923,\n",
       "         0.22558923, 0.22895623, 0.22895623, 0.23232323, 0.23232323,\n",
       "         0.23569024, 0.23569024, 0.24242424, 0.24579125, 0.24579125,\n",
       "         0.24915825, 0.24915825, 0.25252525, 0.25252525, 0.25589226,\n",
       "         0.25589226, 0.25925926, 0.25925926, 0.26262626, 0.26262626,\n",
       "         0.26599327, 0.26599327, 0.26936027, 0.27609428, 0.27946128,\n",
       "         0.27946128, 0.28619529, 0.28619529, 0.29292929, 0.29292929,\n",
       "         0.3030303 , 0.3030303 , 0.30639731, 0.30639731, 0.30976431,\n",
       "         0.30976431, 0.31313131, 0.31313131, 0.31986532, 0.31986532,\n",
       "         0.32323232, 0.32323232, 0.47474747, 0.47811448, 0.47811448,\n",
       "         0.48484848, 0.49158249, 0.49158249, 0.51178451, 0.51178451,\n",
       "         0.51851852, 0.51851852, 0.52188552, 0.52188552, 0.52525253,\n",
       "         0.52525253, 0.52861953, 0.52861953, 0.53198653, 0.53198653,\n",
       "         0.53535354, 0.53872054, 0.53872054, 0.54208754, 0.54208754,\n",
       "         0.54882155, 0.54882155, 0.55218855, 0.55218855, 0.55555556,\n",
       "         0.55555556, 0.55892256, 0.55892256, 0.56565657, 0.56565657,\n",
       "         0.56902357, 0.56902357, 0.57239057, 0.57239057, 0.57912458,\n",
       "         0.57912458, 0.58249158, 0.58249158, 0.58922559, 0.58922559,\n",
       "         0.5959596 , 0.5959596 , 0.5993266 , 0.5993266 , 0.6026936 ,\n",
       "         0.6026936 , 0.60606061, 0.61279461, 0.61616162, 0.61616162,\n",
       "         0.61952862, 0.62626263, 0.62626263, 0.63299663, 0.63299663,\n",
       "         0.63636364, 0.63636364, 0.63973064, 0.63973064, 0.64646465,\n",
       "         0.64646465, 0.65656566, 0.65656566, 0.65993266, 0.65993266,\n",
       "         0.66666667, 0.66666667, 0.67003367, 0.67003367, 0.68013468,\n",
       "         0.68013468, 0.68350168, 0.68350168, 0.68686869, 0.69360269,\n",
       "         0.69360269, 0.7003367 , 0.7003367 , 0.7037037 , 0.71043771,\n",
       "         0.71380471, 0.71380471, 0.71717172, 0.71717172, 0.72390572,\n",
       "         0.72390572, 0.73063973, 0.73063973, 0.73400673, 0.73400673,\n",
       "         0.73737374, 0.73737374, 0.74410774, 0.74747475, 0.74747475,\n",
       "         0.75084175, 0.75084175, 0.75420875, 0.75420875, 0.76094276,\n",
       "         0.76767677, 0.76767677, 0.77777778, 0.77777778, 0.78114478,\n",
       "         0.78114478, 0.78787879, 0.78787879, 0.79124579, 0.79124579,\n",
       "         0.79461279, 0.79461279, 0.7979798 , 0.7979798 , 0.8047138 ,\n",
       "         0.8047138 , 0.81144781, 0.81144781, 0.81481481, 0.81481481,\n",
       "         0.81818182, 0.81818182, 0.82154882, 0.82154882, 0.82491582,\n",
       "         0.82491582, 0.82828283, 0.82828283, 0.83501684, 0.83501684,\n",
       "         0.84175084, 0.84175084, 0.84511785, 0.84511785, 0.84848485,\n",
       "         0.84848485, 0.85185185, 0.85185185, 0.85521886, 0.85521886,\n",
       "         0.85858586, 0.85858586, 0.86868687, 0.86868687, 0.87878788,\n",
       "         0.88552189, 0.88552189, 0.8956229 , 0.8956229 , 0.9023569 ,\n",
       "         0.9023569 , 0.90572391, 0.90572391, 0.90909091, 0.90909091,\n",
       "         0.91582492, 0.91582492, 0.92592593, 0.92592593, 0.92929293,\n",
       "         0.92929293, 0.93265993, 0.93265993, 0.93602694, 0.93602694,\n",
       "         0.93939394, 0.93939394, 0.94276094, 0.94276094, 0.94612795,\n",
       "         0.94612795, 0.95286195, 0.95286195, 0.95959596, 0.95959596,\n",
       "         0.96296296, 0.96296296, 0.97306397, 0.97306397, 0.97643098,\n",
       "         0.98989899, 0.98989899, 0.996633  , 0.996633  , 1.        ,\n",
       "         1.        ])},\n",
       " 'hadamard_operator': {'fpr': array([0.        , 0.00219298, 0.00219298, 0.01096491, 0.01096491,\n",
       "         0.01315789, 0.01315789, 0.01315789, 0.01535088, 0.01535088,\n",
       "         0.01535088, 0.01535088, 0.01754386, 0.01754386, 0.01754386,\n",
       "         0.02412281, 0.02412281, 0.03070175, 0.03070175, 0.03289474,\n",
       "         0.03289474, 0.04605263, 0.04605263, 0.04824561, 0.04824561,\n",
       "         0.05263158, 0.05263158, 0.05482456, 0.05482456, 0.05482456,\n",
       "         0.06798246, 0.06798246, 0.07017544, 0.07017544, 0.07236842,\n",
       "         0.07236842, 0.0745614 , 0.0745614 , 0.07675439, 0.07675439,\n",
       "         0.08114035, 0.08114035, 0.08333333, 0.08333333, 0.08552632,\n",
       "         0.08552632, 0.08552632, 0.09210526, 0.09210526, 0.09868421,\n",
       "         0.09868421, 0.10526316, 0.10526316, 0.10745614, 0.10745614,\n",
       "         0.11184211, 0.11184211, 0.11403509, 0.11403509, 0.11622807,\n",
       "         0.11622807, 0.11842105, 0.11842105, 0.125     , 0.125     ,\n",
       "         0.12938596, 0.12938596, 0.13157895, 0.13157895, 0.13377193,\n",
       "         0.13377193, 0.13596491, 0.13596491, 0.14035088, 0.14035088,\n",
       "         0.14692982, 0.14692982, 0.15131579, 0.15131579, 0.15131579,\n",
       "         0.15350877, 0.15350877, 0.15570175, 0.57675439, 0.57894737,\n",
       "         0.57894737, 0.58333333, 0.59210526, 0.59210526, 0.59429825,\n",
       "         0.59429825, 0.61403509, 0.61403509, 0.61622807, 0.61622807,\n",
       "         0.62061404, 0.62061404, 0.62938596, 0.62938596, 0.63157895,\n",
       "         0.63157895, 0.63377193, 0.63377193, 0.63596491, 0.63596491,\n",
       "         0.63815789, 0.63815789, 0.64473684, 0.64473684, 0.64912281,\n",
       "         0.64912281, 0.65570175, 0.65570175, 0.66008772, 0.66008772,\n",
       "         0.66008772, 0.66008772, 0.66008772, 0.66666667, 0.66666667,\n",
       "         0.67105263, 0.67105263, 0.6754386 , 0.6754386 , 0.67763158,\n",
       "         0.67763158, 0.68201754, 0.68201754, 0.68421053, 0.68421053,\n",
       "         0.68859649, 0.68859649, 0.6995614 , 0.6995614 , 0.70394737,\n",
       "         0.70394737, 0.70614035, 0.70614035, 0.70833333, 0.70833333,\n",
       "         0.70833333, 0.70833333, 0.7127193 , 0.7127193 , 0.71929825,\n",
       "         0.71929825, 0.73245614, 0.73245614, 0.73903509, 0.73903509,\n",
       "         0.74122807, 0.74122807, 0.76754386, 0.76754386, 0.76973684,\n",
       "         0.76973684, 0.77412281, 0.77412281, 0.78289474, 0.78289474,\n",
       "         0.79166667, 0.79166667, 0.79385965, 0.79385965, 0.79824561,\n",
       "         0.79824561, 0.80701754, 0.80701754, 0.80921053, 0.80921053,\n",
       "         0.81578947, 0.81578947, 0.82017544, 0.82017544, 0.8245614 ,\n",
       "         0.8245614 , 0.82894737, 0.82894737, 0.83552632, 0.83552632,\n",
       "         0.83991228, 0.83991228, 0.85745614, 0.85745614, 0.86184211,\n",
       "         0.86184211, 0.86403509, 0.86403509, 0.88377193, 0.88377193,\n",
       "         0.88596491, 0.88596491, 0.89035088, 0.89035088, 0.89912281,\n",
       "         0.89912281, 0.90350877, 0.90350877, 0.90350877, 0.90789474,\n",
       "         0.90789474, 0.9254386 , 0.9254386 , 0.92763158, 0.92763158,\n",
       "         0.92982456, 0.92982456, 0.93201754, 0.93201754, 0.94298246,\n",
       "         0.94298246, 0.9495614 , 0.9495614 , 0.9627193 , 0.9627193 ,\n",
       "         0.97368421, 0.97368421, 0.98026316, 0.98026316, 0.98464912,\n",
       "         0.98464912, 0.98684211, 0.98684211, 1.        ]),\n",
       "  'tpr': array([0.        , 0.        , 0.01010101, 0.01010101, 0.01683502,\n",
       "         0.01683502, 0.02356902, 0.03030303, 0.03030303, 0.03367003,\n",
       "         0.04040404, 0.05050505, 0.05050505, 0.06060606, 0.06734007,\n",
       "         0.06734007, 0.07070707, 0.07070707, 0.07744108, 0.07744108,\n",
       "         0.08417508, 0.08417508, 0.08754209, 0.08754209, 0.09090909,\n",
       "         0.09090909, 0.09427609, 0.09427609, 0.1010101 , 0.11784512,\n",
       "         0.11784512, 0.13131313, 0.13131313, 0.13468013, 0.13468013,\n",
       "         0.13804714, 0.13804714, 0.14478114, 0.14478114, 0.14814815,\n",
       "         0.14814815, 0.15151515, 0.15151515, 0.15488215, 0.15488215,\n",
       "         0.16835017, 0.17508418, 0.17508418, 0.17845118, 0.17845118,\n",
       "         0.18518519, 0.18518519, 0.18855219, 0.18855219, 0.1952862 ,\n",
       "         0.1952862 , 0.1986532 , 0.1986532 , 0.2020202 , 0.2020202 ,\n",
       "         0.20538721, 0.20538721, 0.20875421, 0.20875421, 0.21212121,\n",
       "         0.21212121, 0.21548822, 0.21548822, 0.21885522, 0.21885522,\n",
       "         0.22558923, 0.22558923, 0.22895623, 0.22895623, 0.23232323,\n",
       "         0.23232323, 0.24242424, 0.24242424, 0.24579125, 0.25252525,\n",
       "         0.25252525, 0.25589226, 0.25589226, 0.63636364, 0.63636364,\n",
       "         0.64309764, 0.64309764, 0.64309764, 0.65319865, 0.65319865,\n",
       "         0.65656566, 0.65656566, 0.65993266, 0.65993266, 0.66329966,\n",
       "         0.66329966, 0.66666667, 0.66666667, 0.67003367, 0.67003367,\n",
       "         0.67340067, 0.67340067, 0.68013468, 0.68013468, 0.68350168,\n",
       "         0.68350168, 0.68686869, 0.68686869, 0.69023569, 0.69023569,\n",
       "         0.69360269, 0.69360269, 0.7037037 , 0.7037037 , 0.71043771,\n",
       "         0.71380471, 0.72053872, 0.72390572, 0.72390572, 0.72727273,\n",
       "         0.72727273, 0.73063973, 0.73063973, 0.73400673, 0.73400673,\n",
       "         0.74074074, 0.74074074, 0.74410774, 0.74410774, 0.74747475,\n",
       "         0.74747475, 0.75757576, 0.75757576, 0.76430976, 0.76430976,\n",
       "         0.77777778, 0.77777778, 0.78114478, 0.78114478, 0.78451178,\n",
       "         0.79124579, 0.79461279, 0.79461279, 0.80808081, 0.80808081,\n",
       "         0.81481481, 0.81481481, 0.81818182, 0.81818182, 0.82491582,\n",
       "         0.82491582, 0.82828283, 0.82828283, 0.83501684, 0.83501684,\n",
       "         0.83838384, 0.83838384, 0.84175084, 0.84175084, 0.84511785,\n",
       "         0.84511785, 0.84848485, 0.84848485, 0.85185185, 0.85185185,\n",
       "         0.85521886, 0.85521886, 0.86195286, 0.86195286, 0.86531987,\n",
       "         0.86531987, 0.86868687, 0.86868687, 0.87205387, 0.87205387,\n",
       "         0.87542088, 0.87542088, 0.88215488, 0.88215488, 0.88552189,\n",
       "         0.88552189, 0.88888889, 0.88888889, 0.89225589, 0.89225589,\n",
       "         0.8956229 , 0.8956229 , 0.90572391, 0.90572391, 0.91582492,\n",
       "         0.91582492, 0.91919192, 0.91919192, 0.92592593, 0.92592593,\n",
       "         0.92929293, 0.92929293, 0.93602694, 0.93939394, 0.93939394,\n",
       "         0.94276094, 0.94276094, 0.94949495, 0.94949495, 0.95286195,\n",
       "         0.95286195, 0.95959596, 0.95959596, 0.96632997, 0.96632997,\n",
       "         0.97306397, 0.97306397, 0.97643098, 0.97643098, 0.97979798,\n",
       "         0.97979798, 0.98316498, 0.98316498, 0.98653199, 0.98653199,\n",
       "         0.99326599, 0.99326599, 1.        , 1.        ])},\n",
       " 'weighted_l1_operator': {'fpr': array([0.        , 0.00219298, 0.00438596, 0.00438596, 0.00657895,\n",
       "         0.00657895, 0.00877193, 0.00877193, 0.01315789, 0.01315789,\n",
       "         0.02192982, 0.02192982, 0.02412281, 0.02412281, 0.03070175,\n",
       "         0.03070175, 0.03289474, 0.03289474, 0.04166667, 0.04166667,\n",
       "         0.04824561, 0.04824561, 0.05263158, 0.05263158, 0.05482456,\n",
       "         0.05482456, 0.05921053, 0.05921053, 0.06140351, 0.06140351,\n",
       "         0.08552632, 0.08552632, 0.08991228, 0.08991228, 0.09210526,\n",
       "         0.09210526, 0.09429825, 0.09429825, 0.27412281, 0.27412281,\n",
       "         0.28070175, 0.28070175, 0.28289474, 0.28289474, 0.29166667,\n",
       "         0.29166667, 0.29385965, 0.29385965, 0.29824561, 0.29824561,\n",
       "         0.29824561, 0.29824561, 0.30921053, 0.30921053, 0.31578947,\n",
       "         0.31578947, 0.32017544, 0.32017544, 0.32017544, 0.3245614 ,\n",
       "         0.3245614 , 0.3245614 , 0.32675439, 0.32675439, 0.34429825,\n",
       "         0.34429825, 0.34868421, 0.34868421, 0.35964912, 0.35964912,\n",
       "         0.36184211, 0.36184211, 0.36403509, 0.36403509, 0.36622807,\n",
       "         0.36622807, 0.36842105, 0.36842105, 0.37719298, 0.37719298,\n",
       "         0.37719298, 0.37719298, 0.38157895, 0.38157895, 0.38596491,\n",
       "         0.38596491, 0.39035088, 0.39254386, 0.39473684, 0.39473684,\n",
       "         0.40570175, 0.40570175, 0.41447368, 0.41447368, 0.41666667,\n",
       "         0.41666667, 0.42324561, 0.42324561, 0.4254386 , 0.4254386 ,\n",
       "         0.42763158, 0.42763158, 0.43421053, 0.43421053, 0.43859649,\n",
       "         0.43859649, 0.44517544, 0.44517544, 0.44736842, 0.44736842,\n",
       "         0.45394737, 0.45394737, 0.45833333, 0.45833333, 0.4627193 ,\n",
       "         0.4627193 , 0.46491228, 0.46491228, 0.47587719, 0.47587719,\n",
       "         0.48026316, 0.48026316, 0.48464912, 0.48464912, 0.48684211,\n",
       "         0.48684211, 0.49122807, 0.49122807, 0.50219298, 0.50219298,\n",
       "         0.50657895, 0.50657895, 0.50877193, 0.50877193, 0.51315789,\n",
       "         0.51315789, 0.52192982, 0.52192982, 0.53508772, 0.53508772,\n",
       "         0.54824561, 0.54824561, 0.5504386 , 0.5504386 , 0.55701754,\n",
       "         0.55701754, 0.55921053, 0.55921053, 0.56140351, 0.56140351,\n",
       "         0.56798246, 0.56798246, 0.5745614 , 0.5745614 , 0.58333333,\n",
       "         0.58333333, 0.58552632, 0.58552632, 0.5877193 , 0.5877193 ,\n",
       "         0.59429825, 0.59429825, 0.59868421, 0.59868421, 0.60526316,\n",
       "         0.60526316, 0.60745614, 0.60745614, 0.60964912, 0.60964912,\n",
       "         0.61403509, 0.61403509, 0.61842105, 0.61842105, 0.61842105,\n",
       "         0.62280702, 0.62280702, 0.62280702, 0.62719298, 0.62719298,\n",
       "         0.62938596, 0.62938596, 0.63377193, 0.63377193, 0.63815789,\n",
       "         0.63815789, 0.64912281, 0.64912281, 0.66885965, 0.66885965,\n",
       "         0.67105263, 0.67105263, 0.67324561, 0.67324561, 0.6754386 ,\n",
       "         0.6754386 , 0.68201754, 0.68201754, 0.69078947, 0.69078947,\n",
       "         0.69298246, 0.69298246, 0.71710526, 0.71710526, 0.72149123,\n",
       "         0.72149123, 0.72368421, 0.72368421, 0.72587719, 0.72587719,\n",
       "         0.72587719, 0.72807018, 0.72807018, 0.73026316, 0.73026316,\n",
       "         0.73464912, 0.73464912, 0.73903509, 0.73903509, 0.74122807,\n",
       "         0.74122807, 0.74780702, 0.74780702, 0.75877193, 0.75877193,\n",
       "         0.75877193, 0.76754386, 0.76754386, 0.76754386, 0.77192982,\n",
       "         0.77192982, 0.77631579, 0.77631579, 0.78289474, 0.78289474,\n",
       "         0.78508772, 0.78508772, 0.78947368, 0.78947368, 0.79385965,\n",
       "         0.79385965, 0.79605263, 0.79605263, 0.79824561, 0.79824561,\n",
       "         0.8004386 , 0.8004386 , 0.80263158, 0.80263158, 0.80482456,\n",
       "         0.80482456, 0.81578947, 0.81578947, 0.81798246, 0.81798246,\n",
       "         0.82236842, 0.82236842, 0.82894737, 0.82894737, 0.85745614,\n",
       "         0.85745614, 0.86184211, 0.86184211, 0.875     , 0.875     ,\n",
       "         0.87719298, 0.87719298, 0.88157895, 0.88157895, 0.88377193,\n",
       "         0.88377193, 0.88815789, 0.88815789, 0.89254386, 0.89254386,\n",
       "         0.89473684, 0.89473684, 0.89912281, 0.89912281, 0.89912281,\n",
       "         0.90570175, 0.90570175, 0.90789474, 0.90789474, 0.9122807 ,\n",
       "         0.9122807 , 0.91447368, 0.91447368, 0.92763158, 0.92763158,\n",
       "         0.93421053, 0.93421053, 0.94078947, 0.94078947, 0.94078947,\n",
       "         0.94298246, 0.94298246, 0.95394737, 0.95394737, 0.96052632,\n",
       "         0.96052632, 0.96710526, 0.96710526, 0.97149123, 0.97149123,\n",
       "         0.98026316, 0.98026316, 0.98464912, 0.98464912, 0.99780702,\n",
       "         0.99780702, 1.        ]),\n",
       "  'tpr': array([0.        , 0.        , 0.        , 0.01346801, 0.01346801,\n",
       "         0.02356902, 0.02356902, 0.03703704, 0.03703704, 0.04377104,\n",
       "         0.04377104, 0.04713805, 0.04713805, 0.05387205, 0.05387205,\n",
       "         0.06060606, 0.06060606, 0.06734007, 0.06734007, 0.07070707,\n",
       "         0.07070707, 0.07744108, 0.07744108, 0.08080808, 0.08080808,\n",
       "         0.08417508, 0.08417508, 0.08754209, 0.08754209, 0.09090909,\n",
       "         0.09090909, 0.09427609, 0.09427609, 0.0976431 , 0.0976431 ,\n",
       "         0.1010101 , 0.1010101 , 0.1043771 , 0.25925926, 0.26262626,\n",
       "         0.26262626, 0.26599327, 0.26599327, 0.27272727, 0.27272727,\n",
       "         0.27609428, 0.27609428, 0.28282828, 0.28282828, 0.28619529,\n",
       "         0.29292929, 0.2962963 , 0.2962963 , 0.30976431, 0.30976431,\n",
       "         0.31313131, 0.31313131, 0.31986532, 0.32659933, 0.32659933,\n",
       "         0.32996633, 0.33670034, 0.33670034, 0.34006734, 0.34006734,\n",
       "         0.34680135, 0.34680135, 0.35016835, 0.35016835, 0.35690236,\n",
       "         0.35690236, 0.36363636, 0.36363636, 0.36700337, 0.36700337,\n",
       "         0.37037037, 0.37037037, 0.37373737, 0.37373737, 0.37710438,\n",
       "         0.38383838, 0.38720539, 0.38720539, 0.39057239, 0.39057239,\n",
       "         0.39393939, 0.39393939, 0.3973064 , 0.3973064 , 0.40740741,\n",
       "         0.40740741, 0.41077441, 0.41077441, 0.41414141, 0.41414141,\n",
       "         0.42087542, 0.42087542, 0.42760943, 0.42760943, 0.43097643,\n",
       "         0.43097643, 0.43434343, 0.43434343, 0.43771044, 0.43771044,\n",
       "         0.44107744, 0.44107744, 0.44444444, 0.44444444, 0.44781145,\n",
       "         0.44781145, 0.45117845, 0.45117845, 0.45791246, 0.45791246,\n",
       "         0.46464646, 0.46464646, 0.47138047, 0.47138047, 0.48484848,\n",
       "         0.48484848, 0.48821549, 0.48821549, 0.4983165 , 0.4983165 ,\n",
       "         0.50505051, 0.50505051, 0.50841751, 0.50841751, 0.51178451,\n",
       "         0.51178451, 0.51515152, 0.51515152, 0.51851852, 0.51851852,\n",
       "         0.52188552, 0.52188552, 0.52525253, 0.52525253, 0.52861953,\n",
       "         0.52861953, 0.53198653, 0.53198653, 0.53872054, 0.53872054,\n",
       "         0.54208754, 0.54208754, 0.54545455, 0.54545455, 0.54882155,\n",
       "         0.54882155, 0.55218855, 0.55218855, 0.55555556, 0.55555556,\n",
       "         0.56228956, 0.56228956, 0.56902357, 0.56902357, 0.58585859,\n",
       "         0.58585859, 0.59259259, 0.59259259, 0.6026936 , 0.6026936 ,\n",
       "         0.60606061, 0.60606061, 0.60942761, 0.60942761, 0.61279461,\n",
       "         0.61279461, 0.61616162, 0.61616162, 0.62289562, 0.62626263,\n",
       "         0.62626263, 0.62962963, 0.63636364, 0.63636364, 0.63973064,\n",
       "         0.63973064, 0.64309764, 0.64309764, 0.64646465, 0.64646465,\n",
       "         0.65319865, 0.65319865, 0.65656566, 0.65656566, 0.66329966,\n",
       "         0.66329966, 0.66666667, 0.66666667, 0.67676768, 0.67676768,\n",
       "         0.68013468, 0.68013468, 0.68350168, 0.68350168, 0.69023569,\n",
       "         0.69023569, 0.7003367 , 0.7003367 , 0.7037037 , 0.7037037 ,\n",
       "         0.71043771, 0.71043771, 0.71380471, 0.71380471, 0.72053872,\n",
       "         0.72390572, 0.72390572, 0.72727273, 0.72727273, 0.73063973,\n",
       "         0.73063973, 0.73400673, 0.73400673, 0.73737374, 0.73737374,\n",
       "         0.74074074, 0.74074074, 0.74410774, 0.74410774, 0.74747475,\n",
       "         0.75420875, 0.75420875, 0.76094276, 0.76767677, 0.76767677,\n",
       "         0.77104377, 0.77104377, 0.77441077, 0.77441077, 0.77777778,\n",
       "         0.77777778, 0.78114478, 0.78114478, 0.78451178, 0.78451178,\n",
       "         0.79124579, 0.79124579, 0.79461279, 0.79461279, 0.8013468 ,\n",
       "         0.8013468 , 0.81144781, 0.81144781, 0.81818182, 0.81818182,\n",
       "         0.82154882, 0.82154882, 0.82491582, 0.82491582, 0.82828283,\n",
       "         0.82828283, 0.83164983, 0.83164983, 0.83501684, 0.83501684,\n",
       "         0.83838384, 0.83838384, 0.84175084, 0.84175084, 0.84511785,\n",
       "         0.84511785, 0.85185185, 0.85185185, 0.85521886, 0.85521886,\n",
       "         0.85858586, 0.85858586, 0.86531987, 0.86531987, 0.87542088,\n",
       "         0.87542088, 0.88552189, 0.88552189, 0.89225589, 0.8956229 ,\n",
       "         0.8956229 , 0.9023569 , 0.9023569 , 0.90909091, 0.90909091,\n",
       "         0.91245791, 0.91245791, 0.91582492, 0.91582492, 0.92255892,\n",
       "         0.92255892, 0.94276094, 0.94276094, 0.94949495, 0.95622896,\n",
       "         0.95622896, 0.95959596, 0.95959596, 0.96632997, 0.96632997,\n",
       "         0.97306397, 0.97306397, 0.97979798, 0.97979798, 0.98316498,\n",
       "         0.98316498, 0.98989899, 0.98989899, 0.99326599, 0.99326599,\n",
       "         1.        , 1.        ])},\n",
       " 'weighted_l2_operator': {'fpr': array([0.        , 0.00219298, 0.00438596, 0.00438596, 0.00657895,\n",
       "         0.00657895, 0.00877193, 0.00877193, 0.01096491, 0.01096491,\n",
       "         0.01315789, 0.01315789, 0.01535088, 0.01535088, 0.01754386,\n",
       "         0.01754386, 0.01973684, 0.01973684, 0.02192982, 0.02192982,\n",
       "         0.03070175, 0.03070175, 0.03508772, 0.03508772, 0.04385965,\n",
       "         0.04385965, 0.04824561, 0.04824561, 0.05482456, 0.05482456,\n",
       "         0.07017544, 0.07017544, 0.07236842, 0.07236842, 0.0877193 ,\n",
       "         0.0877193 , 0.10526316, 0.10526316, 0.12061404, 0.12061404,\n",
       "         0.125     , 0.125     , 0.13157895, 0.13157895, 0.31798246,\n",
       "         0.32236842, 0.33114035, 0.33333333, 0.33552632, 0.34429825,\n",
       "         0.34649123, 0.34649123, 0.35526316, 0.35745614, 0.35964912,\n",
       "         0.35964912, 0.36622807, 0.37061404, 0.37061404, 0.37061404,\n",
       "         0.375     , 0.38157895, 0.38815789, 0.38815789, 0.39912281,\n",
       "         0.39912281, 0.40131579, 0.40131579, 0.40570175, 0.40570175,\n",
       "         0.4122807 , 0.4122807 , 0.41447368, 0.41447368, 0.41447368,\n",
       "         0.41666667, 0.41666667, 0.41885965, 0.41885965, 0.42982456,\n",
       "         0.43201754, 0.43421053, 0.43421053, 0.43859649, 0.43859649,\n",
       "         0.44078947, 0.44078947, 0.4495614 , 0.4495614 , 0.45394737,\n",
       "         0.45394737, 0.45833333, 0.45833333, 0.46052632, 0.46052632,\n",
       "         0.47149123, 0.47149123, 0.47807018, 0.47807018, 0.48026316,\n",
       "         0.48026316, 0.48245614, 0.48245614, 0.48464912, 0.48464912,\n",
       "         0.49342105, 0.49342105, 0.5       , 0.5       , 0.5       ,\n",
       "         0.50657895, 0.50657895, 0.50877193, 0.50877193, 0.51096491,\n",
       "         0.51096491, 0.51315789, 0.51315789, 0.52192982, 0.52192982,\n",
       "         0.52412281, 0.52412281, 0.52631579, 0.52631579, 0.53070175,\n",
       "         0.53070175, 0.5372807 , 0.5372807 , 0.54605263, 0.54605263,\n",
       "         0.55263158, 0.55263158, 0.56140351, 0.56140351, 0.58333333,\n",
       "         0.58333333, 0.58991228, 0.58991228, 0.59868421, 0.59868421,\n",
       "         0.60307018, 0.60307018, 0.61184211, 0.61184211, 0.61622807,\n",
       "         0.61622807, 0.61842105, 0.61842105, 0.62061404, 0.62061404,\n",
       "         0.625     , 0.625     , 0.63596491, 0.63596491, 0.63815789,\n",
       "         0.63815789, 0.64035088, 0.64035088, 0.64254386, 0.64254386,\n",
       "         0.64692982, 0.64692982, 0.64692982, 0.65131579, 0.65131579,\n",
       "         0.65570175, 0.65570175, 0.65789474, 0.65789474, 0.65789474,\n",
       "         0.66447368, 0.66447368, 0.67982456, 0.67982456, 0.67982456,\n",
       "         0.68640351, 0.68640351, 0.6995614 , 0.6995614 , 0.6995614 ,\n",
       "         0.70175439, 0.70175439, 0.70614035, 0.70614035, 0.7127193 ,\n",
       "         0.7127193 , 0.71491228, 0.71491228, 0.71710526, 0.71710526,\n",
       "         0.73026316, 0.73026316, 0.73245614, 0.73245614, 0.74122807,\n",
       "         0.74122807, 0.74342105, 0.74342105, 0.74780702, 0.74780702,\n",
       "         0.76096491, 0.76096491, 0.76754386, 0.76754386, 0.77192982,\n",
       "         0.77192982, 0.77631579, 0.77631579, 0.78070175, 0.78070175,\n",
       "         0.78289474, 0.78289474, 0.7872807 , 0.7872807 , 0.79385965,\n",
       "         0.79385965, 0.79605263, 0.79605263, 0.8004386 , 0.8004386 ,\n",
       "         0.80482456, 0.80482456, 0.80482456, 0.80921053, 0.80921053,\n",
       "         0.81798246, 0.81798246, 0.83114035, 0.83114035, 0.83333333,\n",
       "         0.83333333, 0.84210526, 0.84210526, 0.84649123, 0.84649123,\n",
       "         0.85307018, 0.85307018, 0.85526316, 0.85526316, 0.85745614,\n",
       "         0.85745614, 0.85964912, 0.85964912, 0.87719298, 0.87719298,\n",
       "         0.87938596, 0.87938596, 0.88596491, 0.88596491, 0.88815789,\n",
       "         0.88815789, 0.90570175, 0.90570175, 0.90570175, 0.91447368,\n",
       "         0.91447368, 0.91666667, 0.91666667, 0.91885965, 0.91885965,\n",
       "         0.92105263, 0.92105263, 0.92324561, 0.92324561, 0.92763158,\n",
       "         0.92763158, 0.93201754, 0.93201754, 0.93859649, 0.93859649,\n",
       "         0.94736842, 0.94736842, 0.95394737, 0.95394737, 0.9627193 ,\n",
       "         0.9627193 , 0.97149123, 0.97149123, 0.97807018, 0.97807018,\n",
       "         0.98684211, 0.98684211, 0.99122807, 0.99122807, 0.99342105,\n",
       "         0.99342105, 1.        ]),\n",
       "  'tpr': array([0.        , 0.        , 0.        , 0.01010101, 0.01010101,\n",
       "         0.02020202, 0.02020202, 0.02356902, 0.02356902, 0.03030303,\n",
       "         0.03030303, 0.03367003, 0.03367003, 0.03703704, 0.03703704,\n",
       "         0.04377104, 0.04377104, 0.04713805, 0.04713805, 0.06060606,\n",
       "         0.06060606, 0.06734007, 0.06734007, 0.07070707, 0.07070707,\n",
       "         0.07744108, 0.07744108, 0.08417508, 0.08417508, 0.09090909,\n",
       "         0.09090909, 0.0976431 , 0.0976431 , 0.1043771 , 0.1043771 ,\n",
       "         0.10774411, 0.10774411, 0.11111111, 0.11111111, 0.11447811,\n",
       "         0.11447811, 0.12121212, 0.12121212, 0.12457912, 0.28619529,\n",
       "         0.28619529, 0.2962963 , 0.3030303 , 0.30639731, 0.31986532,\n",
       "         0.31986532, 0.32323232, 0.33333333, 0.34343434, 0.34680135,\n",
       "         0.35016835, 0.35016835, 0.35016835, 0.35690236, 0.36026936,\n",
       "         0.36026936, 0.36363636, 0.36363636, 0.37037037, 0.37037037,\n",
       "         0.37710438, 0.38047138, 0.38720539, 0.38720539, 0.39393939,\n",
       "         0.39393939, 0.3973064 , 0.3973064 , 0.4006734 , 0.40740741,\n",
       "         0.40740741, 0.41077441, 0.41077441, 0.41414141, 0.41414141,\n",
       "         0.41750842, 0.41750842, 0.42424242, 0.42424242, 0.42760943,\n",
       "         0.42760943, 0.43097643, 0.43097643, 0.43434343, 0.43434343,\n",
       "         0.44107744, 0.44107744, 0.44444444, 0.44444444, 0.45117845,\n",
       "         0.45117845, 0.45454545, 0.45454545, 0.45791246, 0.45791246,\n",
       "         0.46127946, 0.46127946, 0.46464646, 0.46464646, 0.46801347,\n",
       "         0.46801347, 0.47474747, 0.47474747, 0.48484848, 0.49158249,\n",
       "         0.49158249, 0.49494949, 0.49494949, 0.4983165 , 0.4983165 ,\n",
       "         0.5016835 , 0.5016835 , 0.50841751, 0.50841751, 0.51851852,\n",
       "         0.51851852, 0.52188552, 0.52188552, 0.52525253, 0.52525253,\n",
       "         0.52861953, 0.52861953, 0.53198653, 0.53198653, 0.53872054,\n",
       "         0.53872054, 0.54545455, 0.54545455, 0.54882155, 0.54882155,\n",
       "         0.55555556, 0.55555556, 0.55892256, 0.55892256, 0.56902357,\n",
       "         0.56902357, 0.57575758, 0.57575758, 0.57912458, 0.57912458,\n",
       "         0.58585859, 0.58585859, 0.59259259, 0.59259259, 0.60942761,\n",
       "         0.60942761, 0.61616162, 0.61616162, 0.62289562, 0.62289562,\n",
       "         0.62962963, 0.62962963, 0.63299663, 0.63299663, 0.63636364,\n",
       "         0.63636364, 0.63973064, 0.64646465, 0.64646465, 0.64983165,\n",
       "         0.64983165, 0.65319865, 0.65319865, 0.65656566, 0.66329966,\n",
       "         0.66329966, 0.66666667, 0.66666667, 0.67340067, 0.67676768,\n",
       "         0.67676768, 0.68350168, 0.68350168, 0.69023569, 0.7003367 ,\n",
       "         0.7003367 , 0.70707071, 0.70707071, 0.71380471, 0.71380471,\n",
       "         0.71717172, 0.71717172, 0.72053872, 0.72053872, 0.72390572,\n",
       "         0.72390572, 0.72727273, 0.72727273, 0.73063973, 0.73063973,\n",
       "         0.74074074, 0.74074074, 0.74410774, 0.74410774, 0.75084175,\n",
       "         0.75084175, 0.75757576, 0.75757576, 0.76094276, 0.76094276,\n",
       "         0.76767677, 0.76767677, 0.77104377, 0.77104377, 0.77441077,\n",
       "         0.77441077, 0.77777778, 0.77777778, 0.78114478, 0.78114478,\n",
       "         0.78787879, 0.78787879, 0.79124579, 0.79124579, 0.8013468 ,\n",
       "         0.8013468 , 0.80808081, 0.81144781, 0.81144781, 0.81481481,\n",
       "         0.81481481, 0.82491582, 0.82491582, 0.83838384, 0.83838384,\n",
       "         0.84848485, 0.84848485, 0.85521886, 0.85521886, 0.85858586,\n",
       "         0.85858586, 0.86195286, 0.86195286, 0.86531987, 0.86531987,\n",
       "         0.86868687, 0.86868687, 0.87205387, 0.87205387, 0.87542088,\n",
       "         0.87542088, 0.88215488, 0.88215488, 0.88888889, 0.88888889,\n",
       "         0.89225589, 0.89225589, 0.8989899 , 0.90909091, 0.90909091,\n",
       "         0.91245791, 0.91245791, 0.92592593, 0.92592593, 0.92929293,\n",
       "         0.92929293, 0.93265993, 0.93265993, 0.93939394, 0.93939394,\n",
       "         0.94949495, 0.94949495, 0.95286195, 0.95286195, 0.95959596,\n",
       "         0.95959596, 0.96296296, 0.96296296, 0.96969697, 0.96969697,\n",
       "         0.97306397, 0.97306397, 0.97979798, 0.97979798, 0.98316498,\n",
       "         0.98316498, 0.98989899, 0.98989899, 0.996633  , 0.996633  ,\n",
       "         1.        , 1.        ])},\n",
       " 'neighbor_weighted_l1_operator': {'fpr': array([0.        , 0.        , 0.00657895, 0.00657895, 0.01096491,\n",
       "         0.01096491, 0.01535088, 0.01535088, 0.02631579, 0.02631579,\n",
       "         0.03289474, 0.03289474, 0.03508772, 0.03508772, 0.03947368,\n",
       "         0.03947368, 0.04166667, 0.04166667, 0.04605263, 0.04605263,\n",
       "         0.04605263, 0.04824561, 0.04824561, 0.0504386 , 0.0504386 ,\n",
       "         0.05921053, 0.05921053, 0.07675439, 0.07675439, 0.08114035,\n",
       "         0.08114035, 0.09649123, 0.09649123, 0.09868421, 0.09868421,\n",
       "         0.09868421, 0.11184211, 0.11184211, 0.12061404, 0.12061404,\n",
       "         0.13157895, 0.13157895, 0.13377193, 0.13377193, 0.13596491,\n",
       "         0.13596491, 0.13815789, 0.13815789, 0.13815789, 0.13815789,\n",
       "         0.14254386, 0.14254386, 0.24780702, 0.25      , 0.25      ,\n",
       "         0.26096491, 0.26096491, 0.26315789, 0.26315789, 0.26754386,\n",
       "         0.26754386, 0.28070175, 0.28070175, 0.2872807 , 0.2872807 ,\n",
       "         0.28947368, 0.28947368, 0.28947368, 0.29166667, 0.29166667,\n",
       "         0.29166667, 0.29824561, 0.29824561, 0.3004386 , 0.3004386 ,\n",
       "         0.30482456, 0.30482456, 0.32017544, 0.32017544, 0.32675439,\n",
       "         0.32675439, 0.33114035, 0.33114035, 0.33333333, 0.33333333,\n",
       "         0.34429825, 0.34429825, 0.34868421, 0.34868421, 0.35307018,\n",
       "         0.35307018, 0.35307018, 0.35307018, 0.35526316, 0.35526316,\n",
       "         0.37280702, 0.37280702, 0.37719298, 0.37719298, 0.37938596,\n",
       "         0.37938596, 0.38157895, 0.38157895, 0.38157895, 0.38377193,\n",
       "         0.38377193, 0.38815789, 0.38815789, 0.39035088, 0.39035088,\n",
       "         0.39254386, 0.40570175, 0.40570175, 0.40789474, 0.40789474,\n",
       "         0.41008772, 0.41008772, 0.41447368, 0.41447368, 0.41885965,\n",
       "         0.41885965, 0.42982456, 0.42982456, 0.44517544, 0.44517544,\n",
       "         0.44736842, 0.44736842, 0.47149123, 0.47149123, 0.47149123,\n",
       "         0.47368421, 0.47368421, 0.47587719, 0.47587719, 0.47807018,\n",
       "         0.47807018, 0.48903509, 0.48903509, 0.49780702, 0.49780702,\n",
       "         0.50438596, 0.50438596, 0.50657895, 0.50657895, 0.50877193,\n",
       "         0.50877193, 0.51096491, 0.51096491, 0.51315789, 0.51315789,\n",
       "         0.51754386, 0.51754386, 0.52412281, 0.52412281, 0.52631579,\n",
       "         0.52631579, 0.52850877, 0.52850877, 0.53070175, 0.53070175,\n",
       "         0.53508772, 0.53508772, 0.53508772, 0.5372807 , 0.5372807 ,\n",
       "         0.54166667, 0.54166667, 0.54385965, 0.54385965, 0.54605263,\n",
       "         0.54605263, 0.55263158, 0.55263158, 0.55701754, 0.55701754,\n",
       "         0.56798246, 0.56798246, 0.57017544, 0.57017544, 0.5745614 ,\n",
       "         0.5745614 , 0.57894737, 0.57894737, 0.58114035, 0.58114035,\n",
       "         0.5877193 , 0.5877193 , 0.59429825, 0.59429825, 0.59868421,\n",
       "         0.59868421, 0.60087719, 0.60087719, 0.60307018, 0.60307018,\n",
       "         0.60526316, 0.60526316, 0.60745614, 0.60745614, 0.625     ,\n",
       "         0.625     , 0.62719298, 0.62719298, 0.62719298, 0.62719298,\n",
       "         0.62938596, 0.62938596, 0.63377193, 0.63377193, 0.63815789,\n",
       "         0.63815789, 0.63815789, 0.64035088, 0.64035088, 0.64473684,\n",
       "         0.64692982, 0.64912281, 0.64912281, 0.65131579, 0.65131579,\n",
       "         0.65350877, 0.65350877, 0.66008772, 0.66008772, 0.68859649,\n",
       "         0.68859649, 0.69517544, 0.69517544, 0.69736842, 0.69736842,\n",
       "         0.70175439, 0.70175439, 0.70175439, 0.70614035, 0.70614035,\n",
       "         0.7127193 , 0.7127193 , 0.72368421, 0.72368421, 0.72368421,\n",
       "         0.73903509, 0.73903509, 0.74561404, 0.74561404, 0.75219298,\n",
       "         0.75219298, 0.75877193, 0.75877193, 0.77412281, 0.77412281,\n",
       "         0.77850877, 0.77850877, 0.77850877, 0.77850877, 0.79385965,\n",
       "         0.79385965, 0.79385965, 0.81359649, 0.81359649, 0.82017544,\n",
       "         0.82017544, 0.82017544, 0.82675439, 0.82675439, 0.83114035,\n",
       "         0.83114035, 0.83333333, 0.83333333, 0.8377193 , 0.8377193 ,\n",
       "         0.83991228, 0.83991228, 0.84210526, 0.84210526, 0.84429825,\n",
       "         0.84429825, 0.84649123, 0.84649123, 0.85745614, 0.85745614,\n",
       "         0.86184211, 0.86184211, 0.86842105, 0.86842105, 0.875     ,\n",
       "         0.875     , 0.87938596, 0.87938596, 0.88157895, 0.88157895,\n",
       "         0.88377193, 0.88377193, 0.89035088, 0.89035088, 0.89473684,\n",
       "         0.89473684, 0.89692982, 0.89692982, 0.90131579, 0.90131579,\n",
       "         0.90789474, 0.90789474, 0.9254386 , 0.9254386 , 0.9254386 ,\n",
       "         0.9254386 , 0.92763158, 0.92763158, 0.93859649, 0.93859649,\n",
       "         0.94078947, 0.94078947, 0.95175439, 0.95175439, 0.95175439,\n",
       "         0.95394737, 0.95394737, 0.96491228, 0.96491228, 0.96710526,\n",
       "         0.96710526, 0.97149123, 0.97149123, 0.97587719, 0.97587719,\n",
       "         0.97807018, 0.97807018, 0.98026316, 0.98026316, 0.98245614,\n",
       "         0.98245614, 0.98684211, 0.98684211, 0.98684211, 1.        ,\n",
       "         1.        ]),\n",
       "  'tpr': array([0.        , 0.003367  , 0.003367  , 0.00673401, 0.00673401,\n",
       "         0.01683502, 0.01683502, 0.02020202, 0.02020202, 0.02356902,\n",
       "         0.02356902, 0.02693603, 0.02693603, 0.03367003, 0.03367003,\n",
       "         0.03703704, 0.03703704, 0.04377104, 0.04377104, 0.05050505,\n",
       "         0.05387205, 0.05387205, 0.06397306, 0.06397306, 0.07070707,\n",
       "         0.07070707, 0.07744108, 0.07744108, 0.08417508, 0.08417508,\n",
       "         0.08754209, 0.08754209, 0.09090909, 0.09090909, 0.0976431 ,\n",
       "         0.1010101 , 0.1010101 , 0.10774411, 0.10774411, 0.11111111,\n",
       "         0.11111111, 0.11447811, 0.11447811, 0.11784512, 0.11784512,\n",
       "         0.12121212, 0.12121212, 0.12457912, 0.13131313, 0.13468013,\n",
       "         0.13468013, 0.13804714, 0.23232323, 0.23232323, 0.23569024,\n",
       "         0.23569024, 0.23905724, 0.23905724, 0.24242424, 0.24242424,\n",
       "         0.24579125, 0.24579125, 0.24915825, 0.24915825, 0.25589226,\n",
       "         0.25589226, 0.25925926, 0.26599327, 0.26599327, 0.27272727,\n",
       "         0.27609428, 0.27609428, 0.27946128, 0.27946128, 0.28282828,\n",
       "         0.28282828, 0.28956229, 0.28956229, 0.2962963 , 0.2962963 ,\n",
       "         0.2996633 , 0.2996633 , 0.3030303 , 0.3030303 , 0.30639731,\n",
       "         0.30639731, 0.30976431, 0.30976431, 0.31649832, 0.31649832,\n",
       "         0.32323232, 0.32996633, 0.33670034, 0.33670034, 0.34343434,\n",
       "         0.34343434, 0.35016835, 0.35016835, 0.35690236, 0.35690236,\n",
       "         0.36026936, 0.36026936, 0.36363636, 0.37037037, 0.37037037,\n",
       "         0.37373737, 0.37373737, 0.37710438, 0.37710438, 0.38047138,\n",
       "         0.38383838, 0.38383838, 0.38720539, 0.38720539, 0.39057239,\n",
       "         0.39057239, 0.39393939, 0.39393939, 0.4006734 , 0.4006734 ,\n",
       "         0.4040404 , 0.4040404 , 0.40740741, 0.40740741, 0.41414141,\n",
       "         0.41414141, 0.41750842, 0.41750842, 0.42424242, 0.43097643,\n",
       "         0.43097643, 0.43434343, 0.43434343, 0.44107744, 0.44107744,\n",
       "         0.44444444, 0.44444444, 0.44781145, 0.44781145, 0.45454545,\n",
       "         0.45454545, 0.45791246, 0.45791246, 0.46127946, 0.46127946,\n",
       "         0.46464646, 0.46464646, 0.46801347, 0.46801347, 0.47138047,\n",
       "         0.47138047, 0.47474747, 0.47474747, 0.47811448, 0.47811448,\n",
       "         0.48484848, 0.48484848, 0.48821549, 0.48821549, 0.49494949,\n",
       "         0.49494949, 0.5016835 , 0.50841751, 0.50841751, 0.51178451,\n",
       "         0.51178451, 0.51851852, 0.51851852, 0.52188552, 0.52188552,\n",
       "         0.52861953, 0.52861953, 0.53198653, 0.53198653, 0.53535354,\n",
       "         0.53535354, 0.53872054, 0.53872054, 0.54882155, 0.54882155,\n",
       "         0.55218855, 0.55218855, 0.55892256, 0.55892256, 0.56902357,\n",
       "         0.56902357, 0.57239057, 0.57239057, 0.57575758, 0.57575758,\n",
       "         0.57912458, 0.57912458, 0.58249158, 0.58249158, 0.58922559,\n",
       "         0.58922559, 0.59259259, 0.59259259, 0.5959596 , 0.5959596 ,\n",
       "         0.60942761, 0.60942761, 0.61279461, 0.61952862, 0.62289562,\n",
       "         0.62289562, 0.62626263, 0.62626263, 0.63973064, 0.63973064,\n",
       "         0.64646465, 0.65319865, 0.65319865, 0.65656566, 0.65656566,\n",
       "         0.65993266, 0.65993266, 0.66666667, 0.66666667, 0.67003367,\n",
       "         0.67003367, 0.67676768, 0.67676768, 0.68013468, 0.68013468,\n",
       "         0.68686869, 0.68686869, 0.6969697 , 0.6969697 , 0.7037037 ,\n",
       "         0.7037037 , 0.70707071, 0.71380471, 0.71380471, 0.72053872,\n",
       "         0.72053872, 0.72390572, 0.72390572, 0.72727273, 0.73400673,\n",
       "         0.73400673, 0.73737374, 0.73737374, 0.74074074, 0.74074074,\n",
       "         0.74410774, 0.74410774, 0.74747475, 0.74747475, 0.75420875,\n",
       "         0.75420875, 0.76094276, 0.76767677, 0.77104377, 0.77104377,\n",
       "         0.77441077, 0.78114478, 0.78114478, 0.78787879, 0.78787879,\n",
       "         0.79461279, 0.8013468 , 0.8013468 , 0.8047138 , 0.8047138 ,\n",
       "         0.81144781, 0.81144781, 0.81481481, 0.81481481, 0.82154882,\n",
       "         0.82154882, 0.82491582, 0.82491582, 0.82828283, 0.82828283,\n",
       "         0.83501684, 0.83501684, 0.84175084, 0.84175084, 0.84511785,\n",
       "         0.84511785, 0.84848485, 0.84848485, 0.85185185, 0.85185185,\n",
       "         0.85521886, 0.85521886, 0.87205387, 0.87205387, 0.87542088,\n",
       "         0.87542088, 0.88215488, 0.88215488, 0.88552189, 0.88552189,\n",
       "         0.88888889, 0.88888889, 0.89225589, 0.89225589, 0.8956229 ,\n",
       "         0.8956229 , 0.8989899 , 0.8989899 , 0.9023569 , 0.90909091,\n",
       "         0.91245791, 0.91245791, 0.91582492, 0.91582492, 0.91919192,\n",
       "         0.91919192, 0.92255892, 0.92255892, 0.92929293, 0.93602694,\n",
       "         0.93602694, 0.94276094, 0.94276094, 0.94949495, 0.94949495,\n",
       "         0.95959596, 0.95959596, 0.96296296, 0.96296296, 0.96632997,\n",
       "         0.96632997, 0.96969697, 0.96969697, 0.97643098, 0.97643098,\n",
       "         0.97979798, 0.97979798, 0.98653199, 0.99326599, 0.99326599,\n",
       "         1.        ])},\n",
       " 'neighbor_weighted_l2_operator': {'fpr': array([0.        , 0.00219298, 0.00438596, 0.00438596, 0.00657895,\n",
       "         0.00657895, 0.01315789, 0.01315789, 0.01535088, 0.01535088,\n",
       "         0.01754386, 0.01754386, 0.02192982, 0.02192982, 0.0504386 ,\n",
       "         0.0504386 , 0.0504386 , 0.05263158, 0.05263158, 0.05482456,\n",
       "         0.05482456, 0.06140351, 0.06140351, 0.06140351, 0.06359649,\n",
       "         0.06359649, 0.06798246, 0.06798246, 0.07236842, 0.07236842,\n",
       "         0.08333333, 0.08333333, 0.08552632, 0.08552632, 0.0877193 ,\n",
       "         0.0877193 , 0.0877193 , 0.08991228, 0.08991228, 0.09210526,\n",
       "         0.09210526, 0.10307018, 0.10307018, 0.10745614, 0.10745614,\n",
       "         0.11184211, 0.11184211, 0.11403509, 0.11403509, 0.13157895,\n",
       "         0.13157895, 0.14692982, 0.14692982, 0.15570175, 0.15570175,\n",
       "         0.15570175, 0.15570175, 0.17324561, 0.17324561, 0.1754386 ,\n",
       "         0.1754386 , 0.18859649, 0.18859649, 0.19736842, 0.19736842,\n",
       "         0.20833333, 0.20833333, 0.21052632, 0.21052632, 0.22149123,\n",
       "         0.22149123, 0.22587719, 0.22587719, 0.23245614, 0.23245614,\n",
       "         0.24342105, 0.24342105, 0.26096491, 0.26096491, 0.27412281,\n",
       "         0.27412281, 0.28070175, 0.28070175, 0.28508772, 0.28508772,\n",
       "         0.28947368, 0.28947368, 0.29605263, 0.29605263, 0.29824561,\n",
       "         0.29824561, 0.30263158, 0.30263158, 0.30482456, 0.30482456,\n",
       "         0.30921053, 0.30921053, 0.32894737, 0.32894737, 0.33114035,\n",
       "         0.33114035, 0.33552632, 0.33552632, 0.34210526, 0.34210526,\n",
       "         0.34429825, 0.34649123, 0.34649123, 0.34868421, 0.34868421,\n",
       "         0.35087719, 0.35087719, 0.35307018, 0.35307018, 0.35745614,\n",
       "         0.35745614, 0.36184211, 0.36184211, 0.36403509, 0.36403509,\n",
       "         0.36842105, 0.36842105, 0.36842105, 0.36842105, 0.37061404,\n",
       "         0.37061404, 0.37280702, 0.37280702, 0.375     , 0.375     ,\n",
       "         0.37938596, 0.37938596, 0.38157895, 0.38157895, 0.38596491,\n",
       "         0.38596491, 0.38815789, 0.38815789, 0.39035088, 0.39035088,\n",
       "         0.39035088, 0.39254386, 0.39254386, 0.40350877, 0.40350877,\n",
       "         0.40570175, 0.40570175, 0.41008772, 0.41008772, 0.41447368,\n",
       "         0.41447368, 0.41666667, 0.41666667, 0.41885965, 0.41885965,\n",
       "         0.42763158, 0.42763158, 0.43201754, 0.43201754, 0.44078947,\n",
       "         0.44078947, 0.44517544, 0.44517544, 0.44736842, 0.44736842,\n",
       "         0.4495614 , 0.4495614 , 0.46929825, 0.46929825, 0.47149123,\n",
       "         0.47149123, 0.48026316, 0.48026316, 0.48245614, 0.48245614,\n",
       "         0.48464912, 0.48464912, 0.49122807, 0.49122807, 0.49342105,\n",
       "         0.49342105, 0.50219298, 0.50219298, 0.50657895, 0.50657895,\n",
       "         0.51315789, 0.51315789, 0.52631579, 0.52631579, 0.53289474,\n",
       "         0.53289474, 0.53508772, 0.53508772, 0.5372807 , 0.5372807 ,\n",
       "         0.5372807 , 0.55263158, 0.55263158, 0.55701754, 0.55701754,\n",
       "         0.57236842, 0.57236842, 0.58333333, 0.58333333, 0.5877193 ,\n",
       "         0.5877193 , 0.58991228, 0.58991228, 0.59429825, 0.59429825,\n",
       "         0.59429825, 0.59649123, 0.59649123, 0.59649123, 0.59868421,\n",
       "         0.59868421, 0.60087719, 0.60087719, 0.60307018, 0.60745614,\n",
       "         0.61184211, 0.61403509, 0.61842105, 0.61842105, 0.62061404,\n",
       "         0.625     , 0.63377193, 0.63596491, 0.65350877, 0.65570175,\n",
       "         0.67105263, 0.68201754, 0.8245614 , 0.82675439, 0.83552632,\n",
       "         0.83552632, 0.8377193 , 0.84210526, 0.84210526, 0.84868421,\n",
       "         0.84868421, 0.85307018, 0.85307018, 0.86184211, 0.86184211,\n",
       "         0.87719298, 0.87719298, 0.87938596, 0.87938596, 0.88157895,\n",
       "         0.88157895, 0.88157895, 0.89035088, 0.89035088, 0.89692982,\n",
       "         0.89692982, 0.90350877, 0.90350877, 0.90570175, 0.90570175,\n",
       "         0.90789474, 0.90789474, 0.91008772, 0.91008772, 0.9122807 ,\n",
       "         0.9122807 , 0.92105263, 0.92105263, 0.9254386 , 0.9254386 ,\n",
       "         0.92763158, 0.92763158, 0.92982456, 0.92982456, 0.93201754,\n",
       "         0.93201754, 0.93421053, 0.93421053, 0.93421053, 0.93421053,\n",
       "         0.93421053, 0.93859649, 0.93859649, 0.94298246, 0.94298246,\n",
       "         0.95175439, 0.95175439, 0.95833333, 0.95833333, 0.96052632,\n",
       "         0.96052632, 0.96929825, 0.96929825, 0.97368421, 0.97368421,\n",
       "         0.97587719, 0.97587719, 0.97807018, 0.97807018, 0.98245614,\n",
       "         0.98245614, 0.98684211, 0.98684211, 0.99342105, 0.99342105,\n",
       "         0.99561404, 0.99561404, 1.        ]),\n",
       "  'tpr': array([0.        , 0.        , 0.        , 0.003367  , 0.003367  ,\n",
       "         0.00673401, 0.00673401, 0.01010101, 0.01010101, 0.02020202,\n",
       "         0.02020202, 0.02693603, 0.02693603, 0.03030303, 0.03030303,\n",
       "         0.04040404, 0.04713805, 0.04713805, 0.05387205, 0.05387205,\n",
       "         0.05723906, 0.05723906, 0.06397306, 0.06734007, 0.06734007,\n",
       "         0.07070707, 0.07070707, 0.07407407, 0.07407407, 0.07744108,\n",
       "         0.07744108, 0.08417508, 0.08417508, 0.09090909, 0.09090909,\n",
       "         0.09427609, 0.1010101 , 0.1010101 , 0.1043771 , 0.1043771 ,\n",
       "         0.11111111, 0.11111111, 0.11784512, 0.11784512, 0.12121212,\n",
       "         0.12121212, 0.12457912, 0.12457912, 0.13131313, 0.13131313,\n",
       "         0.13468013, 0.13468013, 0.13804714, 0.13804714, 0.14141414,\n",
       "         0.15488215, 0.15824916, 0.15824916, 0.16161616, 0.16161616,\n",
       "         0.16835017, 0.16835017, 0.17171717, 0.17171717, 0.17508418,\n",
       "         0.17508418, 0.17845118, 0.17845118, 0.18181818, 0.18181818,\n",
       "         0.18855219, 0.18855219, 0.19191919, 0.19191919, 0.1952862 ,\n",
       "         0.1952862 , 0.1986532 , 0.1986532 , 0.2020202 , 0.2020202 ,\n",
       "         0.20538721, 0.20538721, 0.20875421, 0.20875421, 0.21212121,\n",
       "         0.21212121, 0.21548822, 0.21548822, 0.21885522, 0.21885522,\n",
       "         0.22222222, 0.22222222, 0.22558923, 0.22558923, 0.22895623,\n",
       "         0.22895623, 0.23569024, 0.23569024, 0.23905724, 0.23905724,\n",
       "         0.24915825, 0.24915825, 0.25589226, 0.25589226, 0.26262626,\n",
       "         0.26599327, 0.26599327, 0.27272727, 0.27272727, 0.27946128,\n",
       "         0.27946128, 0.28282828, 0.28282828, 0.28619529, 0.28619529,\n",
       "         0.29292929, 0.29292929, 0.2996633 , 0.2996633 , 0.3030303 ,\n",
       "         0.3030303 , 0.30639731, 0.31313131, 0.31649832, 0.31649832,\n",
       "         0.31986532, 0.31986532, 0.32659933, 0.32659933, 0.32996633,\n",
       "         0.32996633, 0.33670034, 0.33670034, 0.34006734, 0.34006734,\n",
       "         0.34680135, 0.34680135, 0.35353535, 0.35353535, 0.36700337,\n",
       "         0.37037037, 0.37037037, 0.37710438, 0.37710438, 0.38383838,\n",
       "         0.38383838, 0.38720539, 0.38720539, 0.39393939, 0.39393939,\n",
       "         0.3973064 , 0.3973064 , 0.4006734 , 0.4006734 , 0.41077441,\n",
       "         0.41077441, 0.41414141, 0.41414141, 0.42424242, 0.42424242,\n",
       "         0.42760943, 0.42760943, 0.43097643, 0.43097643, 0.44107744,\n",
       "         0.44107744, 0.44444444, 0.44444444, 0.45117845, 0.45117845,\n",
       "         0.45791246, 0.45791246, 0.46127946, 0.46127946, 0.46464646,\n",
       "         0.46464646, 0.47138047, 0.47138047, 0.47811448, 0.47811448,\n",
       "         0.48484848, 0.48484848, 0.48821549, 0.48821549, 0.49494949,\n",
       "         0.49494949, 0.4983165 , 0.4983165 , 0.5016835 , 0.5016835 ,\n",
       "         0.50505051, 0.50505051, 0.51515152, 0.51515152, 0.51851852,\n",
       "         0.52525253, 0.52525253, 0.52861953, 0.52861953, 0.53535354,\n",
       "         0.53535354, 0.53872054, 0.53872054, 0.54208754, 0.54208754,\n",
       "         0.54545455, 0.54545455, 0.54882155, 0.54882155, 0.55218855,\n",
       "         0.55892256, 0.56228956, 0.56902357, 0.57575758, 0.57575758,\n",
       "         0.57912458, 0.57912458, 0.58249158, 0.58249158, 0.58249158,\n",
       "         0.58585859, 0.58585859, 0.58585859, 0.58922559, 0.58922559,\n",
       "         0.5959596 , 0.5993266 , 0.60606061, 0.61952862, 0.61952862,\n",
       "         0.63973064, 0.64309764, 0.77441077, 0.78451178, 0.79124579,\n",
       "         0.79461279, 0.7979798 , 0.7979798 , 0.8013468 , 0.8013468 ,\n",
       "         0.81144781, 0.81144781, 0.82154882, 0.82154882, 0.82828283,\n",
       "         0.82828283, 0.83164983, 0.83164983, 0.83838384, 0.83838384,\n",
       "         0.84511785, 0.84848485, 0.84848485, 0.85521886, 0.85521886,\n",
       "         0.85858586, 0.85858586, 0.86195286, 0.86195286, 0.86868687,\n",
       "         0.86868687, 0.87205387, 0.87205387, 0.87878788, 0.87878788,\n",
       "         0.88215488, 0.88215488, 0.88888889, 0.88888889, 0.89225589,\n",
       "         0.89225589, 0.90572391, 0.90572391, 0.90909091, 0.90909091,\n",
       "         0.91245791, 0.91245791, 0.91919192, 0.92255892, 0.92929293,\n",
       "         0.93265993, 0.93265993, 0.93602694, 0.93602694, 0.94276094,\n",
       "         0.94276094, 0.94612795, 0.94612795, 0.95286195, 0.95286195,\n",
       "         0.95959596, 0.95959596, 0.96296296, 0.96296296, 0.96969697,\n",
       "         0.96969697, 0.97643098, 0.97643098, 0.97979798, 0.97979798,\n",
       "         0.98653199, 0.98653199, 0.98989899, 0.98989899, 0.996633  ,\n",
       "         0.996633  , 1.        , 1.        ])}}"
      ]
     },
     "execution_count": 176,
     "metadata": {},
     "output_type": "execute_result"
    }
   ],
   "source": [
    "res"
   ]
  },
  {
   "cell_type": "code",
   "execution_count": 177,
   "metadata": {},
   "outputs": [
    {
     "data": {
      "image/png": "[encoded data removed]",
      "text/plain": [
       "<Figure size 432x288 with 1 Axes>"
      ]
     },
     "metadata": {
      "needs_background": "light"
     },
     "output_type": "display_data"
    }
   ],
   "source": [
    "for label, v in res.items():\n",
    "    fpr, tpr = v['fpr'], v['tpr']\n",
    "    plt.plot(fpr, tpr, lw=2, \n",
    "             label='{}, AUC={:.4f}'.format(label, auc(fpr, tpr)))\n",
    "plt.plot([0, 1], [0, 1], lw=2, linestyle='--', label='Random, AUC=0.5')\n",
    "plt.xlabel('FPR')\n",
    "plt.ylabel('TPR')\n",
    "plt.title('ROC AUC')\n",
    "plt.legend()\n",
    "plt.show()"
   ]
  },
  {
   "cell_type": "code",
   "execution_count": null,
   "metadata": {},
   "outputs": [],
   "source": []
  },
  {
   "cell_type": "code",
   "execution_count": 153,
   "metadata": {},
   "outputs": [
    {
     "data": {
      "text/plain": [
       "array([[   0,    0,    0, ...,    0,    0,    0],\n",
       "       [   1,    0,    0, ...,    0,    0,    0],\n",
       "       [   2,    0,    1, ...,    0,    0,    0],\n",
       "       ...,\n",
       "       [3309,    0,    0, ...,    0,    0,    0],\n",
       "       [3310,    0,    0, ...,    0,    0,    0],\n",
       "       [3311,    0,    0, ...,    0,    0,    0]])"
      ]
     },
     "execution_count": 153,
     "metadata": {},
     "output_type": "execute_result"
    }
   ],
   "source": [
    "features"
   ]
  },
  {
   "cell_type": "code",
   "execution_count": null,
   "metadata": {},
   "outputs": [],
   "source": []
  },
  {
   "cell_type": "code",
   "execution_count": null,
   "metadata": {},
   "outputs": [],
   "source": []
  },
  {
   "cell_type": "code",
   "execution_count": 178,
   "metadata": {},
   "outputs": [
    {
     "data": {
      "text/plain": [
       "array([[   0,    0,    0, ...,    0,    0,    0],\n",
       "       [   1,    0,    0, ...,    0,    0,    0],\n",
       "       [   2,    0,    1, ...,    0,    0,    0],\n",
       "       ...,\n",
       "       [3309,    0,    0, ...,    0,    0,    0],\n",
       "       [3310,    0,    0, ...,    0,    0,    0],\n",
       "       [3311,    0,    0, ...,    0,    0,    0]])"
      ]
     },
     "execution_count": 178,
     "metadata": {},
     "output_type": "execute_result"
    }
   ],
   "source": [
    "features"
   ]
  },
  {
   "cell_type": "code",
   "execution_count": 179,
   "metadata": {},
   "outputs": [
    {
     "data": {
      "text/plain": [
       "array([[2495,  598,    0],\n",
       "       [1473, 1570,    1],\n",
       "       [1000,  748,    1],\n",
       "       ...,\n",
       "       [1816, 2097,    0],\n",
       "       [ 218,  876,    0],\n",
       "       [1985, 1657,    0]])"
      ]
     },
     "execution_count": 179,
     "metadata": {},
     "output_type": "execute_result"
    }
   ],
   "source": [
    "labels"
   ]
  },
  {
   "cell_type": "code",
   "execution_count": 214,
   "metadata": {},
   "outputs": [
    {
     "data": {
      "text/plain": [
       "array([2495,    0,    0, ...,    0,    0,    0])"
      ]
     },
     "execution_count": 214,
     "metadata": {},
     "output_type": "execute_result"
    }
   ],
   "source": [
    "features[2495]"
   ]
  },
  {
   "cell_type": "code",
   "execution_count": 225,
   "metadata": {},
   "outputs": [
    {
     "data": {
      "application/vnd.jupyter.widget-view+json": {
       "model_id": "0d0cc816cfb9414e896048f811a1fd9b",
       "version_major": 2,
       "version_minor": 0
      },
      "text/plain": [
       "HBox(children=(FloatProgress(value=0.0, max=6048.0), HTML(value='')))"
      ]
     },
     "metadata": {},
     "output_type": "display_data"
    },
    {
     "name": "stdout",
     "output_type": "stream",
     "text": [
      "\n"
     ]
    }
   ],
   "source": [
    "dataset = []\n",
    "\n",
    "for row in tqdm(labels):\n",
    "    feats_ = features[row[0]].squeeze() + features[row[1]].squeeze()\n",
    "    feats_ = feats_[1:].tolist()\n",
    "    label_ = [row[2].tolist()]\n",
    "    dataset.append(feats_ + label_)"
   ]
  },
  {
   "cell_type": "code",
   "execution_count": 230,
   "metadata": {},
   "outputs": [
    {
     "data": {
      "text/plain": [
       "(6048, 3704)"
      ]
     },
     "execution_count": 230,
     "metadata": {},
     "output_type": "execute_result"
    }
   ],
   "source": [
    "dataset = pd.DataFrame(dataset)\n",
    "dataset.shape"
   ]
  },
  {
   "cell_type": "code",
   "execution_count": 231,
   "metadata": {},
   "outputs": [
    {
     "data": {
      "text/html": [
       "<div>\n",
       "<style scoped>\n",
       "    .dataframe tbody tr th:only-of-type {\n",
       "        vertical-align: middle;\n",
       "    }\n",
       "\n",
       "    .dataframe tbody tr th {\n",
       "        vertical-align: top;\n",
       "    }\n",
       "\n",
       "    .dataframe thead th {\n",
       "        text-align: right;\n",
       "    }\n",
       "</style>\n",
       "<table border=\"1\" class=\"dataframe\">\n",
       "  <thead>\n",
       "    <tr style=\"text-align: right;\">\n",
       "      <th></th>\n",
       "      <th>0</th>\n",
       "      <th>1</th>\n",
       "      <th>2</th>\n",
       "      <th>3</th>\n",
       "      <th>4</th>\n",
       "      <th>5</th>\n",
       "      <th>6</th>\n",
       "      <th>7</th>\n",
       "      <th>8</th>\n",
       "      <th>9</th>\n",
       "      <th>...</th>\n",
       "      <th>3694</th>\n",
       "      <th>3695</th>\n",
       "      <th>3696</th>\n",
       "      <th>3697</th>\n",
       "      <th>3698</th>\n",
       "      <th>3699</th>\n",
       "      <th>3700</th>\n",
       "      <th>3701</th>\n",
       "      <th>3702</th>\n",
       "      <th>3703</th>\n",
       "    </tr>\n",
       "  </thead>\n",
       "  <tbody>\n",
       "    <tr>\n",
       "      <th>0</th>\n",
       "      <td>0</td>\n",
       "      <td>0</td>\n",
       "      <td>0</td>\n",
       "      <td>0</td>\n",
       "      <td>0</td>\n",
       "      <td>0</td>\n",
       "      <td>0</td>\n",
       "      <td>0</td>\n",
       "      <td>0</td>\n",
       "      <td>0</td>\n",
       "      <td>...</td>\n",
       "      <td>0</td>\n",
       "      <td>0</td>\n",
       "      <td>0</td>\n",
       "      <td>0</td>\n",
       "      <td>0</td>\n",
       "      <td>0</td>\n",
       "      <td>0</td>\n",
       "      <td>0</td>\n",
       "      <td>0</td>\n",
       "      <td>0</td>\n",
       "    </tr>\n",
       "    <tr>\n",
       "      <th>1</th>\n",
       "      <td>0</td>\n",
       "      <td>0</td>\n",
       "      <td>0</td>\n",
       "      <td>0</td>\n",
       "      <td>0</td>\n",
       "      <td>0</td>\n",
       "      <td>0</td>\n",
       "      <td>0</td>\n",
       "      <td>0</td>\n",
       "      <td>0</td>\n",
       "      <td>...</td>\n",
       "      <td>0</td>\n",
       "      <td>0</td>\n",
       "      <td>0</td>\n",
       "      <td>0</td>\n",
       "      <td>0</td>\n",
       "      <td>0</td>\n",
       "      <td>0</td>\n",
       "      <td>0</td>\n",
       "      <td>0</td>\n",
       "      <td>1</td>\n",
       "    </tr>\n",
       "    <tr>\n",
       "      <th>2</th>\n",
       "      <td>0</td>\n",
       "      <td>0</td>\n",
       "      <td>0</td>\n",
       "      <td>0</td>\n",
       "      <td>0</td>\n",
       "      <td>0</td>\n",
       "      <td>0</td>\n",
       "      <td>0</td>\n",
       "      <td>0</td>\n",
       "      <td>0</td>\n",
       "      <td>...</td>\n",
       "      <td>0</td>\n",
       "      <td>0</td>\n",
       "      <td>0</td>\n",
       "      <td>0</td>\n",
       "      <td>0</td>\n",
       "      <td>0</td>\n",
       "      <td>0</td>\n",
       "      <td>0</td>\n",
       "      <td>0</td>\n",
       "      <td>1</td>\n",
       "    </tr>\n",
       "    <tr>\n",
       "      <th>3</th>\n",
       "      <td>0</td>\n",
       "      <td>0</td>\n",
       "      <td>0</td>\n",
       "      <td>0</td>\n",
       "      <td>0</td>\n",
       "      <td>0</td>\n",
       "      <td>0</td>\n",
       "      <td>0</td>\n",
       "      <td>0</td>\n",
       "      <td>0</td>\n",
       "      <td>...</td>\n",
       "      <td>0</td>\n",
       "      <td>0</td>\n",
       "      <td>0</td>\n",
       "      <td>0</td>\n",
       "      <td>0</td>\n",
       "      <td>0</td>\n",
       "      <td>0</td>\n",
       "      <td>0</td>\n",
       "      <td>0</td>\n",
       "      <td>0</td>\n",
       "    </tr>\n",
       "    <tr>\n",
       "      <th>4</th>\n",
       "      <td>0</td>\n",
       "      <td>0</td>\n",
       "      <td>0</td>\n",
       "      <td>0</td>\n",
       "      <td>0</td>\n",
       "      <td>0</td>\n",
       "      <td>0</td>\n",
       "      <td>0</td>\n",
       "      <td>0</td>\n",
       "      <td>0</td>\n",
       "      <td>...</td>\n",
       "      <td>0</td>\n",
       "      <td>0</td>\n",
       "      <td>0</td>\n",
       "      <td>0</td>\n",
       "      <td>0</td>\n",
       "      <td>0</td>\n",
       "      <td>0</td>\n",
       "      <td>0</td>\n",
       "      <td>0</td>\n",
       "      <td>1</td>\n",
       "    </tr>\n",
       "    <tr>\n",
       "      <th>...</th>\n",
       "      <td>...</td>\n",
       "      <td>...</td>\n",
       "      <td>...</td>\n",
       "      <td>...</td>\n",
       "      <td>...</td>\n",
       "      <td>...</td>\n",
       "      <td>...</td>\n",
       "      <td>...</td>\n",
       "      <td>...</td>\n",
       "      <td>...</td>\n",
       "      <td>...</td>\n",
       "      <td>...</td>\n",
       "      <td>...</td>\n",
       "      <td>...</td>\n",
       "      <td>...</td>\n",
       "      <td>...</td>\n",
       "      <td>...</td>\n",
       "      <td>...</td>\n",
       "      <td>...</td>\n",
       "      <td>...</td>\n",
       "      <td>...</td>\n",
       "    </tr>\n",
       "    <tr>\n",
       "      <th>6043</th>\n",
       "      <td>0</td>\n",
       "      <td>0</td>\n",
       "      <td>0</td>\n",
       "      <td>0</td>\n",
       "      <td>0</td>\n",
       "      <td>0</td>\n",
       "      <td>0</td>\n",
       "      <td>0</td>\n",
       "      <td>0</td>\n",
       "      <td>0</td>\n",
       "      <td>...</td>\n",
       "      <td>0</td>\n",
       "      <td>0</td>\n",
       "      <td>0</td>\n",
       "      <td>0</td>\n",
       "      <td>0</td>\n",
       "      <td>0</td>\n",
       "      <td>0</td>\n",
       "      <td>0</td>\n",
       "      <td>0</td>\n",
       "      <td>1</td>\n",
       "    </tr>\n",
       "    <tr>\n",
       "      <th>6044</th>\n",
       "      <td>0</td>\n",
       "      <td>0</td>\n",
       "      <td>0</td>\n",
       "      <td>0</td>\n",
       "      <td>0</td>\n",
       "      <td>0</td>\n",
       "      <td>0</td>\n",
       "      <td>0</td>\n",
       "      <td>0</td>\n",
       "      <td>0</td>\n",
       "      <td>...</td>\n",
       "      <td>0</td>\n",
       "      <td>0</td>\n",
       "      <td>0</td>\n",
       "      <td>0</td>\n",
       "      <td>0</td>\n",
       "      <td>0</td>\n",
       "      <td>0</td>\n",
       "      <td>0</td>\n",
       "      <td>0</td>\n",
       "      <td>0</td>\n",
       "    </tr>\n",
       "    <tr>\n",
       "      <th>6045</th>\n",
       "      <td>0</td>\n",
       "      <td>0</td>\n",
       "      <td>0</td>\n",
       "      <td>0</td>\n",
       "      <td>0</td>\n",
       "      <td>0</td>\n",
       "      <td>0</td>\n",
       "      <td>0</td>\n",
       "      <td>0</td>\n",
       "      <td>0</td>\n",
       "      <td>...</td>\n",
       "      <td>0</td>\n",
       "      <td>0</td>\n",
       "      <td>0</td>\n",
       "      <td>0</td>\n",
       "      <td>0</td>\n",
       "      <td>0</td>\n",
       "      <td>0</td>\n",
       "      <td>0</td>\n",
       "      <td>0</td>\n",
       "      <td>0</td>\n",
       "    </tr>\n",
       "    <tr>\n",
       "      <th>6046</th>\n",
       "      <td>0</td>\n",
       "      <td>0</td>\n",
       "      <td>0</td>\n",
       "      <td>0</td>\n",
       "      <td>0</td>\n",
       "      <td>0</td>\n",
       "      <td>0</td>\n",
       "      <td>0</td>\n",
       "      <td>0</td>\n",
       "      <td>0</td>\n",
       "      <td>...</td>\n",
       "      <td>0</td>\n",
       "      <td>0</td>\n",
       "      <td>0</td>\n",
       "      <td>0</td>\n",
       "      <td>0</td>\n",
       "      <td>0</td>\n",
       "      <td>0</td>\n",
       "      <td>0</td>\n",
       "      <td>0</td>\n",
       "      <td>0</td>\n",
       "    </tr>\n",
       "    <tr>\n",
       "      <th>6047</th>\n",
       "      <td>0</td>\n",
       "      <td>0</td>\n",
       "      <td>0</td>\n",
       "      <td>0</td>\n",
       "      <td>0</td>\n",
       "      <td>0</td>\n",
       "      <td>0</td>\n",
       "      <td>0</td>\n",
       "      <td>0</td>\n",
       "      <td>0</td>\n",
       "      <td>...</td>\n",
       "      <td>0</td>\n",
       "      <td>0</td>\n",
       "      <td>0</td>\n",
       "      <td>0</td>\n",
       "      <td>0</td>\n",
       "      <td>0</td>\n",
       "      <td>0</td>\n",
       "      <td>0</td>\n",
       "      <td>0</td>\n",
       "      <td>0</td>\n",
       "    </tr>\n",
       "  </tbody>\n",
       "</table>\n",
       "<p>6048 rows × 3704 columns</p>\n",
       "</div>"
      ],
      "text/plain": [
       "      0     1     2     3     4     5     6     7     8     9     ...  3694  \\\n",
       "0        0     0     0     0     0     0     0     0     0     0  ...     0   \n",
       "1        0     0     0     0     0     0     0     0     0     0  ...     0   \n",
       "2        0     0     0     0     0     0     0     0     0     0  ...     0   \n",
       "3        0     0     0     0     0     0     0     0     0     0  ...     0   \n",
       "4        0     0     0     0     0     0     0     0     0     0  ...     0   \n",
       "...    ...   ...   ...   ...   ...   ...   ...   ...   ...   ...  ...   ...   \n",
       "6043     0     0     0     0     0     0     0     0     0     0  ...     0   \n",
       "6044     0     0     0     0     0     0     0     0     0     0  ...     0   \n",
       "6045     0     0     0     0     0     0     0     0     0     0  ...     0   \n",
       "6046     0     0     0     0     0     0     0     0     0     0  ...     0   \n",
       "6047     0     0     0     0     0     0     0     0     0     0  ...     0   \n",
       "\n",
       "      3695  3696  3697  3698  3699  3700  3701  3702  3703  \n",
       "0        0     0     0     0     0     0     0     0     0  \n",
       "1        0     0     0     0     0     0     0     0     1  \n",
       "2        0     0     0     0     0     0     0     0     1  \n",
       "3        0     0     0     0     0     0     0     0     0  \n",
       "4        0     0     0     0     0     0     0     0     1  \n",
       "...    ...   ...   ...   ...   ...   ...   ...   ...   ...  \n",
       "6043     0     0     0     0     0     0     0     0     1  \n",
       "6044     0     0     0     0     0     0     0     0     0  \n",
       "6045     0     0     0     0     0     0     0     0     0  \n",
       "6046     0     0     0     0     0     0     0     0     0  \n",
       "6047     0     0     0     0     0     0     0     0     0  \n",
       "\n",
       "[6048 rows x 3704 columns]"
      ]
     },
     "execution_count": 231,
     "metadata": {},
     "output_type": "execute_result"
    }
   ],
   "source": [
    "dataset.iloc[:, :]"
   ]
  },
  {
   "cell_type": "code",
   "execution_count": 244,
   "metadata": {},
   "outputs": [],
   "source": [
    "X_train, X_test, y_train, y_test = train_test_split(dataset.iloc[:, :-1], dataset.iloc[:, -1], test_size=0.1, random_state=7)"
   ]
  },
  {
   "cell_type": "code",
   "execution_count": 356,
   "metadata": {},
   "outputs": [
    {
     "data": {
      "text/plain": [
       "(0.6724232959764835, 0.6545454545454545)"
      ]
     },
     "execution_count": 356,
     "metadata": {},
     "output_type": "execute_result"
    }
   ],
   "source": [
    "logreg = LogisticRegression(C=1e-4, max_iter=1000)\n",
    "logreg.fit(X_train, y_train)\n",
    "accuracy_score(y_train, logreg.predict(X_train)), accuracy_score(y_test, logreg.predict(X_test))"
   ]
  },
  {
   "cell_type": "code",
   "execution_count": 252,
   "metadata": {},
   "outputs": [
    {
     "data": {
      "text/plain": [
       "(0.9303692816461511, 0.6016528925619835)"
      ]
     },
     "execution_count": 252,
     "metadata": {},
     "output_type": "execute_result"
    }
   ],
   "source": [
    "accuracy_score(y_train, logreg.predict(X_train)), accuracy_score(y_test, logreg.predict(X_test))"
   ]
  },
  {
   "cell_type": "code",
   "execution_count": 341,
   "metadata": {},
   "outputs": [
    {
     "data": {
      "text/plain": [
       "(0.929083226162043, 0.7619834710743801)"
      ]
     },
     "execution_count": 341,
     "metadata": {},
     "output_type": "execute_result"
    }
   ],
   "source": [
    "rfc = RandomForestClassifier(max_depth=29, random_state=7, n_jobs=-1)\n",
    "rfc.fit(X_train, y_train)\n",
    "accuracy_score(y_train, rfc.predict(X_train)), accuracy_score(y_test, rfc.predict(X_test))"
   ]
  },
  {
   "cell_type": "code",
   "execution_count": 342,
   "metadata": {},
   "outputs": [
    {
     "data": {
      "text/plain": [
       "RandomForestClassifier(max_depth=29, n_jobs=-1, random_state=7)"
      ]
     },
     "execution_count": 342,
     "metadata": {},
     "output_type": "execute_result"
    }
   ],
   "source": [
    "rfc.fit(dataset.iloc[:, :-1], dataset.iloc[:, -1])"
   ]
  },
  {
   "cell_type": "code",
   "execution_count": 343,
   "metadata": {},
   "outputs": [
    {
     "data": {
      "text/plain": [
       "array([[1429, 2808],\n",
       "       [1125, 1250],\n",
       "       [2277, 2810],\n",
       "       ...,\n",
       "       [ 202,  387],\n",
       "       [1284, 1017],\n",
       "       [1958, 2407]])"
      ]
     },
     "execution_count": 343,
     "metadata": {},
     "output_type": "execute_result"
    }
   ],
   "source": [
    "unlabeled = np.fromfile(\"unlabeled_edges.txt\", sep=\"\\n\", dtype=int).reshape(-1, 2)\n",
    "unlabeled"
   ]
  },
  {
   "cell_type": "code",
   "execution_count": 321,
   "metadata": {},
   "outputs": [
    {
     "data": {
      "application/vnd.jupyter.widget-view+json": {
       "model_id": "237f70fc453d4ed488966f50b646db5a",
       "version_major": 2,
       "version_minor": 0
      },
      "text/plain": [
       "HBox(children=(FloatProgress(value=0.0, max=3024.0), HTML(value='')))"
      ]
     },
     "metadata": {},
     "output_type": "display_data"
    },
    {
     "name": "stdout",
     "output_type": "stream",
     "text": [
      "\n"
     ]
    }
   ],
   "source": [
    "sub = []\n",
    "\n",
    "for row in tqdm(unlabeled):\n",
    "    feats_ = features[row[0]].squeeze() + features[row[1]].squeeze()\n",
    "    feats_ = feats_[1:].tolist()\n",
    "    sub.append(feats_)"
   ]
  },
  {
   "cell_type": "code",
   "execution_count": 322,
   "metadata": {},
   "outputs": [
    {
     "data": {
      "text/plain": [
       "(3024, 3703)"
      ]
     },
     "execution_count": 322,
     "metadata": {},
     "output_type": "execute_result"
    }
   ],
   "source": [
    "sub = pd.DataFrame(sub)\n",
    "sub.shape"
   ]
  },
  {
   "cell_type": "code",
   "execution_count": 320,
   "metadata": {},
   "outputs": [
    {
     "data": {
      "text/html": [
       "<div>\n",
       "<style scoped>\n",
       "    .dataframe tbody tr th:only-of-type {\n",
       "        vertical-align: middle;\n",
       "    }\n",
       "\n",
       "    .dataframe tbody tr th {\n",
       "        vertical-align: top;\n",
       "    }\n",
       "\n",
       "    .dataframe thead th {\n",
       "        text-align: right;\n",
       "    }\n",
       "</style>\n",
       "<table border=\"1\" class=\"dataframe\">\n",
       "  <thead>\n",
       "    <tr style=\"text-align: right;\">\n",
       "      <th></th>\n",
       "      <th>0</th>\n",
       "      <th>1</th>\n",
       "      <th>2</th>\n",
       "      <th>3</th>\n",
       "      <th>4</th>\n",
       "      <th>5</th>\n",
       "      <th>6</th>\n",
       "      <th>7</th>\n",
       "      <th>8</th>\n",
       "      <th>9</th>\n",
       "      <th>...</th>\n",
       "      <th>3694</th>\n",
       "      <th>3695</th>\n",
       "      <th>3696</th>\n",
       "      <th>3697</th>\n",
       "      <th>3698</th>\n",
       "      <th>3699</th>\n",
       "      <th>3700</th>\n",
       "      <th>3701</th>\n",
       "      <th>3702</th>\n",
       "      <th>3703</th>\n",
       "    </tr>\n",
       "  </thead>\n",
       "  <tbody>\n",
       "    <tr>\n",
       "      <th>0</th>\n",
       "      <td>0</td>\n",
       "      <td>0</td>\n",
       "      <td>0</td>\n",
       "      <td>0</td>\n",
       "      <td>0</td>\n",
       "      <td>0</td>\n",
       "      <td>0</td>\n",
       "      <td>0</td>\n",
       "      <td>0</td>\n",
       "      <td>0</td>\n",
       "      <td>...</td>\n",
       "      <td>0</td>\n",
       "      <td>0</td>\n",
       "      <td>0</td>\n",
       "      <td>0</td>\n",
       "      <td>0</td>\n",
       "      <td>0</td>\n",
       "      <td>0</td>\n",
       "      <td>0</td>\n",
       "      <td>0</td>\n",
       "      <td>None</td>\n",
       "    </tr>\n",
       "    <tr>\n",
       "      <th>1</th>\n",
       "      <td>0</td>\n",
       "      <td>0</td>\n",
       "      <td>0</td>\n",
       "      <td>0</td>\n",
       "      <td>0</td>\n",
       "      <td>0</td>\n",
       "      <td>0</td>\n",
       "      <td>0</td>\n",
       "      <td>0</td>\n",
       "      <td>0</td>\n",
       "      <td>...</td>\n",
       "      <td>0</td>\n",
       "      <td>0</td>\n",
       "      <td>0</td>\n",
       "      <td>0</td>\n",
       "      <td>0</td>\n",
       "      <td>0</td>\n",
       "      <td>0</td>\n",
       "      <td>0</td>\n",
       "      <td>0</td>\n",
       "      <td>None</td>\n",
       "    </tr>\n",
       "    <tr>\n",
       "      <th>2</th>\n",
       "      <td>0</td>\n",
       "      <td>0</td>\n",
       "      <td>0</td>\n",
       "      <td>0</td>\n",
       "      <td>0</td>\n",
       "      <td>0</td>\n",
       "      <td>0</td>\n",
       "      <td>0</td>\n",
       "      <td>0</td>\n",
       "      <td>0</td>\n",
       "      <td>...</td>\n",
       "      <td>0</td>\n",
       "      <td>0</td>\n",
       "      <td>0</td>\n",
       "      <td>0</td>\n",
       "      <td>0</td>\n",
       "      <td>0</td>\n",
       "      <td>0</td>\n",
       "      <td>0</td>\n",
       "      <td>0</td>\n",
       "      <td>None</td>\n",
       "    </tr>\n",
       "    <tr>\n",
       "      <th>3</th>\n",
       "      <td>0</td>\n",
       "      <td>0</td>\n",
       "      <td>0</td>\n",
       "      <td>0</td>\n",
       "      <td>0</td>\n",
       "      <td>0</td>\n",
       "      <td>0</td>\n",
       "      <td>0</td>\n",
       "      <td>0</td>\n",
       "      <td>0</td>\n",
       "      <td>...</td>\n",
       "      <td>0</td>\n",
       "      <td>0</td>\n",
       "      <td>0</td>\n",
       "      <td>0</td>\n",
       "      <td>0</td>\n",
       "      <td>0</td>\n",
       "      <td>0</td>\n",
       "      <td>0</td>\n",
       "      <td>0</td>\n",
       "      <td>None</td>\n",
       "    </tr>\n",
       "    <tr>\n",
       "      <th>4</th>\n",
       "      <td>0</td>\n",
       "      <td>0</td>\n",
       "      <td>0</td>\n",
       "      <td>0</td>\n",
       "      <td>0</td>\n",
       "      <td>0</td>\n",
       "      <td>0</td>\n",
       "      <td>0</td>\n",
       "      <td>0</td>\n",
       "      <td>0</td>\n",
       "      <td>...</td>\n",
       "      <td>0</td>\n",
       "      <td>0</td>\n",
       "      <td>0</td>\n",
       "      <td>0</td>\n",
       "      <td>0</td>\n",
       "      <td>0</td>\n",
       "      <td>0</td>\n",
       "      <td>0</td>\n",
       "      <td>0</td>\n",
       "      <td>None</td>\n",
       "    </tr>\n",
       "  </tbody>\n",
       "</table>\n",
       "<p>5 rows × 3704 columns</p>\n",
       "</div>"
      ],
      "text/plain": [
       "   0     1     2     3     4     5     6     7     8     9     ...  3694  \\\n",
       "0     0     0     0     0     0     0     0     0     0     0  ...     0   \n",
       "1     0     0     0     0     0     0     0     0     0     0  ...     0   \n",
       "2     0     0     0     0     0     0     0     0     0     0  ...     0   \n",
       "3     0     0     0     0     0     0     0     0     0     0  ...     0   \n",
       "4     0     0     0     0     0     0     0     0     0     0  ...     0   \n",
       "\n",
       "   3695  3696  3697  3698  3699  3700  3701  3702  3703  \n",
       "0     0     0     0     0     0     0     0     0  None  \n",
       "1     0     0     0     0     0     0     0     0  None  \n",
       "2     0     0     0     0     0     0     0     0  None  \n",
       "3     0     0     0     0     0     0     0     0  None  \n",
       "4     0     0     0     0     0     0     0     0  None  \n",
       "\n",
       "[5 rows x 3704 columns]"
      ]
     },
     "execution_count": 320,
     "metadata": {},
     "output_type": "execute_result"
    }
   ],
   "source": [
    "sub.head()"
   ]
  },
  {
   "cell_type": "code",
   "execution_count": 344,
   "metadata": {},
   "outputs": [],
   "source": [
    "preds = rfc.predict(sub)"
   ]
  },
  {
   "cell_type": "code",
   "execution_count": 345,
   "metadata": {},
   "outputs": [],
   "source": [
    "preds.tofile(\"submission.txt\", sep=\"\\n\")"
   ]
  },
  {
   "cell_type": "code",
   "execution_count": null,
   "metadata": {},
   "outputs": [],
   "source": [
    "# попробовать эмбеддинги word2vec"
   ]
  },
  {
   "cell_type": "code",
   "execution_count": 358,
   "metadata": {},
   "outputs": [],
   "source": [
    "from gensim.models import Word2Vec"
   ]
  },
  {
   "cell_type": "code",
   "execution_count": 360,
   "metadata": {},
   "outputs": [
    {
     "data": {
      "text/html": [
       "<div>\n",
       "<style scoped>\n",
       "    .dataframe tbody tr th:only-of-type {\n",
       "        vertical-align: middle;\n",
       "    }\n",
       "\n",
       "    .dataframe tbody tr th {\n",
       "        vertical-align: top;\n",
       "    }\n",
       "\n",
       "    .dataframe thead th {\n",
       "        text-align: right;\n",
       "    }\n",
       "</style>\n",
       "<table border=\"1\" class=\"dataframe\">\n",
       "  <thead>\n",
       "    <tr style=\"text-align: right;\">\n",
       "      <th></th>\n",
       "      <th>0</th>\n",
       "      <th>1</th>\n",
       "      <th>2</th>\n",
       "      <th>3</th>\n",
       "      <th>4</th>\n",
       "      <th>5</th>\n",
       "      <th>6</th>\n",
       "      <th>7</th>\n",
       "      <th>8</th>\n",
       "      <th>9</th>\n",
       "      <th>...</th>\n",
       "      <th>3693</th>\n",
       "      <th>3694</th>\n",
       "      <th>3695</th>\n",
       "      <th>3696</th>\n",
       "      <th>3697</th>\n",
       "      <th>3698</th>\n",
       "      <th>3699</th>\n",
       "      <th>3700</th>\n",
       "      <th>3701</th>\n",
       "      <th>3702</th>\n",
       "    </tr>\n",
       "  </thead>\n",
       "  <tbody>\n",
       "    <tr>\n",
       "      <th>0</th>\n",
       "      <td>0</td>\n",
       "      <td>0</td>\n",
       "      <td>0</td>\n",
       "      <td>0</td>\n",
       "      <td>0</td>\n",
       "      <td>0</td>\n",
       "      <td>0</td>\n",
       "      <td>0</td>\n",
       "      <td>0</td>\n",
       "      <td>0</td>\n",
       "      <td>...</td>\n",
       "      <td>0</td>\n",
       "      <td>0</td>\n",
       "      <td>0</td>\n",
       "      <td>0</td>\n",
       "      <td>0</td>\n",
       "      <td>0</td>\n",
       "      <td>0</td>\n",
       "      <td>0</td>\n",
       "      <td>0</td>\n",
       "      <td>0</td>\n",
       "    </tr>\n",
       "    <tr>\n",
       "      <th>1</th>\n",
       "      <td>0</td>\n",
       "      <td>0</td>\n",
       "      <td>0</td>\n",
       "      <td>0</td>\n",
       "      <td>0</td>\n",
       "      <td>0</td>\n",
       "      <td>0</td>\n",
       "      <td>0</td>\n",
       "      <td>0</td>\n",
       "      <td>0</td>\n",
       "      <td>...</td>\n",
       "      <td>0</td>\n",
       "      <td>0</td>\n",
       "      <td>0</td>\n",
       "      <td>0</td>\n",
       "      <td>0</td>\n",
       "      <td>0</td>\n",
       "      <td>0</td>\n",
       "      <td>0</td>\n",
       "      <td>0</td>\n",
       "      <td>0</td>\n",
       "    </tr>\n",
       "    <tr>\n",
       "      <th>2</th>\n",
       "      <td>0</td>\n",
       "      <td>0</td>\n",
       "      <td>0</td>\n",
       "      <td>0</td>\n",
       "      <td>0</td>\n",
       "      <td>0</td>\n",
       "      <td>0</td>\n",
       "      <td>0</td>\n",
       "      <td>0</td>\n",
       "      <td>0</td>\n",
       "      <td>...</td>\n",
       "      <td>0</td>\n",
       "      <td>0</td>\n",
       "      <td>0</td>\n",
       "      <td>0</td>\n",
       "      <td>0</td>\n",
       "      <td>0</td>\n",
       "      <td>0</td>\n",
       "      <td>0</td>\n",
       "      <td>0</td>\n",
       "      <td>0</td>\n",
       "    </tr>\n",
       "    <tr>\n",
       "      <th>3</th>\n",
       "      <td>0</td>\n",
       "      <td>0</td>\n",
       "      <td>0</td>\n",
       "      <td>0</td>\n",
       "      <td>0</td>\n",
       "      <td>0</td>\n",
       "      <td>0</td>\n",
       "      <td>0</td>\n",
       "      <td>0</td>\n",
       "      <td>0</td>\n",
       "      <td>...</td>\n",
       "      <td>0</td>\n",
       "      <td>0</td>\n",
       "      <td>0</td>\n",
       "      <td>0</td>\n",
       "      <td>0</td>\n",
       "      <td>0</td>\n",
       "      <td>0</td>\n",
       "      <td>0</td>\n",
       "      <td>0</td>\n",
       "      <td>0</td>\n",
       "    </tr>\n",
       "    <tr>\n",
       "      <th>4</th>\n",
       "      <td>0</td>\n",
       "      <td>0</td>\n",
       "      <td>0</td>\n",
       "      <td>0</td>\n",
       "      <td>0</td>\n",
       "      <td>0</td>\n",
       "      <td>0</td>\n",
       "      <td>0</td>\n",
       "      <td>0</td>\n",
       "      <td>0</td>\n",
       "      <td>...</td>\n",
       "      <td>0</td>\n",
       "      <td>0</td>\n",
       "      <td>0</td>\n",
       "      <td>0</td>\n",
       "      <td>0</td>\n",
       "      <td>0</td>\n",
       "      <td>0</td>\n",
       "      <td>0</td>\n",
       "      <td>0</td>\n",
       "      <td>0</td>\n",
       "    </tr>\n",
       "    <tr>\n",
       "      <th>...</th>\n",
       "      <td>...</td>\n",
       "      <td>...</td>\n",
       "      <td>...</td>\n",
       "      <td>...</td>\n",
       "      <td>...</td>\n",
       "      <td>...</td>\n",
       "      <td>...</td>\n",
       "      <td>...</td>\n",
       "      <td>...</td>\n",
       "      <td>...</td>\n",
       "      <td>...</td>\n",
       "      <td>...</td>\n",
       "      <td>...</td>\n",
       "      <td>...</td>\n",
       "      <td>...</td>\n",
       "      <td>...</td>\n",
       "      <td>...</td>\n",
       "      <td>...</td>\n",
       "      <td>...</td>\n",
       "      <td>...</td>\n",
       "      <td>...</td>\n",
       "    </tr>\n",
       "    <tr>\n",
       "      <th>3019</th>\n",
       "      <td>0</td>\n",
       "      <td>0</td>\n",
       "      <td>0</td>\n",
       "      <td>0</td>\n",
       "      <td>0</td>\n",
       "      <td>0</td>\n",
       "      <td>0</td>\n",
       "      <td>0</td>\n",
       "      <td>0</td>\n",
       "      <td>0</td>\n",
       "      <td>...</td>\n",
       "      <td>0</td>\n",
       "      <td>0</td>\n",
       "      <td>0</td>\n",
       "      <td>0</td>\n",
       "      <td>0</td>\n",
       "      <td>0</td>\n",
       "      <td>0</td>\n",
       "      <td>0</td>\n",
       "      <td>0</td>\n",
       "      <td>0</td>\n",
       "    </tr>\n",
       "    <tr>\n",
       "      <th>3020</th>\n",
       "      <td>0</td>\n",
       "      <td>0</td>\n",
       "      <td>0</td>\n",
       "      <td>0</td>\n",
       "      <td>0</td>\n",
       "      <td>0</td>\n",
       "      <td>0</td>\n",
       "      <td>0</td>\n",
       "      <td>0</td>\n",
       "      <td>0</td>\n",
       "      <td>...</td>\n",
       "      <td>0</td>\n",
       "      <td>0</td>\n",
       "      <td>0</td>\n",
       "      <td>0</td>\n",
       "      <td>0</td>\n",
       "      <td>0</td>\n",
       "      <td>0</td>\n",
       "      <td>0</td>\n",
       "      <td>0</td>\n",
       "      <td>0</td>\n",
       "    </tr>\n",
       "    <tr>\n",
       "      <th>3021</th>\n",
       "      <td>0</td>\n",
       "      <td>0</td>\n",
       "      <td>0</td>\n",
       "      <td>0</td>\n",
       "      <td>0</td>\n",
       "      <td>0</td>\n",
       "      <td>0</td>\n",
       "      <td>0</td>\n",
       "      <td>0</td>\n",
       "      <td>0</td>\n",
       "      <td>...</td>\n",
       "      <td>0</td>\n",
       "      <td>0</td>\n",
       "      <td>0</td>\n",
       "      <td>0</td>\n",
       "      <td>0</td>\n",
       "      <td>0</td>\n",
       "      <td>0</td>\n",
       "      <td>0</td>\n",
       "      <td>0</td>\n",
       "      <td>0</td>\n",
       "    </tr>\n",
       "    <tr>\n",
       "      <th>3022</th>\n",
       "      <td>0</td>\n",
       "      <td>0</td>\n",
       "      <td>0</td>\n",
       "      <td>0</td>\n",
       "      <td>0</td>\n",
       "      <td>0</td>\n",
       "      <td>0</td>\n",
       "      <td>0</td>\n",
       "      <td>0</td>\n",
       "      <td>0</td>\n",
       "      <td>...</td>\n",
       "      <td>0</td>\n",
       "      <td>0</td>\n",
       "      <td>0</td>\n",
       "      <td>0</td>\n",
       "      <td>0</td>\n",
       "      <td>0</td>\n",
       "      <td>0</td>\n",
       "      <td>0</td>\n",
       "      <td>0</td>\n",
       "      <td>0</td>\n",
       "    </tr>\n",
       "    <tr>\n",
       "      <th>3023</th>\n",
       "      <td>0</td>\n",
       "      <td>0</td>\n",
       "      <td>0</td>\n",
       "      <td>0</td>\n",
       "      <td>0</td>\n",
       "      <td>0</td>\n",
       "      <td>0</td>\n",
       "      <td>0</td>\n",
       "      <td>0</td>\n",
       "      <td>0</td>\n",
       "      <td>...</td>\n",
       "      <td>0</td>\n",
       "      <td>0</td>\n",
       "      <td>0</td>\n",
       "      <td>0</td>\n",
       "      <td>0</td>\n",
       "      <td>0</td>\n",
       "      <td>0</td>\n",
       "      <td>0</td>\n",
       "      <td>0</td>\n",
       "      <td>0</td>\n",
       "    </tr>\n",
       "  </tbody>\n",
       "</table>\n",
       "<p>3024 rows × 3703 columns</p>\n",
       "</div>"
      ],
      "text/plain": [
       "      0     1     2     3     4     5     6     7     8     9     ...  3693  \\\n",
       "0        0     0     0     0     0     0     0     0     0     0  ...     0   \n",
       "1        0     0     0     0     0     0     0     0     0     0  ...     0   \n",
       "2        0     0     0     0     0     0     0     0     0     0  ...     0   \n",
       "3        0     0     0     0     0     0     0     0     0     0  ...     0   \n",
       "4        0     0     0     0     0     0     0     0     0     0  ...     0   \n",
       "...    ...   ...   ...   ...   ...   ...   ...   ...   ...   ...  ...   ...   \n",
       "3019     0     0     0     0     0     0     0     0     0     0  ...     0   \n",
       "3020     0     0     0     0     0     0     0     0     0     0  ...     0   \n",
       "3021     0     0     0     0     0     0     0     0     0     0  ...     0   \n",
       "3022     0     0     0     0     0     0     0     0     0     0  ...     0   \n",
       "3023     0     0     0     0     0     0     0     0     0     0  ...     0   \n",
       "\n",
       "      3694  3695  3696  3697  3698  3699  3700  3701  3702  \n",
       "0        0     0     0     0     0     0     0     0     0  \n",
       "1        0     0     0     0     0     0     0     0     0  \n",
       "2        0     0     0     0     0     0     0     0     0  \n",
       "3        0     0     0     0     0     0     0     0     0  \n",
       "4        0     0     0     0     0     0     0     0     0  \n",
       "...    ...   ...   ...   ...   ...   ...   ...   ...   ...  \n",
       "3019     0     0     0     0     0     0     0     0     0  \n",
       "3020     0     0     0     0     0     0     0     0     0  \n",
       "3021     0     0     0     0     0     0     0     0     0  \n",
       "3022     0     0     0     0     0     0     0     0     0  \n",
       "3023     0     0     0     0     0     0     0     0     0  \n",
       "\n",
       "[3024 rows x 3703 columns]"
      ]
     },
     "execution_count": 360,
     "metadata": {},
     "output_type": "execute_result"
    }
   ],
   "source": [
    "sub"
   ]
  },
  {
   "cell_type": "code",
   "execution_count": 377,
   "metadata": {},
   "outputs": [
    {
     "name": "stderr",
     "output_type": "stream",
     "text": [
      "C:\\Users\\konqe\\anaconda3\\lib\\site-packages\\gensim\\models\\base_any2vec.py:742: UserWarning: C extension not loaded, training will be slow. Install a C compiler and reinstall gensim for fast training.\n",
      "  warnings.warn(\n"
     ]
    }
   ],
   "source": [
    "w2v = Word2Vec(sentences=X.astype(str).tolist(), size=50, workers=-1)"
   ]
  },
  {
   "cell_type": "code",
   "execution_count": 379,
   "metadata": {},
   "outputs": [
    {
     "ename": "ModuleNotFoundError",
     "evalue": "No module named 'gensim.models.word2vec_corpusfile'",
     "output_type": "error",
     "traceback": [
      "\u001b[1;31m---------------------------------------------------------------------------\u001b[0m",
      "\u001b[1;31mModuleNotFoundError\u001b[0m                       Traceback (most recent call last)",
      "\u001b[1;32m<ipython-input-379-0f83e360d5f6>\u001b[0m in \u001b[0;36m<module>\u001b[1;34m\u001b[0m\n\u001b[1;32m----> 1\u001b[1;33m \u001b[0mw2v\u001b[0m\u001b[1;33m.\u001b[0m\u001b[0mtrain\u001b[0m\u001b[1;33m(\u001b[0m\u001b[0mtotal_words\u001b[0m\u001b[1;33m=\u001b[0m\u001b[1;36m2715\u001b[0m\u001b[1;33m,\u001b[0m \u001b[0mepochs\u001b[0m\u001b[1;33m=\u001b[0m\u001b[1;36m10\u001b[0m\u001b[1;33m)\u001b[0m\u001b[1;33m\u001b[0m\u001b[1;33m\u001b[0m\u001b[0m\n\u001b[0m",
      "\u001b[1;32m~\\anaconda3\\lib\\site-packages\\gensim\\models\\word2vec.py\u001b[0m in \u001b[0;36mtrain\u001b[1;34m(self, sentences, corpus_file, total_examples, total_words, epochs, start_alpha, end_alpha, word_count, queue_factor, report_delay, compute_loss, callbacks)\u001b[0m\n\u001b[0;32m    887\u001b[0m \u001b[1;33m\u001b[0m\u001b[0m\n\u001b[0;32m    888\u001b[0m         \"\"\"\n\u001b[1;32m--> 889\u001b[1;33m         return super(Word2Vec, self).train(\n\u001b[0m\u001b[0;32m    890\u001b[0m             \u001b[0msentences\u001b[0m\u001b[1;33m=\u001b[0m\u001b[0msentences\u001b[0m\u001b[1;33m,\u001b[0m \u001b[0mcorpus_file\u001b[0m\u001b[1;33m=\u001b[0m\u001b[0mcorpus_file\u001b[0m\u001b[1;33m,\u001b[0m \u001b[0mtotal_examples\u001b[0m\u001b[1;33m=\u001b[0m\u001b[0mtotal_examples\u001b[0m\u001b[1;33m,\u001b[0m \u001b[0mtotal_words\u001b[0m\u001b[1;33m=\u001b[0m\u001b[0mtotal_words\u001b[0m\u001b[1;33m,\u001b[0m\u001b[1;33m\u001b[0m\u001b[1;33m\u001b[0m\u001b[0m\n\u001b[0;32m    891\u001b[0m             \u001b[0mepochs\u001b[0m\u001b[1;33m=\u001b[0m\u001b[0mepochs\u001b[0m\u001b[1;33m,\u001b[0m \u001b[0mstart_alpha\u001b[0m\u001b[1;33m=\u001b[0m\u001b[0mstart_alpha\u001b[0m\u001b[1;33m,\u001b[0m \u001b[0mend_alpha\u001b[0m\u001b[1;33m=\u001b[0m\u001b[0mend_alpha\u001b[0m\u001b[1;33m,\u001b[0m \u001b[0mword_count\u001b[0m\u001b[1;33m=\u001b[0m\u001b[0mword_count\u001b[0m\u001b[1;33m,\u001b[0m\u001b[1;33m\u001b[0m\u001b[1;33m\u001b[0m\u001b[0m\n",
      "\u001b[1;32m~\\anaconda3\\lib\\site-packages\\gensim\\models\\base_any2vec.py\u001b[0m in \u001b[0;36mtrain\u001b[1;34m(self, sentences, corpus_file, total_examples, total_words, epochs, start_alpha, end_alpha, word_count, queue_factor, report_delay, compute_loss, callbacks, **kwargs)\u001b[0m\n\u001b[0;32m   1075\u001b[0m         \u001b[0mself\u001b[0m\u001b[1;33m.\u001b[0m\u001b[0mcompute_loss\u001b[0m \u001b[1;33m=\u001b[0m \u001b[0mcompute_loss\u001b[0m\u001b[1;33m\u001b[0m\u001b[1;33m\u001b[0m\u001b[0m\n\u001b[0;32m   1076\u001b[0m         \u001b[0mself\u001b[0m\u001b[1;33m.\u001b[0m\u001b[0mrunning_training_loss\u001b[0m \u001b[1;33m=\u001b[0m \u001b[1;36m0.0\u001b[0m\u001b[1;33m\u001b[0m\u001b[1;33m\u001b[0m\u001b[0m\n\u001b[1;32m-> 1077\u001b[1;33m         return super(BaseWordEmbeddingsModel, self).train(\n\u001b[0m\u001b[0;32m   1078\u001b[0m             \u001b[0mdata_iterable\u001b[0m\u001b[1;33m=\u001b[0m\u001b[0msentences\u001b[0m\u001b[1;33m,\u001b[0m \u001b[0mcorpus_file\u001b[0m\u001b[1;33m=\u001b[0m\u001b[0mcorpus_file\u001b[0m\u001b[1;33m,\u001b[0m \u001b[0mtotal_examples\u001b[0m\u001b[1;33m=\u001b[0m\u001b[0mtotal_examples\u001b[0m\u001b[1;33m,\u001b[0m\u001b[1;33m\u001b[0m\u001b[1;33m\u001b[0m\u001b[0m\n\u001b[0;32m   1079\u001b[0m             \u001b[0mtotal_words\u001b[0m\u001b[1;33m=\u001b[0m\u001b[0mtotal_words\u001b[0m\u001b[1;33m,\u001b[0m \u001b[0mepochs\u001b[0m\u001b[1;33m=\u001b[0m\u001b[0mepochs\u001b[0m\u001b[1;33m,\u001b[0m \u001b[0mstart_alpha\u001b[0m\u001b[1;33m=\u001b[0m\u001b[0mstart_alpha\u001b[0m\u001b[1;33m,\u001b[0m \u001b[0mend_alpha\u001b[0m\u001b[1;33m=\u001b[0m\u001b[0mend_alpha\u001b[0m\u001b[1;33m,\u001b[0m \u001b[0mword_count\u001b[0m\u001b[1;33m=\u001b[0m\u001b[0mword_count\u001b[0m\u001b[1;33m,\u001b[0m\u001b[1;33m\u001b[0m\u001b[1;33m\u001b[0m\u001b[0m\n",
      "\u001b[1;32m~\\anaconda3\\lib\\site-packages\\gensim\\models\\base_any2vec.py\u001b[0m in \u001b[0;36mtrain\u001b[1;34m(self, data_iterable, corpus_file, epochs, total_examples, total_words, queue_factor, report_delay, callbacks, **kwargs)\u001b[0m\n\u001b[0;32m    553\u001b[0m                     total_words=total_words, queue_factor=queue_factor, report_delay=report_delay)\n\u001b[0;32m    554\u001b[0m             \u001b[1;32melse\u001b[0m\u001b[1;33m:\u001b[0m\u001b[1;33m\u001b[0m\u001b[1;33m\u001b[0m\u001b[0m\n\u001b[1;32m--> 555\u001b[1;33m                 trained_word_count_epoch, raw_word_count_epoch, job_tally_epoch = self._train_epoch_corpusfile(\n\u001b[0m\u001b[0;32m    556\u001b[0m                     corpus_file, cur_epoch=cur_epoch, total_examples=total_examples, total_words=total_words, **kwargs)\n\u001b[0;32m    557\u001b[0m \u001b[1;33m\u001b[0m\u001b[0m\n",
      "\u001b[1;32m~\\anaconda3\\lib\\site-packages\\gensim\\models\\base_any2vec.py\u001b[0m in \u001b[0;36m_train_epoch_corpusfile\u001b[1;34m(self, corpus_file, cur_epoch, total_examples, total_words, **kwargs)\u001b[0m\n\u001b[0;32m    403\u001b[0m             \u001b[1;32mraise\u001b[0m \u001b[0mValueError\u001b[0m\u001b[1;33m(\u001b[0m\u001b[1;34m\"total_words must be provided alongside corpus_file argument.\"\u001b[0m\u001b[1;33m)\u001b[0m\u001b[1;33m\u001b[0m\u001b[1;33m\u001b[0m\u001b[0m\n\u001b[0;32m    404\u001b[0m \u001b[1;33m\u001b[0m\u001b[0m\n\u001b[1;32m--> 405\u001b[1;33m         \u001b[1;32mfrom\u001b[0m \u001b[0mgensim\u001b[0m\u001b[1;33m.\u001b[0m\u001b[0mmodels\u001b[0m\u001b[1;33m.\u001b[0m\u001b[0mword2vec_corpusfile\u001b[0m \u001b[1;32mimport\u001b[0m \u001b[0mCythonVocab\u001b[0m\u001b[1;33m\u001b[0m\u001b[1;33m\u001b[0m\u001b[0m\n\u001b[0m\u001b[0;32m    406\u001b[0m         \u001b[1;32mfrom\u001b[0m \u001b[0mgensim\u001b[0m\u001b[1;33m.\u001b[0m\u001b[0mmodels\u001b[0m\u001b[1;33m.\u001b[0m\u001b[0mfasttext\u001b[0m \u001b[1;32mimport\u001b[0m \u001b[0mFastText\u001b[0m\u001b[1;33m\u001b[0m\u001b[1;33m\u001b[0m\u001b[0m\n\u001b[0;32m    407\u001b[0m         \u001b[0mcython_vocab\u001b[0m \u001b[1;33m=\u001b[0m \u001b[0mCythonVocab\u001b[0m\u001b[1;33m(\u001b[0m\u001b[0mself\u001b[0m\u001b[1;33m.\u001b[0m\u001b[0mwv\u001b[0m\u001b[1;33m,\u001b[0m \u001b[0mhs\u001b[0m\u001b[1;33m=\u001b[0m\u001b[0mself\u001b[0m\u001b[1;33m.\u001b[0m\u001b[0mhs\u001b[0m\u001b[1;33m,\u001b[0m \u001b[0mfasttext\u001b[0m\u001b[1;33m=\u001b[0m\u001b[0misinstance\u001b[0m\u001b[1;33m(\u001b[0m\u001b[0mself\u001b[0m\u001b[1;33m,\u001b[0m \u001b[0mFastText\u001b[0m\u001b[1;33m)\u001b[0m\u001b[1;33m)\u001b[0m\u001b[1;33m\u001b[0m\u001b[1;33m\u001b[0m\u001b[0m\n",
      "\u001b[1;31mModuleNotFoundError\u001b[0m: No module named 'gensim.models.word2vec_corpusfile'"
     ]
    }
   ],
   "source": [
    "w2v.train(total_words=2715, epochs=10)"
   ]
  },
  {
   "cell_type": "code",
   "execution_count": null,
   "metadata": {},
   "outputs": [],
   "source": []
  },
  {
   "cell_type": "code",
   "execution_count": null,
   "metadata": {},
   "outputs": [],
   "source": []
  },
  {
   "cell_type": "code",
   "execution_count": 380,
   "metadata": {},
   "outputs": [],
   "source": [
    "# you can use this function from last task from previous seminar\n",
    "def random_walks(G, n_walks, path_length):\n",
    "    # based on https://stackoverflow.com/questions/37311651/get-node-list-from-random-walk-in-networkx\n",
    "    \n",
    "    np.random.seed(40)\n",
    "    \n",
    "    A = nx.adj_matrix(G)\n",
    "    A = A.todense()\n",
    "    A = np.array(A, dtype=np.float32)\n",
    "    # let's evaluate the degree matrix D\n",
    "    D = np.diag(np.sum(A, axis=0))\n",
    "    # ...and the transition matrix T\n",
    "    P = np.dot(np.linalg.inv(D), A)\n",
    "    # let's define the random walk length, say 10\n",
    "    walkLength = path_length\n",
    "    \n",
    "    walks = []\n",
    "    \n",
    "    nodes = {v: k for k, v in enumerate(G.nodes)}\n",
    "    \n",
    "    # define the starting node, say the 0-th\n",
    "    for node_name in nodes.keys():\n",
    "        for _ in range(n_walks):            \n",
    "            walk = []\n",
    "            walk.append(node_name)\n",
    "            for _ in range(walkLength - 1):\n",
    "                # evaluate the next state vector\n",
    "                prob = P[nodes[walk[-1]]]\n",
    "#                 print(prob)\n",
    "                # choose the node with higher probability as the visited node\n",
    "                next_node_name = np.random.choice(list(nodes.keys()), p=prob)\n",
    "                walk.append(next_node_name)\n",
    "            walks.append(walk)\n",
    "    return np.array(walks)"
   ]
  },
  {
   "cell_type": "code",
   "execution_count": 381,
   "metadata": {},
   "outputs": [],
   "source": [
    "def make_skips(walk, length):\n",
    "    \n",
    "    skipped = []\n",
    "    \n",
    "    for i in range(length + 1):\n",
    "        skipped_one_walk = walk[i::length]\n",
    "        skipped.append(skipped_one_walk)\n",
    "        \n",
    "    return skipped"
   ]
  },
  {
   "cell_type": "code",
   "execution_count": 382,
   "metadata": {},
   "outputs": [],
   "source": [
    "def make_skips_dataset(input_walks, length):\n",
    "    \n",
    "    dataset = []\n",
    "    \n",
    "    for walk in input_walks:\n",
    "        dataset += make_skips(walk, length)\n",
    "        \n",
    "    return dataset"
   ]
  },
  {
   "cell_type": "code",
   "execution_count": 383,
   "metadata": {},
   "outputs": [],
   "source": [
    "def train_embedding(nodes, walks, window_size=5, vector_size=8):\n",
    "    \n",
    "    nodes = sorted(nodes)\n",
    "    \n",
    "    skip_lengths = range(1, window_size + 1)\n",
    "    \n",
    "    N_nodes = len(nodes)\n",
    "    N_skip_lengths = len(skip_lengths)\n",
    "    \n",
    "    embeddings = np.zeros((N_skip_lengths, N_nodes, vector_size), dtype=np.float32)\n",
    "    \n",
    "    for i, skip_length in tqdm(enumerate(skip_lengths), total=len(skip_lengths)):\n",
    "        \n",
    "        dataset = make_skips_dataset(walks.astype(str), length=skip_length)\n",
    "        node2vec = Word2Vec(sentences=dataset, size=vector_size, min_count=1, sg=1, window=1, workers=-1)\n",
    "        \n",
    "        for j, node in enumerate(nodes):\n",
    "            try:\n",
    "                embeddings[i, j] = node2vec.wv[str(node)].squeeze()\n",
    "            except:\n",
    "                continue\n",
    "    \n",
    "    return embeddings.mean(axis=0)"
   ]
  },
  {
   "cell_type": "code",
   "execution_count": 400,
   "metadata": {},
   "outputs": [
    {
     "data": {
      "application/vnd.jupyter.widget-view+json": {
       "model_id": "d04ec0f6ad314d55805518ba2a6c01e7",
       "version_major": 2,
       "version_minor": 0
      },
      "text/plain": [
       "HBox(children=(FloatProgress(value=0.0, max=5.0), HTML(value='')))"
      ]
     },
     "metadata": {},
     "output_type": "display_data"
    },
    {
     "name": "stderr",
     "output_type": "stream",
     "text": [
      "C:\\Users\\konqe\\anaconda3\\lib\\site-packages\\gensim\\models\\base_any2vec.py:742: UserWarning: C extension not loaded, training will be slow. Install a C compiler and reinstall gensim for fast training.\n",
      "  warnings.warn(\n"
     ]
    },
    {
     "name": "stdout",
     "output_type": "stream",
     "text": [
      "\n"
     ]
    }
   ],
   "source": [
    "np.random.seed(0)\n",
    "G = nx.Graph(train_edges)\n",
    "nodes = np.arange(max(set(sum(train_edges, ())) | set(sum(test_edges, ()))) + 1)\n",
    "walks = random_walks(G, 10, 5)\n",
    "embeddings = train_embedding(nodes, walks, vector_size=50)"
   ]
  },
  {
   "cell_type": "code",
   "execution_count": 516,
   "metadata": {},
   "outputs": [
    {
     "data": {
      "application/vnd.jupyter.widget-view+json": {
       "model_id": "a35c977fbcb74285a3e3dd155069b1b3",
       "version_major": 2,
       "version_minor": 0
      },
      "text/plain": [
       "HBox(children=(FloatProgress(value=0.0, max=6048.0), HTML(value='')))"
      ]
     },
     "metadata": {},
     "output_type": "display_data"
    },
    {
     "name": "stdout",
     "output_type": "stream",
     "text": [
      "\n"
     ]
    }
   ],
   "source": [
    "dataset = []\n",
    "\n",
    "for row in tqdm(labels):\n",
    "    feats_ = np.concatenate((embeddings[row[0]].squeeze(), embeddings[row[1]].squeeze()))\n",
    "    feats_ = feats_.tolist()\n",
    "    label_ = [row[2].tolist()]\n",
    "    dataset.append(feats_ + label_)\n",
    "    \n",
    "dataset = pd.DataFrame(dataset)"
   ]
  },
  {
   "cell_type": "code",
   "execution_count": 517,
   "metadata": {},
   "outputs": [
    {
     "data": {
      "text/plain": [
       "(6048, 101)"
      ]
     },
     "execution_count": 517,
     "metadata": {},
     "output_type": "execute_result"
    }
   ],
   "source": [
    "dataset.shape"
   ]
  },
  {
   "cell_type": "code",
   "execution_count": 518,
   "metadata": {},
   "outputs": [],
   "source": [
    "X_train, X_test, y_train, y_test = train_test_split(dataset.iloc[:, :-1], dataset.iloc[:, -1], test_size=0.1, random_state=7)"
   ]
  },
  {
   "cell_type": "code",
   "execution_count": 541,
   "metadata": {},
   "outputs": [
    {
     "data": {
      "text/plain": [
       "(0.7738379570090024, 0.7735537190082644)"
      ]
     },
     "execution_count": 541,
     "metadata": {},
     "output_type": "execute_result"
    }
   ],
   "source": [
    "rfc = RandomForestClassifier(max_depth=7, random_state=7, n_jobs=-1)\n",
    "rfc.fit(X_train, y_train)\n",
    "accuracy_score(y_train, rfc.predict(X_train)), accuracy_score(y_test, rfc.predict(X_test))"
   ]
  },
  {
   "cell_type": "code",
   "execution_count": 542,
   "metadata": {},
   "outputs": [],
   "source": [
    "rfc.fit(dataset.iloc[:, :-1], dataset.iloc[:, -1])\n",
    "preds = rfc.predict(pd.DataFrame(sub))"
   ]
  },
  {
   "cell_type": "code",
   "execution_count": 544,
   "metadata": {},
   "outputs": [
    {
     "data": {
      "text/plain": [
       "array([0, 0, 0, ..., 1, 1, 0], dtype=int64)"
      ]
     },
     "execution_count": 544,
     "metadata": {},
     "output_type": "execute_result"
    }
   ],
   "source": [
    "preds"
   ]
  },
  {
   "cell_type": "code",
   "execution_count": 543,
   "metadata": {},
   "outputs": [],
   "source": [
    "preds.tofile(\"submission_emb_rfc.txt\", sep=\"\\n\")"
   ]
  },
  {
   "cell_type": "code",
   "execution_count": 412,
   "metadata": {},
   "outputs": [],
   "source": [
    "from xgboost import XGBClassifier"
   ]
  },
  {
   "cell_type": "code",
   "execution_count": 532,
   "metadata": {},
   "outputs": [
    {
     "name": "stdout",
     "output_type": "stream",
     "text": [
      "[13:51:47] WARNING: C:/Users/Administrator/workspace/xgboost-win64_release_1.3.0/src/learner.cc:1061: Starting in XGBoost 1.3.0, the default evaluation metric used with the objective 'binary:logistic' was changed from 'error' to 'logloss'. Explicitly set eval_metric if you'd like to restore the old behavior.\n"
     ]
    },
    {
     "data": {
      "text/plain": [
       "(0.784677567517913, 0.775206611570248)"
      ]
     },
     "execution_count": 532,
     "metadata": {},
     "output_type": "execute_result"
    }
   ],
   "source": [
    "model = XGBClassifier(max_depth=5, n_estimators=10, reg_lambda=1, reg_alpha=7, n_jobs=-1)\n",
    "model.fit(X_train, y_train)\n",
    "accuracy_score(y_train, model.predict(X_train)), accuracy_score(y_test, model.predict(X_test))"
   ]
  },
  {
   "cell_type": "code",
   "execution_count": 533,
   "metadata": {},
   "outputs": [
    {
     "name": "stdout",
     "output_type": "stream",
     "text": [
      "[13:51:51] WARNING: C:/Users/Administrator/workspace/xgboost-win64_release_1.3.0/src/learner.cc:1061: Starting in XGBoost 1.3.0, the default evaluation metric used with the objective 'binary:logistic' was changed from 'error' to 'logloss'. Explicitly set eval_metric if you'd like to restore the old behavior.\n"
     ]
    },
    {
     "data": {
      "text/plain": [
       "XGBClassifier(base_score=0.5, booster='gbtree', colsample_bylevel=1,\n",
       "              colsample_bynode=1, colsample_bytree=1, gamma=0, gpu_id=-1,\n",
       "              importance_type='gain', interaction_constraints='',\n",
       "              learning_rate=0.300000012, max_delta_step=0, max_depth=5,\n",
       "              min_child_weight=1, missing=nan, monotone_constraints='()',\n",
       "              n_estimators=10, n_jobs=-1, num_parallel_tree=1, random_state=0,\n",
       "              reg_alpha=7, reg_lambda=1, scale_pos_weight=1, subsample=1,\n",
       "              tree_method='exact', validate_parameters=1, verbosity=None)"
      ]
     },
     "execution_count": 533,
     "metadata": {},
     "output_type": "execute_result"
    }
   ],
   "source": [
    "model.fit(dataset.iloc[:, :-1], dataset.iloc[:, -1])"
   ]
  },
  {
   "cell_type": "code",
   "execution_count": 534,
   "metadata": {},
   "outputs": [
    {
     "data": {
      "application/vnd.jupyter.widget-view+json": {
       "model_id": "4d7a42856c504095b7b0970b8134e05b",
       "version_major": 2,
       "version_minor": 0
      },
      "text/plain": [
       "HBox(children=(FloatProgress(value=0.0, max=3024.0), HTML(value='')))"
      ]
     },
     "metadata": {},
     "output_type": "display_data"
    },
    {
     "name": "stdout",
     "output_type": "stream",
     "text": [
      "\n"
     ]
    }
   ],
   "source": [
    "sub = []\n",
    "\n",
    "for row in tqdm(unlabeled):\n",
    "    feats_ = np.concatenate((embeddings[row[0]].squeeze(), embeddings[row[1]].squeeze()))\n",
    "    feats_ = feats_.tolist()\n",
    "    sub.append(feats_)"
   ]
  },
  {
   "cell_type": "code",
   "execution_count": 535,
   "metadata": {},
   "outputs": [],
   "source": [
    "preds = model.predict(pd.DataFrame(sub))"
   ]
  },
  {
   "cell_type": "code",
   "execution_count": 536,
   "metadata": {},
   "outputs": [],
   "source": [
    "preds.tofile(\"submission_emb_xgb_v2.txt\", sep=\"\\n\")"
   ]
  },
  {
   "cell_type": "code",
   "execution_count": null,
   "metadata": {},
   "outputs": [],
   "source": []
  }
 ],
 "metadata": {
  "kernelspec": {
   "display_name": "Python 3",
   "language": "python",
   "name": "python3"
  },
  "language_info": {
   "codemirror_mode": {
    "name": "ipython",
    "version": 3
   },
   "file_extension": ".py",
   "mimetype": "text/x-python",
   "name": "python",
   "nbconvert_exporter": "python",
   "pygments_lexer": "ipython3",
   "version": "3.8.3"
  }
 },
 "nbformat": 4,
 "nbformat_minor": 4
}
