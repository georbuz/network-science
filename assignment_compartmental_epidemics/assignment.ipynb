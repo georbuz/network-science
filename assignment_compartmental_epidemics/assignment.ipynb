{
 "cells": [
  {
   "cell_type": "markdown",
   "metadata": {},
   "source": [
    "# Assignment — Compartmental Epidemic Models"
   ]
  },
  {
   "cell_type": "code",
   "execution_count": null,
   "metadata": {},
   "outputs": [],
   "source": [
    "import numpy as np\n",
    "import matplotlib.pyplot as plt\n",
    "from zlib import adler32\n",
    "from scipy.optimize import minimize"
   ]
  },
  {
   "cell_type": "markdown",
   "metadata": {},
   "source": [
    "### Task 1. Euler method for ODE (1 point)"
   ]
  },
  {
   "cell_type": "markdown",
   "metadata": {},
   "source": [
    "Euler method is a simple numerical procedure for solving ordinary differential equations (ODEs) with a given initial values.  For example, if we want to solve an equation\n",
    "\n",
    "$$dx/dt = \\sin(x)$$\n",
    "\n",
    "with initial value $x = x_0$, we can subtitute $dx = \\Delta x = x_{i+1} - x_{i}$ and $dt = \\Delta t$, therefore we obtain\n",
    "\n",
    "$$\\frac{x_{i+1} - x_i}{\\Delta t} = \\sin(x)$$ \n",
    "$$x_{i+1} = x_i + \\sin(x)\\Delta t$$\n",
    "\n",
    "Let $\\Delta t = 0.1$, and then we can solve the equation using this iterative form as follows"
   ]
  },
  {
   "cell_type": "code",
   "execution_count": null,
   "metadata": {},
   "outputs": [],
   "source": [
    "def solve_sinx(x0, dt, k):\n",
    "    x = x0\n",
    "    solution = [x0]\n",
    "    for _ in range(k):\n",
    "        dx = np.sin(x) * dt\n",
    "        x = x + dx\n",
    "        solution.append(x)\n",
    "    return solution"
   ]
  },
  {
   "cell_type": "code",
   "execution_count": null,
   "metadata": {},
   "outputs": [],
   "source": [
    "dt = 0.1\n",
    "for x0 in np.linspace(1, 12, 100):\n",
    "    solution = solve_sinx(x0, dt, 70)\n",
    "    plt.plot(solution, c='tab:blue', alpha=0.3);\n",
    "plt.xlabel('t')\n",
    "plt.ylabel('x')\n",
    "plt.show()"
   ]
  },
  {
   "cell_type": "markdown",
   "metadata": {},
   "source": [
    "Assume that we want to solve the famous chaotic Lorenz System:\n",
    "\n",
    "$$\n",
    "\\begin{cases}\n",
    "\\frac{dx}{dt} = \\sigma(y-x)\\\\\n",
    "\\frac{dy}{dt} = x(\\rho - z) - y\\\\\n",
    "\\frac{dz}{dt} = xy - \\beta z\\\\\n",
    "\\end{cases}\n",
    "$$\n",
    "\n",
    "with parameters $\\rho = 28$, $\\sigma = 10$, $\\beta = 8/3$ and initial values $x = y = z = 10$.\n",
    "\n",
    "Write a function `lorenz` that takes initial values, parameters, time increment `dt`, number of iterations `k` and returns np.array with solution of the form `[[x0, y0, z0], [x1, y1, z1], ...]` so that number of rows is `k+1`."
   ]
  },
  {
   "cell_type": "code",
   "execution_count": null,
   "metadata": {
    "deletable": false,
    "nbgrader": {
     "cell_type": "code",
     "checksum": "65d07739b04c26c05ceadb3840a858e8",
     "grade": false,
     "grade_id": "cell-eed3b935125812f1",
     "locked": false,
     "schema_version": 3,
     "solution": true,
     "task": false
    }
   },
   "outputs": [],
   "source": [
    "def lorenz(x0, y0, z0, rho, sigma, beta, dt, k):\n",
    "    # YOUR CODE HERE\n",
    "    raise NotImplementedError()"
   ]
  },
  {
   "cell_type": "code",
   "execution_count": null,
   "metadata": {
    "deletable": false,
    "editable": false,
    "nbgrader": {
     "cell_type": "code",
     "checksum": "44c9d164c8a1d06be37f74d0248548be",
     "grade": true,
     "grade_id": "cell-06598fd0a7b7e4cf",
     "locked": true,
     "points": 1,
     "schema_version": 3,
     "solution": false,
     "task": false
    }
   },
   "outputs": [],
   "source": [
    "sim = lorenz(10., 10., 10., 28., 10., 8/3, 0.01, 8000-1)\n",
    "assert sim.shape == (8000, 3)\n",
    "assert np.all(sim[0] == [10, 10, 10])\n",
    "assert np.all(sim[1].round(2) == [10., 11.7, 10.73])\n",
    "assert np.all(sim[2].round(2) == [10.17, 13.31, 11.62])\n",
    "assert adler32(str(sim[3].round(2)[0]).encode()) == 48496892"
   ]
  },
  {
   "cell_type": "code",
   "execution_count": null,
   "metadata": {},
   "outputs": [],
   "source": [
    "fig = plt.figure(figsize=(8, 8))\n",
    "ax = fig.gca(projection='3d')\n",
    "xs, ys, zs = sim[:, 0], sim[:, 1], sim[:, 2]\n",
    "ax.plot(xs, ys, zs, lw=0.3)\n",
    "plt.title('Solution of the Lorenz System')\n",
    "ax.set_xlabel('x')\n",
    "ax.set_ylabel('y')\n",
    "ax.set_zlabel('z')\n",
    "plt.show()"
   ]
  },
  {
   "cell_type": "markdown",
   "metadata": {},
   "source": [
    "### Task 2. SI model (1 point)"
   ]
  },
  {
   "cell_type": "markdown",
   "metadata": {},
   "source": [
    "Consider a simple model of an epidemic — SI model. S — susceptible, I — infectious. Initialy we only have a few infected persons and all others are susceptible. Then some susceptible people become infected with infection rate $\\beta$. The model is defined as follows:\n",
    "\n",
    "Dynamic form\n",
    "\n",
    "$$S \\underset{\\beta SI}{\\to} I$$\n",
    "\n",
    "Equation form\n",
    "\n",
    "$$\\frac{dI}{dt} = \\beta \\frac{S}{N}I$$\n",
    "\n",
    "$$S + I = N$$\n",
    "\n",
    "where $N$ is the total population.\n",
    "\n",
    "Write a function `si_epidemic` that takes the total population `total`, number of infected people `I0`, infected rate `beta`, time increment `dt`, number of iterations `k` and returns a returns np.array with solution of the form `[[S0, I0], [S1, I1], ...]` so that number of rows is k+1."
   ]
  },
  {
   "cell_type": "code",
   "execution_count": null,
   "metadata": {
    "deletable": false,
    "nbgrader": {
     "cell_type": "code",
     "checksum": "98e0c3bea693bf84a419664ec1bc43e8",
     "grade": false,
     "grade_id": "cell-e2b1ffa27b6efcb5",
     "locked": false,
     "schema_version": 3,
     "solution": true,
     "task": false
    }
   },
   "outputs": [],
   "source": [
    "def si_epidemic(total, I0, beta, dt, k):\n",
    "    # YOUR CODE HERE\n",
    "    raise NotImplementedError()"
   ]
  },
  {
   "cell_type": "code",
   "execution_count": null,
   "metadata": {
    "deletable": false,
    "editable": false,
    "nbgrader": {
     "cell_type": "code",
     "checksum": "17b30f2417b9433a731c39bbc9660b45",
     "grade": true,
     "grade_id": "cell-e17107636e2ee9ea",
     "locked": true,
     "points": 1,
     "schema_version": 3,
     "solution": false,
     "task": false
    }
   },
   "outputs": [],
   "source": [
    "solution = si_epidemic(total=1000, I0=1, beta=0.3, dt=0.5, k=130-1)\n",
    "assert solution.shape == (130, 2)\n",
    "assert np.all(solution[0] == [999, 1])\n",
    "assert np.all(solution[10].round(2) == [995.97, 4.03])\n",
    "assert np.all(solution[-1].round(2) == [0, 1000])\n",
    "assert adler32(str(solution[100].round(2)[0]).encode()) == 32047304"
   ]
  },
  {
   "cell_type": "code",
   "execution_count": null,
   "metadata": {},
   "outputs": [],
   "source": [
    "plt.plot(solution)\n",
    "plt.legend(['S', 'I'])\n",
    "plt.title('SI model, infected rate is 0.3')\n",
    "plt.xlabel('time')\n",
    "plt.ylabel('population')\n",
    "plt.show()"
   ]
  },
  {
   "cell_type": "markdown",
   "metadata": {},
   "source": [
    "Let us look at the plot of epidemic dynamics with the same setup but $\\beta = 0.1$."
   ]
  },
  {
   "cell_type": "code",
   "execution_count": null,
   "metadata": {},
   "outputs": [],
   "source": [
    "solution = si_epidemic(total=1000, I0=1, beta=0.1, dt=0.5, k=130-1)\n",
    "plt.plot(solution)\n",
    "plt.legend(['S', 'I'])\n",
    "plt.title('SI model, infected rate is 0.1')\n",
    "plt.xlabel('time')\n",
    "plt.ylabel('population')\n",
    "plt.show()"
   ]
  },
  {
   "cell_type": "markdown",
   "metadata": {},
   "source": [
    "### Task 3. Numerical vs analytical solution of SI model (1 point)"
   ]
  },
  {
   "cell_type": "markdown",
   "metadata": {},
   "source": [
    "The SI model has an analytical solution\n",
    "\n",
    "$$i(t) = \\frac{i_0}{i_0 + (1 - i_0)e^{-\\beta t}}$$\n",
    "\n",
    "where $i(t)$ is the share of infected people at time moment $t$. Let us compare the analytical solution and Euler method.\n",
    "\n",
    "Write a function `si_epidemic_analytically` that takes the total population `total`, number of infected people `I0`, infected rate `beta`, time increment `dt`, number of iterations `k` and returns np.array `[[S0, I0], [S1, I1], ...]` is an analytical solution so that number of rows is `k+1`."
   ]
  },
  {
   "cell_type": "code",
   "execution_count": null,
   "metadata": {
    "deletable": false,
    "nbgrader": {
     "cell_type": "code",
     "checksum": "818992273d73810cc4fed72ce777837e",
     "grade": false,
     "grade_id": "cell-0f02d04eb19a8af6",
     "locked": false,
     "schema_version": 3,
     "solution": true,
     "task": false
    }
   },
   "outputs": [],
   "source": [
    "def si_epidemic_analytically(total, I0, beta, dt, k):\n",
    "    # YOUR CODE HERE\n",
    "    raise NotImplementedError()"
   ]
  },
  {
   "cell_type": "code",
   "execution_count": null,
   "metadata": {
    "deletable": false,
    "editable": false,
    "nbgrader": {
     "cell_type": "code",
     "checksum": "649b1cd1cad82fc617e8747eb13faf75",
     "grade": true,
     "grade_id": "cell-2abb7e112d301cfb",
     "locked": true,
     "points": 1,
     "schema_version": 3,
     "solution": false,
     "task": false
    }
   },
   "outputs": [],
   "source": [
    "analytical_solution = si_epidemic_analytically(total=1000, I0=1, beta=0.3, dt=0.5, k=130-1)\n",
    "assert analytical_solution.shape == (130, 2)\n",
    "assert np.all(analytical_solution[0] == [999, 1])\n",
    "assert np.all(analytical_solution[10].round(2) == [995.53, 4.47])\n",
    "assert np.all(analytical_solution[-1].round(2) == [0, 1000])\n",
    "assert adler32(str(analytical_solution[100].round(2)[0]).encode()) == 31785155"
   ]
  },
  {
   "cell_type": "code",
   "execution_count": null,
   "metadata": {},
   "outputs": [],
   "source": [
    "solution = si_epidemic(total=1000, I0=1, beta=0.2, dt=0.5, k=130-1)\n",
    "analytical_solution = si_epidemic_analytically(total=1000, I0=1, beta=0.2, dt=0.5, k=130-1)\n",
    "plt.plot(solution[:, 1], label='I, numerical solution')\n",
    "plt.plot(analytical_solution[:, 1], label='I, analytical solution')\n",
    "plt.legend()\n",
    "plt.title('SI model, infected rate is 0.3')\n",
    "plt.xlabel('time')\n",
    "plt.ylabel('population')\n",
    "plt.show()"
   ]
  },
  {
   "cell_type": "markdown",
   "metadata": {},
   "source": [
    "### Task 4. SIS model (2 points)"
   ]
  },
  {
   "cell_type": "markdown",
   "metadata": {},
   "source": [
    "Next, consider SIS model. S — susceptible, I — infectious. At the next time moment, some susceptible people become infected with infection rate $\\beta$ and some infected people become susceptible with recovery rate $\\gamma$. The model is defined as follows:\n",
    "\n",
    "Dynamic form\n",
    "\n",
    "$$S \\underset{\\beta S I}{\\to} I \\underset{\\gamma I}{\\to} S$$\n",
    "\n",
    "Equation form\n",
    "\n",
    "$$\\frac{dI}{dt} = \\beta \\frac{S}{N}I - \\gamma I$$\n",
    "\n",
    "$$S + I = N$$\n",
    "\n",
    "where $N$ is the total population. \n",
    "\n",
    "Write a function `sis_epidemic` that takes the total population `total`, number of infected people `I0`, infected rate `beta`, recovery rate `gamma`, time increment `dt`, number of iterations `k` and returns a solution of the form of a np.array\n",
    "\n",
    "`[[S0, I0], [S1, I1], ...]`\n",
    "\n",
    "so that number of rows is `k+1`."
   ]
  },
  {
   "cell_type": "code",
   "execution_count": null,
   "metadata": {
    "deletable": false,
    "nbgrader": {
     "cell_type": "code",
     "checksum": "5662ff3fc74904d933fabcc4a41b9a85",
     "grade": false,
     "grade_id": "cell-c2dd6ac011d8b8e6",
     "locked": false,
     "schema_version": 3,
     "solution": true,
     "task": false
    }
   },
   "outputs": [],
   "source": [
    "def sis_epidemic(total, I0, beta, gamma, dt, k):\n",
    "    # YOUR CODE HERE\n",
    "    raise NotImplementedError()"
   ]
  },
  {
   "cell_type": "code",
   "execution_count": null,
   "metadata": {
    "deletable": false,
    "editable": false,
    "nbgrader": {
     "cell_type": "code",
     "checksum": "0c16e3f327f6d670d5c23fcb5fd625bd",
     "grade": true,
     "grade_id": "cell-f63bbbea1c0f44c7",
     "locked": true,
     "points": 2,
     "schema_version": 3,
     "solution": false,
     "task": false
    }
   },
   "outputs": [],
   "source": [
    "total = 1000\n",
    "beta, gamma = 0.3, 0.1\n",
    "solution = sis_epidemic(total=total, I0=100, beta=beta, gamma=gamma, dt=0.2, k=600-1)\n",
    "assert solution.shape == (600, 2)\n",
    "assert np.all(solution[0] == [900, 100])\n",
    "assert np.all(solution[10].round(2) == [861.63, 138.37])\n",
    "assert solution[-1, 1].round(2) == round((1 - gamma / beta) * total, 2)\n",
    "assert adler32(str(solution[100].round(2)[0]).encode()) == 72548667"
   ]
  },
  {
   "cell_type": "markdown",
   "metadata": {},
   "source": [
    "Here is the critical point for a basic reproduction number $R_0 = \\beta / \\gamma$\n",
    "\n",
    "* If $R_0 > 1$: Endemic State,  $i(+\\infty) \\to (1 - \\gamma / \\beta)$\n",
    "* If $R_0 < 1$: Disease-free State, $i(+\\infty) \\to 0$\n",
    "\n",
    "where $i(t)$ is the share of infected people at the time moment $t$."
   ]
  },
  {
   "cell_type": "code",
   "execution_count": null,
   "metadata": {},
   "outputs": [],
   "source": [
    "plt.plot(solution)\n",
    "limit = (1 - gamma / beta) * total\n",
    "plt.plot([0, 600], [limit, limit], '--', c='black')\n",
    "plt.legend(['S', 'I', 'N(1 - gamma / beta)'])\n",
    "plt.title('SIS model, Endemic State, R_0 is {:.2f}'.format(beta / gamma))\n",
    "plt.xlabel('time')\n",
    "plt.ylabel('population')\n",
    "plt.show()"
   ]
  },
  {
   "cell_type": "code",
   "execution_count": null,
   "metadata": {},
   "outputs": [],
   "source": [
    "beta, gamma = 0.1, 0.3\n",
    "solution = sis_epidemic(total=total, I0=100, beta=beta, gamma=gamma, dt=0.2, k=100-1)\n",
    "plt.plot(solution)\n",
    "limit = (1 - gamma / beta) * total\n",
    "plt.legend(['S', 'I'])\n",
    "plt.title('SIS model, Disease-free State, R_0 is {:.2f}'.format(beta / gamma))\n",
    "plt.xlabel('time')\n",
    "plt.ylabel('population')\n",
    "plt.show()"
   ]
  },
  {
   "cell_type": "markdown",
   "metadata": {},
   "source": [
    "### Task 5. SIR model (1 point)"
   ]
  },
  {
   "cell_type": "markdown",
   "metadata": {},
   "source": [
    "The next model is SIR. S — susceptible, I — infectious, R — recovered people. Initialy we only have a few infected persons and others are susceptible. Then some susceptible people become infected with infection rate $\\beta$ and some infected people recover with recovery rate $\\gamma$. There is no chance to infect after recovering. The model is defined as follows:\n",
    "\n",
    "Dynamic form\n",
    "\n",
    "$$S \\underset{\\beta SI}{\\to} I \\underset{\\gamma I}{\\to} R$$\n",
    "\n",
    "Equation form (in proportions of the population)\n",
    "\n",
    "$$\\begin{cases}\n",
    "ds/dt = -\\beta si\\\\\n",
    "di/dt = \\beta si - \\gamma i\\\\\n",
    "dr/dt = \\gamma i\\\\\n",
    "s+i+r = 1\n",
    "\\end{cases}$$\n",
    "\n",
    "Write a function `sir_epidemic` that takes an initial proportion `s0`, `i0`, `r0`, infection rate `beta`, recovery rate `gamma`, a number of steps `k` and time increment `dt`. The function returns np.array of shape `(k+1, 3)` with `s`, `i`, `r` proportion in each step. The first row contains an initial proportion."
   ]
  },
  {
   "cell_type": "code",
   "execution_count": null,
   "metadata": {
    "deletable": false,
    "nbgrader": {
     "cell_type": "code",
     "checksum": "d6f79dcf0fdad5c4a3f1c2d6158c80d8",
     "grade": false,
     "grade_id": "cell-d04d4c7e210cc9b4",
     "locked": false,
     "schema_version": 3,
     "solution": true,
     "task": false
    }
   },
   "outputs": [],
   "source": [
    "def sir_epidemic(s0, i0, r0, beta, gamma, k, dt):\n",
    "    # YOUR CODE HERE\n",
    "    raise NotImplementedError()"
   ]
  },
  {
   "cell_type": "code",
   "execution_count": null,
   "metadata": {
    "deletable": false,
    "editable": false,
    "nbgrader": {
     "cell_type": "code",
     "checksum": "940e96710c1e96de1b6cd2dbebcc8530",
     "grade": true,
     "grade_id": "cell-ba03ef4271e82af1",
     "locked": true,
     "points": 1,
     "schema_version": 3,
     "solution": false,
     "task": false
    }
   },
   "outputs": [],
   "source": [
    "s0, i0, r0 = 0.99, 0.01, 0\n",
    "beta, gamma = 0.6, 0.1\n",
    "dt = 1\n",
    "epidemic = sir_epidemic(s0, i0, r0, beta, gamma, 80, dt)\n",
    "assert epidemic.shape == (81, 3)\n",
    "assert np.all(epidemic[0] == [0.99, 0.01, 0.  ])\n",
    "assert np.all(epidemic[5].round(2) == [0.92, 0.07, 0.01])\n",
    "assert np.all(epidemic[80].round(2) == [0, 0, 1])\n",
    "assert adler32(str(epidemic[10].round(2)[1]).encode()) == 32112840"
   ]
  },
  {
   "cell_type": "markdown",
   "metadata": {},
   "source": [
    "Here is also the critical point for a basic reproduction number $R_0 = \\beta / \\gamma$\n",
    "\n",
    "* If $R_0 > 1$: Endemic State,  $r(+\\infty) \\to 1$\n",
    "* If $R_0 < 1$: Disease-free State, $r(+\\infty) \\to \\text{const}$\n",
    "\n",
    "where $r(t)$ is the share of recovered people at the time moment $t$."
   ]
  },
  {
   "cell_type": "code",
   "execution_count": null,
   "metadata": {},
   "outputs": [],
   "source": [
    "plt.plot(epidemic)\n",
    "plt.legend(['S', 'I', 'R']);\n",
    "plt.title('SIR model, Endemic State, R_0 is {:.2f}'.format(beta/gamma))\n",
    "plt.xlabel('time')\n",
    "plt.ylabel('proportion')\n",
    "plt.show()"
   ]
  },
  {
   "cell_type": "code",
   "execution_count": null,
   "metadata": {},
   "outputs": [],
   "source": [
    "s0, i0, r0 = 0.7, 0.3, 0.\n",
    "dt = 1\n",
    "beta, gamma = 0.1, 0.3\n",
    "epidemic = sir_epidemic(s0, i0, r0, beta, gamma, 80, dt)\n",
    "plt.plot(epidemic)\n",
    "plt.legend(['S', 'I', 'R']);\n",
    "plt.title('SIR model, Disease-free State, R_0 is {:.2f}'.format(beta/gamma))\n",
    "plt.xlabel('time')\n",
    "plt.ylabel('proportion')\n",
    "plt.show()"
   ]
  },
  {
   "cell_type": "markdown",
   "metadata": {},
   "source": [
    "### Task 6. SIRS model (2 points)"
   ]
  },
  {
   "cell_type": "markdown",
   "metadata": {},
   "source": [
    "The next model is SIRS, that is the same as SIR with an exception that recovered people lose their immunity with rate $\\delta$. The dynamic form is\n",
    "\n",
    "$$S \\underset{\\beta SI}{\\to} I \\underset{\\gamma I}{\\to} R \\underset{\\delta R}{\\to} S$$\n",
    "\n",
    "Try to find an equation form using a dynamic form and implement this model.\n",
    "\n",
    "Write a function `sirs_epidemic` that takes an initial proportion of `s0`, `i0`, `r0`, infection rate `beta`, recovery rate `gamma`, loss of immunity rate `delta`, a number of steps `k` and time increment `dt`. The function returns np.array of shape `(k+1, 3)` with `s`, `i`, `r` proportion in each step. The first row contains an initial proportion."
   ]
  },
  {
   "cell_type": "code",
   "execution_count": null,
   "metadata": {
    "deletable": false,
    "nbgrader": {
     "cell_type": "code",
     "checksum": "8765321a6b5eb5b8498fee08aff3250e",
     "grade": false,
     "grade_id": "cell-eba7d91414cad02e",
     "locked": false,
     "schema_version": 3,
     "solution": true,
     "task": false
    }
   },
   "outputs": [],
   "source": [
    "def sirs_epidemic(s0, i0, r0, beta, gamma, delta, k, dt):\n",
    "    # YOUR CODE HERE\n",
    "    raise NotImplementedError()"
   ]
  },
  {
   "cell_type": "code",
   "execution_count": null,
   "metadata": {
    "deletable": false,
    "editable": false,
    "nbgrader": {
     "cell_type": "code",
     "checksum": "0e02e15b1788d347e8a9c625847e9cad",
     "grade": true,
     "grade_id": "cell-0209c67f0351dd21",
     "locked": true,
     "points": 2,
     "schema_version": 3,
     "solution": false,
     "task": false
    }
   },
   "outputs": [],
   "source": [
    "s0, i0, r0 = 0.9, 0.1, 0\n",
    "beta, gamma, delta = 0.7, 0.3, 0.03\n",
    "dt = 1\n",
    "epidemic = sirs_epidemic(s0, i0, r0, beta, gamma, delta, 200, dt)\n",
    "assert epidemic.shape == (201, 3)\n",
    "assert np.all(epidemic[0] == [0.9, 0.1, 0])\n",
    "assert np.all(epidemic[5].round(2) == [0.48, 0.27, 0.25])\n",
    "assert np.all(epidemic[80].round(2) == [0.39, 0.05, 0.56])\n",
    "assert np.all(epidemic[200].round(2) == [0.43, 0.05, 0.52])\n",
    "assert adler32(str(epidemic[10].round(2).max()).encode()) == 32506060"
   ]
  },
  {
   "cell_type": "code",
   "execution_count": null,
   "metadata": {},
   "outputs": [],
   "source": [
    "cases = [[0.5, 0.20, 0.005, 2000],\n",
    "         [0.4, 0.20, 0.002, 2000],\n",
    "         [0.4, 0.01, 0.010, 300 ],\n",
    "         [0.3, 0.11, 0.100, 100 ],\n",
    "         [0.6, 0.10, 0.000, 80  ]]\n",
    "for beta, gamma, delta, k in cases:\n",
    "    epidemic = sirs_epidemic(s0, i0, r0, beta, gamma, delta, k, dt)\n",
    "    plt.plot(epidemic)\n",
    "    plt.legend(['S', 'I', 'R'])\n",
    "    plt.xlabel('time')\n",
    "    plt.ylabel('proportion')\n",
    "    plt.title('SIRS model, beta={}, gamma={}, delta={}'.format(beta, gamma, delta, k))\n",
    "    plt.show()"
   ]
  },
  {
   "cell_type": "markdown",
   "metadata": {},
   "source": [
    "### Task 7. Fitting SIR model (2 points)"
   ]
  },
  {
   "cell_type": "markdown",
   "metadata": {},
   "source": [
    "In this task we will numerically estimate parameters of SIR model.\n",
    "\n",
    "In the previous task you already define `sir_epidemic` function that generate trajectories according to the SIR model.\n",
    "\n",
    "In the current task we will define two functions: `sir_error` and `fit_sir`.\n",
    "The first one estimates the RMSE error between real data and SIR model (here, we only try to predict infection rates). The second one minimize that error and return best parameters `beta` and `gamma` for SIR model via `scipy.optimize.minimize`."
   ]
  },
  {
   "cell_type": "markdown",
   "metadata": {},
   "source": [
    "In the function `initial_conditions` is the list with distribution of susceptible, infectious and recovered rates. `beta` and `gamma` are the parameters of SIR model and `data` is the observations of infected rate increments.\n",
    "\n",
    "`sir_error` should return RMSE error between `dI`.\n",
    "\n",
    "`fit_sir` should return `np.array` with estimates of `beta` and `gamma`"
   ]
  },
  {
   "cell_type": "code",
   "execution_count": null,
   "metadata": {
    "deletable": false,
    "nbgrader": {
     "cell_type": "code",
     "checksum": "98ba4acbe6987635e7080827944c9004",
     "grade": false,
     "grade_id": "cell-5e3467572171be80",
     "locked": false,
     "schema_version": 3,
     "solution": true,
     "task": false
    }
   },
   "outputs": [],
   "source": [
    "def sir_error(beta, gamma, initial_conditions, data):\n",
    "    # YOUR CODE HERE\n",
    "    raise NotImplementedError()"
   ]
  },
  {
   "cell_type": "code",
   "execution_count": null,
   "metadata": {
    "deletable": false,
    "nbgrader": {
     "cell_type": "code",
     "checksum": "253794b02348649e263c0d6365bc0941",
     "grade": false,
     "grade_id": "cell-dc00b115b0ea756d",
     "locked": false,
     "schema_version": 3,
     "solution": true,
     "task": false
    }
   },
   "outputs": [],
   "source": [
    "def fit_sir(initial_conditions, data, initial_params):\n",
    "    # YOUR CODE HERE\n",
    "    raise NotImplementedError()"
   ]
  },
  {
   "cell_type": "code",
   "execution_count": null,
   "metadata": {
    "deletable": false,
    "editable": false,
    "nbgrader": {
     "cell_type": "code",
     "checksum": "d1d663341982858475205f9e114e429f",
     "grade": true,
     "grade_id": "cell-42bd68d71d78f446",
     "locked": true,
     "points": 2,
     "schema_version": 3,
     "solution": false,
     "task": false
    }
   },
   "outputs": [],
   "source": [
    "assert round(sir_error(0.01, 0.05, [0.99, 0.01, 0], np.diff(np.arange(101) / 1010)), 4) == 0.0109\n",
    "beta, gamma = fit_sir([0.99, 0.01, 0], np.diff(np.arange(101) / 1010), (0.01, 0.01))\n",
    "assert round(beta, 4) == 0.0831\n",
    "assert round(gamma, 4) == 0.0501"
   ]
  },
  {
   "cell_type": "markdown",
   "metadata": {},
   "source": [
    "Now let us generate trajectories with noise and estimate parameters based on it"
   ]
  },
  {
   "cell_type": "code",
   "execution_count": null,
   "metadata": {},
   "outputs": [],
   "source": [
    "data = sir_epidemic(0.99, 0.01, 0, 0.05, 0.02, 1000, 1)\n",
    "np.random.seed(0)\n",
    "noise = (np.random.random(size=(data.shape[0], 2)) - 0.5) / 50\n",
    "noise = np.hstack([-noise.sum(1, keepdims=True), noise])\n",
    "data += noise\n",
    "diff = np.diff(data, axis=0)\n",
    "\n",
    "beta, gamma = fit_sir([0.99, 0.01, 0], diff[:, 1], (0.01, 0.01))\n",
    "\n",
    "assert round(beta, 2) == 0.05\n",
    "assert round(gamma, 2) == 0.02"
   ]
  },
  {
   "cell_type": "code",
   "execution_count": null,
   "metadata": {},
   "outputs": [],
   "source": [
    "data_est = sir_epidemic(0.99, 0.01, 0, beta, gamma, 1000, 1)\n",
    "\n",
    "plt.plot(data[:, 1], label=\"I, ground truth\")\n",
    "plt.plot(data_est[:, 1], label=\"I, estimation\")\n",
    "plt.xlabel(\"time\")\n",
    "plt.ylabel(\"proportion\")\n",
    "plt.legend()\n",
    "plt.title(\"SIR model\")"
   ]
  },
  {
   "cell_type": "code",
   "execution_count": null,
   "metadata": {},
   "outputs": [],
   "source": []
  }
 ],
 "metadata": {
  "kernelspec": {
   "display_name": "Python 3",
   "language": "python",
   "name": "python3"
  },
  "language_info": {
   "codemirror_mode": {
    "name": "ipython",
    "version": 3
   },
   "file_extension": ".py",
   "mimetype": "text/x-python",
   "name": "python",
   "nbconvert_exporter": "python",
   "pygments_lexer": "ipython3",
   "version": "3.7.6"
  }
 },
 "nbformat": 4,
 "nbformat_minor": 2
}
