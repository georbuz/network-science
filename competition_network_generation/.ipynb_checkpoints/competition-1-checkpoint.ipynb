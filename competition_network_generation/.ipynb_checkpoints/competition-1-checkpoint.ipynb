{
 "cells": [
  {
   "cell_type": "code",
   "execution_count": 1,
   "metadata": {},
   "outputs": [],
   "source": [
    "import networkx as nx\n",
    "import numpy as np\n",
    "from scipy.stats import ks_2samp\n",
    "import random"
   ]
  },
  {
   "cell_type": "code",
   "execution_count": 5,
   "metadata": {},
   "outputs": [],
   "source": [
    "with open(\"stats.txt\", \"r\") as f:\n",
    "    true_stats = json.load(f)"
   ]
  },
  {
   "cell_type": "code",
   "execution_count": 4,
   "metadata": {},
   "outputs": [],
   "source": [
    "import json"
   ]
  },
  {
   "cell_type": "code",
   "execution_count": null,
   "metadata": {},
   "outputs": [],
   "source": [
    "json.load()"
   ]
  },
  {
   "cell_type": "code",
   "execution_count": 6,
   "metadata": {},
   "outputs": [
    {
     "data": {
      "text/plain": [
       "{'number_nodes': 1882,\n",
       " 'radius': [15, 2],\n",
       " 'diameter': [28, 4],\n",
       " 'average_clustering': [0.005066798238955518, 0.001],\n",
       " 'average_path_length': [11.748410823170731, 2],\n",
       " 'number_cc': [168, 32],\n",
       " 'degree_cdf': [[0,\n",
       "   1,\n",
       "   2,\n",
       "   3,\n",
       "   4,\n",
       "   5,\n",
       "   6,\n",
       "   7,\n",
       "   8,\n",
       "   9,\n",
       "   10,\n",
       "   11,\n",
       "   12,\n",
       "   13,\n",
       "   14,\n",
       "   15,\n",
       "   16,\n",
       "   17,\n",
       "   19,\n",
       "   21,\n",
       "   24,\n",
       "   46],\n",
       "  [0.0,\n",
       "   0.6902231668437833,\n",
       "   0.8517534537725824,\n",
       "   0.9086078639744952,\n",
       "   0.9378320935175345,\n",
       "   0.9516471838469713,\n",
       "   0.9654622741764081,\n",
       "   0.9723698193411264,\n",
       "   0.9776833156216791,\n",
       "   0.9808714133900106,\n",
       "   0.9845908607863975,\n",
       "   0.9888416578108395,\n",
       "   0.9893730074388948,\n",
       "   0.9925611052072264,\n",
       "   0.9936238044633369,\n",
       "   0.9952178533475027,\n",
       "   0.9957492029755579,\n",
       "   0.9968119022316685,\n",
       "   0.997874601487779,\n",
       "   0.9989373007438895,\n",
       "   0.9994686503719448,\n",
       "   1.0]]}"
      ]
     },
     "execution_count": 6,
     "metadata": {},
     "output_type": "execute_result"
    }
   ],
   "source": [
    "true_stats"
   ]
  }
 ],
 "metadata": {
  "kernelspec": {
   "display_name": "Python 3",
   "language": "python",
   "name": "python3"
  },
  "language_info": {
   "codemirror_mode": {
    "name": "ipython",
    "version": 3
   },
   "file_extension": ".py",
   "mimetype": "text/x-python",
   "name": "python",
   "nbconvert_exporter": "python",
   "pygments_lexer": "ipython3",
   "version": "3.8.3"
  }
 },
 "nbformat": 4,
 "nbformat_minor": 4
}
