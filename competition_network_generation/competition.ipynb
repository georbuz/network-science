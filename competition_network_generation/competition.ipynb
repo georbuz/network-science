{
 "cells": [
  {
   "cell_type": "markdown",
   "metadata": {},
   "source": [
    "# Competition — Network Generation"
   ]
  },
  {
   "cell_type": "markdown",
   "metadata": {},
   "source": [
    "### Challenge Overview"
   ]
  },
  {
   "cell_type": "markdown",
   "metadata": {},
   "source": [
    "Your goal is to generate a network that is as close as possible to the original real network. You do not have the original network in the explicit view, but you know some of its statistics. All statistics are in `stats.txt` file that contains a dictionary of the form\n",
    "* number_nodes (number of nodes): value\n",
    "* number_cc (number of connected components): value, sigma\n",
    "* radius (radius of giant component): value, sigma\n",
    "* diameter (diameter of giant component): value, sigma\n",
    "* average_clustering (average clustering coefficient): value, sigma\n",
    "* average_path_length (average path length): value, sigma\n",
    "* degree_cdf (empirical CDF of degree distribution): values, probabilities\n",
    "\n",
    "Meaning of all these sigmas is described in Evaluation section. \n",
    "\n",
    "You can use this code to draw CDF\n",
    "```python\n",
    "q_seq, p_seq = stats['degree_cdf']\n",
    "    plt.plot(\n",
    "        np.append(np.repeat(q_seq, 2)[1:], q_seq[-1]), \n",
    "        np.repeat(p_seq, 2)\n",
    "    )\n",
    "    plt.show()\n",
    "```"
   ]
  },
  {
   "cell_type": "markdown",
   "metadata": {},
   "source": [
    "### Evaluation Criteria"
   ]
  },
  {
   "cell_type": "markdown",
   "metadata": {},
   "source": [
    "Your total score is calculated as weighted sum of 6 scores — similarities between statistics of original and generated networks. Each score takes values from the interval [0, 1], where 1 — absolute similarity with the original network. The scores are\n",
    "* \"KS\"\n",
    "    * 1 - KS_dist\n",
    "    * where KS_dist is Kolmogorov-Smirnov test statistic value\n",
    "* \"Radius\"\n",
    "    * $\\text{GK}(r, r', \\sigma_r) = \\exp\\left[-\\frac{(r - r')^2}{2\\sigma_r^2}\\right]$\n",
    "    * where GK is Gaussian Kernel, $r$ is a radius of the original network, $r'$ is a radius of a generated network, $\\sigma_r$ is a sigma of a radius from `stats.txt` file\n",
    "* \"Diameter\", \"Av. clustering\", \"Av. path length\", \"Number of CC\" are calculated by Gaussian Kernel in the same way\n",
    "* \"Total\"\n",
    "    * 1/6 KS + 1/6 Radius + 1/6 Diameter + 1/6 Av. clustering + 1/6 Av. path length + 1/6 Number of CC\n",
    "\n",
    "All scores immediately take value 0 if a generated network has incorrect number of nodes. All scores are multiplied by 100 on the leaderboard.\n",
    "\n",
    "**Baselines**\n",
    "\n",
    "Baselines are calculated by the following algorithm:\n",
    "1. Generate a random degree sequence using Inverse Transform Sampling\n",
    "2. Generate a valid graph by Configuration Model\n",
    "3. Calculate total score\n",
    "4. Repeat 1-3 steps 1000 times and accumulate a set of total scores\n",
    "\n",
    "* Baseline for grade 4: beat a mean total score\n",
    "* Baseline for grade 6: beat a mean + 3*sigma total score\n",
    "* Baseline for grade 8: beat a maximum total score\n",
    "\n",
    "Calculated baselines are in the leaderboard."
   ]
  },
  {
   "cell_type": "markdown",
   "metadata": {},
   "source": [
    "### Submission Guidelines"
   ]
  },
  {
   "cell_type": "markdown",
   "metadata": {},
   "source": [
    "Submit a txt file with a list of edges without self-loops and parallels. The correct form is\n",
    "```\n",
    "1 2\n",
    "1 3\n",
    "3 2\n",
    "```\n",
    "and so on."
   ]
  },
  {
   "cell_type": "code",
   "execution_count": null,
   "metadata": {},
   "outputs": [],
   "source": []
  }
 ],
 "metadata": {
  "kernelspec": {
   "display_name": "Python 3",
   "language": "python",
   "name": "python3"
  },
  "language_info": {
   "codemirror_mode": {
    "name": "ipython",
    "version": 3
   },
   "file_extension": ".py",
   "mimetype": "text/x-python",
   "name": "python",
   "nbconvert_exporter": "python",
   "pygments_lexer": "ipython3",
   "version": "3.7.4"
  }
 },
 "nbformat": 4,
 "nbformat_minor": 4
}
